{
 "cells": [
  {
   "cell_type": "markdown",
   "metadata": {},
   "source": [
    "# Players Natioanlity Map"
   ]
  },
  {
   "cell_type": "code",
   "execution_count": 22,
   "metadata": {},
   "outputs": [
    {
     "data": {
      "text/html": [
       "<div style=\"width:100%;\"><div style=\"position:relative;width:100%;height:0;padding-bottom:60%;\"><span style=\"color:#565656\">Make this Notebook Trusted to load map: File -> Trust Notebook</span><iframe srcdoc=\"&lt;!DOCTYPE html&gt;\n",
       "&lt;html&gt;\n",
       "&lt;head&gt;\n",
       "    \n",
       "    &lt;meta http-equiv=&quot;content-type&quot; content=&quot;text/html; charset=UTF-8&quot; /&gt;\n",
       "    \n",
       "        &lt;script&gt;\n",
       "            L_NO_TOUCH = false;\n",
       "            L_DISABLE_3D = false;\n",
       "        &lt;/script&gt;\n",
       "    \n",
       "    &lt;style&gt;html, body {width: 100%;height: 100%;margin: 0;padding: 0;}&lt;/style&gt;\n",
       "    &lt;style&gt;#map {position:absolute;top:0;bottom:0;right:0;left:0;}&lt;/style&gt;\n",
       "    &lt;script src=&quot;https://cdn.jsdelivr.net/npm/leaflet@1.9.3/dist/leaflet.js&quot;&gt;&lt;/script&gt;\n",
       "    &lt;script src=&quot;https://code.jquery.com/jquery-3.7.1.min.js&quot;&gt;&lt;/script&gt;\n",
       "    &lt;script src=&quot;https://cdn.jsdelivr.net/npm/bootstrap@5.2.2/dist/js/bootstrap.bundle.min.js&quot;&gt;&lt;/script&gt;\n",
       "    &lt;script src=&quot;https://cdnjs.cloudflare.com/ajax/libs/Leaflet.awesome-markers/2.0.2/leaflet.awesome-markers.js&quot;&gt;&lt;/script&gt;\n",
       "    &lt;link rel=&quot;stylesheet&quot; href=&quot;https://cdn.jsdelivr.net/npm/leaflet@1.9.3/dist/leaflet.css&quot;/&gt;\n",
       "    &lt;link rel=&quot;stylesheet&quot; href=&quot;https://cdn.jsdelivr.net/npm/bootstrap@5.2.2/dist/css/bootstrap.min.css&quot;/&gt;\n",
       "    &lt;link rel=&quot;stylesheet&quot; href=&quot;https://netdna.bootstrapcdn.com/bootstrap/3.0.0/css/bootstrap.min.css&quot;/&gt;\n",
       "    &lt;link rel=&quot;stylesheet&quot; href=&quot;https://cdn.jsdelivr.net/npm/@fortawesome/fontawesome-free@6.2.0/css/all.min.css&quot;/&gt;\n",
       "    &lt;link rel=&quot;stylesheet&quot; href=&quot;https://cdnjs.cloudflare.com/ajax/libs/Leaflet.awesome-markers/2.0.2/leaflet.awesome-markers.css&quot;/&gt;\n",
       "    &lt;link rel=&quot;stylesheet&quot; href=&quot;https://cdn.jsdelivr.net/gh/python-visualization/folium/folium/templates/leaflet.awesome.rotate.min.css&quot;/&gt;\n",
       "    \n",
       "            &lt;meta name=&quot;viewport&quot; content=&quot;width=device-width,\n",
       "                initial-scale=1.0, maximum-scale=1.0, user-scalable=no&quot; /&gt;\n",
       "            &lt;style&gt;\n",
       "                #map_d6acd74d4c0fadd3bec37e035c2b04cd {\n",
       "                    position: relative;\n",
       "                    width: 100.0%;\n",
       "                    height: 100.0%;\n",
       "                    left: 0.0%;\n",
       "                    top: 0.0%;\n",
       "                }\n",
       "                .leaflet-container { font-size: 1rem; }\n",
       "            &lt;/style&gt;\n",
       "        \n",
       "&lt;/head&gt;\n",
       "&lt;body&gt;\n",
       "    \n",
       "    \n",
       "            &lt;div class=&quot;folium-map&quot; id=&quot;map_d6acd74d4c0fadd3bec37e035c2b04cd&quot; &gt;&lt;/div&gt;\n",
       "        \n",
       "&lt;/body&gt;\n",
       "&lt;script&gt;\n",
       "    \n",
       "    \n",
       "            var map_d6acd74d4c0fadd3bec37e035c2b04cd = L.map(\n",
       "                &quot;map_d6acd74d4c0fadd3bec37e035c2b04cd&quot;,\n",
       "                {\n",
       "                    center: [0.0, 0.0],\n",
       "                    crs: L.CRS.EPSG3857,\n",
       "                    zoom: 2,\n",
       "                    zoomControl: true,\n",
       "                    preferCanvas: false,\n",
       "                }\n",
       "            );\n",
       "\n",
       "            \n",
       "\n",
       "        \n",
       "    \n",
       "            var tile_layer_3822768819bdeefed0f0f4b85d967f1f = L.tileLayer(\n",
       "                &quot;https://tile.openstreetmap.org/{z}/{x}/{y}.png&quot;,\n",
       "                {&quot;attribution&quot;: &quot;\\u0026copy; \\u003ca href=\\&quot;https://www.openstreetmap.org/copyright\\&quot;\\u003eOpenStreetMap\\u003c/a\\u003e contributors&quot;, &quot;detectRetina&quot;: false, &quot;maxNativeZoom&quot;: 19, &quot;maxZoom&quot;: 19, &quot;minZoom&quot;: 0, &quot;noWrap&quot;: false, &quot;opacity&quot;: 1, &quot;subdomains&quot;: &quot;abc&quot;, &quot;tms&quot;: false}\n",
       "            );\n",
       "        \n",
       "    \n",
       "            tile_layer_3822768819bdeefed0f0f4b85d967f1f.addTo(map_d6acd74d4c0fadd3bec37e035c2b04cd);\n",
       "        \n",
       "    \n",
       "            var circle_marker_f2a2135e61a0e1f57ca49412fc90317d = L.circleMarker(\n",
       "                [-41.5000831, 172.8344077],\n",
       "                {&quot;bubblingMouseEvents&quot;: true, &quot;color&quot;: &quot;#1B3770&quot;, &quot;dashArray&quot;: null, &quot;dashOffset&quot;: null, &quot;fill&quot;: true, &quot;fillColor&quot;: &quot;#1B3770&quot;, &quot;fillOpacity&quot;: 0.6, &quot;fillRule&quot;: &quot;evenodd&quot;, &quot;lineCap&quot;: &quot;round&quot;, &quot;lineJoin&quot;: &quot;round&quot;, &quot;opacity&quot;: 1.0, &quot;radius&quot;: 5, &quot;stroke&quot;: true, &quot;weight&quot;: 3}\n",
       "            ).addTo(map_d6acd74d4c0fadd3bec37e035c2b04cd);\n",
       "        \n",
       "    \n",
       "        var popup_c1c92e8a8a77517d3c402c9be2add9be = L.popup({&quot;maxWidth&quot;: 300, &quot;minWidth&quot;: 200});\n",
       "\n",
       "        \n",
       "            \n",
       "                var html_f96ccaf39a82eed11123dac819adb165 = $(`&lt;div id=&quot;html_f96ccaf39a82eed11123dac819adb165&quot; style=&quot;width: 100.0%; height: 100.0%;&quot;&gt;New Zealand: 2 players&lt;/div&gt;`)[0];\n",
       "                popup_c1c92e8a8a77517d3c402c9be2add9be.setContent(html_f96ccaf39a82eed11123dac819adb165);\n",
       "            \n",
       "        \n",
       "\n",
       "        circle_marker_f2a2135e61a0e1f57ca49412fc90317d.bindPopup(popup_c1c92e8a8a77517d3c402c9be2add9be)\n",
       "        ;\n",
       "\n",
       "        \n",
       "    \n",
       "    \n",
       "            var circle_marker_3c56ffcd2c4c8f5415350de52c63ef67 = L.circleMarker(\n",
       "                [-34.9964963, -64.9672817],\n",
       "                {&quot;bubblingMouseEvents&quot;: true, &quot;color&quot;: &quot;#C8102E&quot;, &quot;dashArray&quot;: null, &quot;dashOffset&quot;: null, &quot;fill&quot;: true, &quot;fillColor&quot;: &quot;#C8102E&quot;, &quot;fillOpacity&quot;: 0.6, &quot;fillRule&quot;: &quot;evenodd&quot;, &quot;lineCap&quot;: &quot;round&quot;, &quot;lineJoin&quot;: &quot;round&quot;, &quot;opacity&quot;: 1.0, &quot;radius&quot;: 5, &quot;stroke&quot;: true, &quot;weight&quot;: 3}\n",
       "            ).addTo(map_d6acd74d4c0fadd3bec37e035c2b04cd);\n",
       "        \n",
       "    \n",
       "        var popup_750b897f261a109486511c61c419c095 = L.popup({&quot;maxWidth&quot;: 300, &quot;minWidth&quot;: 200});\n",
       "\n",
       "        \n",
       "            \n",
       "                var html_86d7331a97c95a8ecc6ab97f45e47694 = $(`&lt;div id=&quot;html_86d7331a97c95a8ecc6ab97f45e47694&quot; style=&quot;width: 100.0%; height: 100.0%;&quot;&gt;Argentina: 15 players&lt;/div&gt;`)[0];\n",
       "                popup_750b897f261a109486511c61c419c095.setContent(html_86d7331a97c95a8ecc6ab97f45e47694);\n",
       "            \n",
       "        \n",
       "\n",
       "        circle_marker_3c56ffcd2c4c8f5415350de52c63ef67.bindPopup(popup_750b897f261a109486511c61c419c095)\n",
       "        ;\n",
       "\n",
       "        \n",
       "    \n",
       "    \n",
       "            var circle_marker_95d8a4a5d8adee55a2a22c01ca796b72 = L.circleMarker(\n",
       "                [-29.6826112, -51.4687455],\n",
       "                {&quot;bubblingMouseEvents&quot;: true, &quot;color&quot;: &quot;#1B3770&quot;, &quot;dashArray&quot;: null, &quot;dashOffset&quot;: null, &quot;fill&quot;: true, &quot;fillColor&quot;: &quot;#1B3770&quot;, &quot;fillOpacity&quot;: 0.6, &quot;fillRule&quot;: &quot;evenodd&quot;, &quot;lineCap&quot;: &quot;round&quot;, &quot;lineJoin&quot;: &quot;round&quot;, &quot;opacity&quot;: 1.0, &quot;radius&quot;: 5, &quot;stroke&quot;: true, &quot;weight&quot;: 3}\n",
       "            ).addTo(map_d6acd74d4c0fadd3bec37e035c2b04cd);\n",
       "        \n",
       "    \n",
       "        var popup_cea129384b4404451cd8f5b289fe434a = L.popup({&quot;maxWidth&quot;: 300, &quot;minWidth&quot;: 200});\n",
       "\n",
       "        \n",
       "            \n",
       "                var html_cd676d327ab4de1d93500aa611a57acd = $(`&lt;div id=&quot;html_cd676d327ab4de1d93500aa611a57acd&quot; style=&quot;width: 100.0%; height: 100.0%;&quot;&gt;Montenegro: 5 players&lt;/div&gt;`)[0];\n",
       "                popup_cea129384b4404451cd8f5b289fe434a.setContent(html_cd676d327ab4de1d93500aa611a57acd);\n",
       "            \n",
       "        \n",
       "\n",
       "        circle_marker_95d8a4a5d8adee55a2a22c01ca796b72.bindPopup(popup_cea129384b4404451cd8f5b289fe434a)\n",
       "        ;\n",
       "\n",
       "        \n",
       "    \n",
       "    \n",
       "            var circle_marker_c7b8bf7581f8168e81f7bdce7ae08cbe = L.circleMarker(\n",
       "                [-24.7761086, 134.755],\n",
       "                {&quot;bubblingMouseEvents&quot;: true, &quot;color&quot;: &quot;#C8102E&quot;, &quot;dashArray&quot;: null, &quot;dashOffset&quot;: null, &quot;fill&quot;: true, &quot;fillColor&quot;: &quot;#C8102E&quot;, &quot;fillOpacity&quot;: 0.6, &quot;fillRule&quot;: &quot;evenodd&quot;, &quot;lineCap&quot;: &quot;round&quot;, &quot;lineJoin&quot;: &quot;round&quot;, &quot;opacity&quot;: 1.0, &quot;radius&quot;: 5, &quot;stroke&quot;: true, &quot;weight&quot;: 3}\n",
       "            ).addTo(map_d6acd74d4c0fadd3bec37e035c2b04cd);\n",
       "        \n",
       "    \n",
       "        var popup_7d592337da1f61620381909883edd042 = L.popup({&quot;maxWidth&quot;: 300, &quot;minWidth&quot;: 200});\n",
       "\n",
       "        \n",
       "            \n",
       "                var html_1d0a52cbfea0baf1386393a221007845 = $(`&lt;div id=&quot;html_1d0a52cbfea0baf1386393a221007845&quot; style=&quot;width: 100.0%; height: 100.0%;&quot;&gt;Australia: 23 players&lt;/div&gt;`)[0];\n",
       "                popup_7d592337da1f61620381909883edd042.setContent(html_1d0a52cbfea0baf1386393a221007845);\n",
       "            \n",
       "        \n",
       "\n",
       "        circle_marker_c7b8bf7581f8168e81f7bdce7ae08cbe.bindPopup(popup_7d592337da1f61620381909883edd042)\n",
       "        ;\n",
       "\n",
       "        \n",
       "    \n",
       "    \n",
       "            var circle_marker_c0f65892e5bd8f01d98b951a359523dc = L.circleMarker(\n",
       "                [-11.8775768, 17.5691241],\n",
       "                {&quot;bubblingMouseEvents&quot;: true, &quot;color&quot;: &quot;#1B3770&quot;, &quot;dashArray&quot;: null, &quot;dashOffset&quot;: null, &quot;fill&quot;: true, &quot;fillColor&quot;: &quot;#1B3770&quot;, &quot;fillOpacity&quot;: 0.6, &quot;fillRule&quot;: &quot;evenodd&quot;, &quot;lineCap&quot;: &quot;round&quot;, &quot;lineJoin&quot;: &quot;round&quot;, &quot;opacity&quot;: 1.0, &quot;radius&quot;: 5, &quot;stroke&quot;: true, &quot;weight&quot;: 3}\n",
       "            ).addTo(map_d6acd74d4c0fadd3bec37e035c2b04cd);\n",
       "        \n",
       "    \n",
       "        var popup_68704684a415bb46f19e1f60a36c3a12 = L.popup({&quot;maxWidth&quot;: 300, &quot;minWidth&quot;: 200});\n",
       "\n",
       "        \n",
       "            \n",
       "                var html_e71a9eaf639bd5550401e5d2eedf4298 = $(`&lt;div id=&quot;html_e71a9eaf639bd5550401e5d2eedf4298&quot; style=&quot;width: 100.0%; height: 100.0%;&quot;&gt;Angola: 1 players&lt;/div&gt;`)[0];\n",
       "                popup_68704684a415bb46f19e1f60a36c3a12.setContent(html_e71a9eaf639bd5550401e5d2eedf4298);\n",
       "            \n",
       "        \n",
       "\n",
       "        circle_marker_c0f65892e5bd8f01d98b951a359523dc.bindPopup(popup_68704684a415bb46f19e1f60a36c3a12)\n",
       "        ;\n",
       "\n",
       "        \n",
       "    \n",
       "    \n",
       "            var circle_marker_4cf851959a4ec2cf2c7cd5905ed2717c = L.circleMarker(\n",
       "                [-10.3333333, -53.2],\n",
       "                {&quot;bubblingMouseEvents&quot;: true, &quot;color&quot;: &quot;#C8102E&quot;, &quot;dashArray&quot;: null, &quot;dashOffset&quot;: null, &quot;fill&quot;: true, &quot;fillColor&quot;: &quot;#C8102E&quot;, &quot;fillOpacity&quot;: 0.6, &quot;fillRule&quot;: &quot;evenodd&quot;, &quot;lineCap&quot;: &quot;round&quot;, &quot;lineJoin&quot;: &quot;round&quot;, &quot;opacity&quot;: 1.0, &quot;radius&quot;: 5, &quot;stroke&quot;: true, &quot;weight&quot;: 3}\n",
       "            ).addTo(map_d6acd74d4c0fadd3bec37e035c2b04cd);\n",
       "        \n",
       "    \n",
       "        var popup_d766eedc11baec11987e93c20e90e67b = L.popup({&quot;maxWidth&quot;: 300, &quot;minWidth&quot;: 200});\n",
       "\n",
       "        \n",
       "            \n",
       "                var html_fbc8d871791bdbef9a769d6c78bda930 = $(`&lt;div id=&quot;html_fbc8d871791bdbef9a769d6c78bda930&quot; style=&quot;width: 100.0%; height: 100.0%;&quot;&gt;Brazil: 12 players&lt;/div&gt;`)[0];\n",
       "                popup_d766eedc11baec11987e93c20e90e67b.setContent(html_fbc8d871791bdbef9a769d6c78bda930);\n",
       "            \n",
       "        \n",
       "\n",
       "        circle_marker_4cf851959a4ec2cf2c7cd5905ed2717c.bindPopup(popup_d766eedc11baec11987e93c20e90e67b)\n",
       "        ;\n",
       "\n",
       "        \n",
       "    \n",
       "    \n",
       "            var circle_marker_87330a3381dafa643c6fa27cb8ac4a31 = L.circleMarker(\n",
       "                [-6.5247123, 35.7878438],\n",
       "                {&quot;bubblingMouseEvents&quot;: true, &quot;color&quot;: &quot;#1B3770&quot;, &quot;dashArray&quot;: null, &quot;dashOffset&quot;: null, &quot;fill&quot;: true, &quot;fillColor&quot;: &quot;#1B3770&quot;, &quot;fillOpacity&quot;: 0.6, &quot;fillRule&quot;: &quot;evenodd&quot;, &quot;lineCap&quot;: &quot;round&quot;, &quot;lineJoin&quot;: &quot;round&quot;, &quot;opacity&quot;: 1.0, &quot;radius&quot;: 5, &quot;stroke&quot;: true, &quot;weight&quot;: 3}\n",
       "            ).addTo(map_d6acd74d4c0fadd3bec37e035c2b04cd);\n",
       "        \n",
       "    \n",
       "        var popup_17abdface5ac30f08ac5452256b3f1c7 = L.popup({&quot;maxWidth&quot;: 300, &quot;minWidth&quot;: 200});\n",
       "\n",
       "        \n",
       "            \n",
       "                var html_7c0a364fcb0481055148b2e55d4f9a47 = $(`&lt;div id=&quot;html_7c0a364fcb0481055148b2e55d4f9a47&quot; style=&quot;width: 100.0%; height: 100.0%;&quot;&gt;Tanzania: 1 players&lt;/div&gt;`)[0];\n",
       "                popup_17abdface5ac30f08ac5452256b3f1c7.setContent(html_7c0a364fcb0481055148b2e55d4f9a47);\n",
       "            \n",
       "        \n",
       "\n",
       "        circle_marker_87330a3381dafa643c6fa27cb8ac4a31.bindPopup(popup_17abdface5ac30f08ac5452256b3f1c7)\n",
       "        ;\n",
       "\n",
       "        \n",
       "    \n",
       "    \n",
       "            var circle_marker_e909df553030acbf56ca763281f6847e = L.circleMarker(\n",
       "                [-2.9814344, 23.8222636],\n",
       "                {&quot;bubblingMouseEvents&quot;: true, &quot;color&quot;: &quot;#1B3770&quot;, &quot;dashArray&quot;: null, &quot;dashOffset&quot;: null, &quot;fill&quot;: true, &quot;fillColor&quot;: &quot;#1B3770&quot;, &quot;fillOpacity&quot;: 0.6, &quot;fillRule&quot;: &quot;evenodd&quot;, &quot;lineCap&quot;: &quot;round&quot;, &quot;lineJoin&quot;: &quot;round&quot;, &quot;opacity&quot;: 1.0, &quot;radius&quot;: 5, &quot;stroke&quot;: true, &quot;weight&quot;: 3}\n",
       "            ).addTo(map_d6acd74d4c0fadd3bec37e035c2b04cd);\n",
       "        \n",
       "    \n",
       "        var popup_6f1199f52103cb7a78894983181857d0 = L.popup({&quot;maxWidth&quot;: 300, &quot;minWidth&quot;: 200});\n",
       "\n",
       "        \n",
       "            \n",
       "                var html_4c9c34671ef0c353923e3920196fadc5 = $(`&lt;div id=&quot;html_4c9c34671ef0c353923e3920196fadc5&quot; style=&quot;width: 100.0%; height: 100.0%;&quot;&gt;DRC: 4 players&lt;/div&gt;`)[0];\n",
       "                popup_6f1199f52103cb7a78894983181857d0.setContent(html_4c9c34671ef0c353923e3920196fadc5);\n",
       "            \n",
       "        \n",
       "\n",
       "        circle_marker_e909df553030acbf56ca763281f6847e.bindPopup(popup_6f1199f52103cb7a78894983181857d0)\n",
       "        ;\n",
       "\n",
       "        \n",
       "    \n",
       "    \n",
       "            var circle_marker_2bf3c84a687c002218ada0e8dd8fb46e = L.circleMarker(\n",
       "                [-0.8999695, 11.6899699],\n",
       "                {&quot;bubblingMouseEvents&quot;: true, &quot;color&quot;: &quot;#1B3770&quot;, &quot;dashArray&quot;: null, &quot;dashOffset&quot;: null, &quot;fill&quot;: true, &quot;fillColor&quot;: &quot;#1B3770&quot;, &quot;fillOpacity&quot;: 0.6, &quot;fillRule&quot;: &quot;evenodd&quot;, &quot;lineCap&quot;: &quot;round&quot;, &quot;lineJoin&quot;: &quot;round&quot;, &quot;opacity&quot;: 1.0, &quot;radius&quot;: 5, &quot;stroke&quot;: true, &quot;weight&quot;: 3}\n",
       "            ).addTo(map_d6acd74d4c0fadd3bec37e035c2b04cd);\n",
       "        \n",
       "    \n",
       "        var popup_c3e5c7aa5b32b38640afdde12bb41887 = L.popup({&quot;maxWidth&quot;: 300, &quot;minWidth&quot;: 200});\n",
       "\n",
       "        \n",
       "            \n",
       "                var html_186f786c79b906bb871bd679f2a4bbc6 = $(`&lt;div id=&quot;html_186f786c79b906bb871bd679f2a4bbc6&quot; style=&quot;width: 100.0%; height: 100.0%;&quot;&gt;Gabon: 1 players&lt;/div&gt;`)[0];\n",
       "                popup_c3e5c7aa5b32b38640afdde12bb41887.setContent(html_186f786c79b906bb871bd679f2a4bbc6);\n",
       "            \n",
       "        \n",
       "\n",
       "        circle_marker_2bf3c84a687c002218ada0e8dd8fb46e.bindPopup(popup_c3e5c7aa5b32b38640afdde12bb41887)\n",
       "        ;\n",
       "\n",
       "        \n",
       "    \n",
       "    \n",
       "            var circle_marker_9001e36113af729bd29c83c045f0b82d = L.circleMarker(\n",
       "                [4.099917, -72.9088133],\n",
       "                {&quot;bubblingMouseEvents&quot;: true, &quot;color&quot;: &quot;#1B3770&quot;, &quot;dashArray&quot;: null, &quot;dashOffset&quot;: null, &quot;fill&quot;: true, &quot;fillColor&quot;: &quot;#1B3770&quot;, &quot;fillOpacity&quot;: 0.6, &quot;fillRule&quot;: &quot;evenodd&quot;, &quot;lineCap&quot;: &quot;round&quot;, &quot;lineJoin&quot;: &quot;round&quot;, &quot;opacity&quot;: 1.0, &quot;radius&quot;: 5, &quot;stroke&quot;: true, &quot;weight&quot;: 3}\n",
       "            ).addTo(map_d6acd74d4c0fadd3bec37e035c2b04cd);\n",
       "        \n",
       "    \n",
       "        var popup_9df7e720e3e65f390d0315298d79fcad = L.popup({&quot;maxWidth&quot;: 300, &quot;minWidth&quot;: 200});\n",
       "\n",
       "        \n",
       "            \n",
       "                var html_fd6eb328dee733c39f83d8b17ef0f376 = $(`&lt;div id=&quot;html_fd6eb328dee733c39f83d8b17ef0f376&quot; style=&quot;width: 100.0%; height: 100.0%;&quot;&gt;Colombia: 1 players&lt;/div&gt;`)[0];\n",
       "                popup_9df7e720e3e65f390d0315298d79fcad.setContent(html_fd6eb328dee733c39f83d8b17ef0f376);\n",
       "            \n",
       "        \n",
       "\n",
       "        circle_marker_9001e36113af729bd29c83c045f0b82d.bindPopup(popup_9df7e720e3e65f390d0315298d79fcad)\n",
       "        ;\n",
       "\n",
       "        \n",
       "    \n",
       "    \n",
       "            var circle_marker_4485ae89b5625b07acb1dc08baf697bc = L.circleMarker(\n",
       "                [4.6125522, 13.1535811],\n",
       "                {&quot;bubblingMouseEvents&quot;: true, &quot;color&quot;: &quot;#1B3770&quot;, &quot;dashArray&quot;: null, &quot;dashOffset&quot;: null, &quot;fill&quot;: true, &quot;fillColor&quot;: &quot;#1B3770&quot;, &quot;fillOpacity&quot;: 0.6, &quot;fillRule&quot;: &quot;evenodd&quot;, &quot;lineCap&quot;: &quot;round&quot;, &quot;lineJoin&quot;: &quot;round&quot;, &quot;opacity&quot;: 1.0, &quot;radius&quot;: 5, &quot;stroke&quot;: true, &quot;weight&quot;: 3}\n",
       "            ).addTo(map_d6acd74d4c0fadd3bec37e035c2b04cd);\n",
       "        \n",
       "    \n",
       "        var popup_f082224412e8e44956d85c0e37aaa525 = L.popup({&quot;maxWidth&quot;: 300, &quot;minWidth&quot;: 200});\n",
       "\n",
       "        \n",
       "            \n",
       "                var html_6bfedae9d1e660fce97213bd3f3ad6e0 = $(`&lt;div id=&quot;html_6bfedae9d1e660fce97213bd3f3ad6e0&quot; style=&quot;width: 100.0%; height: 100.0%;&quot;&gt;Cameroon: 4 players&lt;/div&gt;`)[0];\n",
       "                popup_f082224412e8e44956d85c0e37aaa525.setContent(html_6bfedae9d1e660fce97213bd3f3ad6e0);\n",
       "            \n",
       "        \n",
       "\n",
       "        circle_marker_4485ae89b5625b07acb1dc08baf697bc.bindPopup(popup_f082224412e8e44956d85c0e37aaa525)\n",
       "        ;\n",
       "\n",
       "        \n",
       "    \n",
       "    \n",
       "            var circle_marker_361924b153d76061bd30224ea79818dd = L.circleMarker(\n",
       "                [7.8699431, 29.6667897],\n",
       "                {&quot;bubblingMouseEvents&quot;: true, &quot;color&quot;: &quot;#1B3770&quot;, &quot;dashArray&quot;: null, &quot;dashOffset&quot;: null, &quot;fill&quot;: true, &quot;fillColor&quot;: &quot;#1B3770&quot;, &quot;fillOpacity&quot;: 0.6, &quot;fillRule&quot;: &quot;evenodd&quot;, &quot;lineCap&quot;: &quot;round&quot;, &quot;lineJoin&quot;: &quot;round&quot;, &quot;opacity&quot;: 1.0, &quot;radius&quot;: 5, &quot;stroke&quot;: true, &quot;weight&quot;: 3}\n",
       "            ).addTo(map_d6acd74d4c0fadd3bec37e035c2b04cd);\n",
       "        \n",
       "    \n",
       "        var popup_38deae38c4cb07950337402eef7f5635 = L.popup({&quot;maxWidth&quot;: 300, &quot;minWidth&quot;: 200});\n",
       "\n",
       "        \n",
       "            \n",
       "                var html_9ccddfc2561a692b4c8411ee998dd5dc = $(`&lt;div id=&quot;html_9ccddfc2561a692b4c8411ee998dd5dc&quot; style=&quot;width: 100.0%; height: 100.0%;&quot;&gt;South Sudan: 5 players&lt;/div&gt;`)[0];\n",
       "                popup_38deae38c4cb07950337402eef7f5635.setContent(html_9ccddfc2561a692b4c8411ee998dd5dc);\n",
       "            \n",
       "        \n",
       "\n",
       "        circle_marker_361924b153d76061bd30224ea79818dd.bindPopup(popup_38deae38c4cb07950337402eef7f5635)\n",
       "        ;\n",
       "\n",
       "        \n",
       "    \n",
       "    \n",
       "            var circle_marker_6c1e8144659966b8f48675952325dbae = L.circleMarker(\n",
       "                [8.0018709, -66.1109318],\n",
       "                {&quot;bubblingMouseEvents&quot;: true, &quot;color&quot;: &quot;#1B3770&quot;, &quot;dashArray&quot;: null, &quot;dashOffset&quot;: null, &quot;fill&quot;: true, &quot;fillColor&quot;: &quot;#1B3770&quot;, &quot;fillOpacity&quot;: 0.6, &quot;fillRule&quot;: &quot;evenodd&quot;, &quot;lineCap&quot;: &quot;round&quot;, &quot;lineJoin&quot;: &quot;round&quot;, &quot;opacity&quot;: 1.0, &quot;radius&quot;: 5, &quot;stroke&quot;: true, &quot;weight&quot;: 3}\n",
       "            ).addTo(map_d6acd74d4c0fadd3bec37e035c2b04cd);\n",
       "        \n",
       "    \n",
       "        var popup_1ba647dd21831c9cbbe88c39b3b7f795 = L.popup({&quot;maxWidth&quot;: 300, &quot;minWidth&quot;: 200});\n",
       "\n",
       "        \n",
       "            \n",
       "                var html_27ed5f8ad5de109d266da185335a4380 = $(`&lt;div id=&quot;html_27ed5f8ad5de109d266da185335a4380&quot; style=&quot;width: 100.0%; height: 100.0%;&quot;&gt;Venezuela: 2 players&lt;/div&gt;`)[0];\n",
       "                popup_1ba647dd21831c9cbbe88c39b3b7f795.setContent(html_27ed5f8ad5de109d266da185335a4380);\n",
       "            \n",
       "        \n",
       "\n",
       "        circle_marker_6c1e8144659966b8f48675952325dbae.bindPopup(popup_1ba647dd21831c9cbbe88c39b3b7f795)\n",
       "        ;\n",
       "\n",
       "        \n",
       "    \n",
       "    \n",
       "            var circle_marker_7c2c1fc843711d0c0d6be6271a98489e = L.circleMarker(\n",
       "                [8.0300284, -1.0800271],\n",
       "                {&quot;bubblingMouseEvents&quot;: true, &quot;color&quot;: &quot;#1B3770&quot;, &quot;dashArray&quot;: null, &quot;dashOffset&quot;: null, &quot;fill&quot;: true, &quot;fillColor&quot;: &quot;#1B3770&quot;, &quot;fillOpacity&quot;: 0.6, &quot;fillRule&quot;: &quot;evenodd&quot;, &quot;lineCap&quot;: &quot;round&quot;, &quot;lineJoin&quot;: &quot;round&quot;, &quot;opacity&quot;: 1.0, &quot;radius&quot;: 5, &quot;stroke&quot;: true, &quot;weight&quot;: 3}\n",
       "            ).addTo(map_d6acd74d4c0fadd3bec37e035c2b04cd);\n",
       "        \n",
       "    \n",
       "        var popup_f5c65f8ac06956be3a14730608d73f0d = L.popup({&quot;maxWidth&quot;: 300, &quot;minWidth&quot;: 200});\n",
       "\n",
       "        \n",
       "            \n",
       "                var html_df1a52c7f9044386e3bfdf7feeb8f206 = $(`&lt;div id=&quot;html_df1a52c7f9044386e3bfdf7feeb8f206&quot; style=&quot;width: 100.0%; height: 100.0%;&quot;&gt;Ghana: 1 players&lt;/div&gt;`)[0];\n",
       "                popup_f5c65f8ac06956be3a14730608d73f0d.setContent(html_df1a52c7f9044386e3bfdf7feeb8f206);\n",
       "            \n",
       "        \n",
       "\n",
       "        circle_marker_7c2c1fc843711d0c0d6be6271a98489e.bindPopup(popup_f5c65f8ac06956be3a14730608d73f0d)\n",
       "        ;\n",
       "\n",
       "        \n",
       "    \n",
       "    \n",
       "            var circle_marker_dc024507432698293f217a2c62830e46 = L.circleMarker(\n",
       "                [8.559559, -81.1308434],\n",
       "                {&quot;bubblingMouseEvents&quot;: true, &quot;color&quot;: &quot;#1B3770&quot;, &quot;dashArray&quot;: null, &quot;dashOffset&quot;: null, &quot;fill&quot;: true, &quot;fillColor&quot;: &quot;#1B3770&quot;, &quot;fillOpacity&quot;: 0.6, &quot;fillRule&quot;: &quot;evenodd&quot;, &quot;lineCap&quot;: &quot;round&quot;, &quot;lineJoin&quot;: &quot;round&quot;, &quot;opacity&quot;: 1.0, &quot;radius&quot;: 5, &quot;stroke&quot;: true, &quot;weight&quot;: 3}\n",
       "            ).addTo(map_d6acd74d4c0fadd3bec37e035c2b04cd);\n",
       "        \n",
       "    \n",
       "        var popup_ebf204e7bb306da9c0edabe70aed6fe7 = L.popup({&quot;maxWidth&quot;: 300, &quot;minWidth&quot;: 200});\n",
       "\n",
       "        \n",
       "            \n",
       "                var html_9c3047a3f9385d828a94a3632f2cc1f9 = $(`&lt;div id=&quot;html_9c3047a3f9385d828a94a3632f2cc1f9&quot; style=&quot;width: 100.0%; height: 100.0%;&quot;&gt;Panama: 1 players&lt;/div&gt;`)[0];\n",
       "                popup_ebf204e7bb306da9c0edabe70aed6fe7.setContent(html_9c3047a3f9385d828a94a3632f2cc1f9);\n",
       "            \n",
       "        \n",
       "\n",
       "        circle_marker_dc024507432698293f217a2c62830e46.bindPopup(popup_ebf204e7bb306da9c0edabe70aed6fe7)\n",
       "        ;\n",
       "\n",
       "        \n",
       "    \n",
       "    \n",
       "            var circle_marker_8ddefdc128cb1156be060bd98cf497bc = L.circleMarker(\n",
       "                [9.6000359, 7.9999721],\n",
       "                {&quot;bubblingMouseEvents&quot;: true, &quot;color&quot;: &quot;#C8102E&quot;, &quot;dashArray&quot;: null, &quot;dashOffset&quot;: null, &quot;fill&quot;: true, &quot;fillColor&quot;: &quot;#C8102E&quot;, &quot;fillOpacity&quot;: 0.6, &quot;fillRule&quot;: &quot;evenodd&quot;, &quot;lineCap&quot;: &quot;round&quot;, &quot;lineJoin&quot;: &quot;round&quot;, &quot;opacity&quot;: 1.0, &quot;radius&quot;: 5, &quot;stroke&quot;: true, &quot;weight&quot;: 3}\n",
       "            ).addTo(map_d6acd74d4c0fadd3bec37e035c2b04cd);\n",
       "        \n",
       "    \n",
       "        var popup_e23a021222db0e8ec0eed2e731ec2ef8 = L.popup({&quot;maxWidth&quot;: 300, &quot;minWidth&quot;: 200});\n",
       "\n",
       "        \n",
       "            \n",
       "                var html_cc7db23840b6373e37621673e62b99ee = $(`&lt;div id=&quot;html_cc7db23840b6373e37621673e62b99ee&quot; style=&quot;width: 100.0%; height: 100.0%;&quot;&gt;Nigeria: 11 players&lt;/div&gt;`)[0];\n",
       "                popup_e23a021222db0e8ec0eed2e731ec2ef8.setContent(html_cc7db23840b6373e37621673e62b99ee);\n",
       "            \n",
       "        \n",
       "\n",
       "        circle_marker_8ddefdc128cb1156be060bd98cf497bc.bindPopup(popup_e23a021222db0e8ec0eed2e731ec2ef8)\n",
       "        ;\n",
       "\n",
       "        \n",
       "    \n",
       "    \n",
       "            var circle_marker_20093bad88e7122a4dcfcf169657162f = L.circleMarker(\n",
       "                [10.7226226, -10.7083587],\n",
       "                {&quot;bubblingMouseEvents&quot;: true, &quot;color&quot;: &quot;#1B3770&quot;, &quot;dashArray&quot;: null, &quot;dashOffset&quot;: null, &quot;fill&quot;: true, &quot;fillColor&quot;: &quot;#1B3770&quot;, &quot;fillOpacity&quot;: 0.6, &quot;fillRule&quot;: &quot;evenodd&quot;, &quot;lineCap&quot;: &quot;round&quot;, &quot;lineJoin&quot;: &quot;round&quot;, &quot;opacity&quot;: 1.0, &quot;radius&quot;: 5, &quot;stroke&quot;: true, &quot;weight&quot;: 3}\n",
       "            ).addTo(map_d6acd74d4c0fadd3bec37e035c2b04cd);\n",
       "        \n",
       "    \n",
       "        var popup_915cae359c31acea1f846bffef0d5b39 = L.popup({&quot;maxWidth&quot;: 300, &quot;minWidth&quot;: 200});\n",
       "\n",
       "        \n",
       "            \n",
       "                var html_7e4f6223507cc053b63ec5674018fa3a = $(`&lt;div id=&quot;html_7e4f6223507cc053b63ec5674018fa3a&quot; style=&quot;width: 100.0%; height: 100.0%;&quot;&gt;Guinea: 1 players&lt;/div&gt;`)[0];\n",
       "                popup_915cae359c31acea1f846bffef0d5b39.setContent(html_7e4f6223507cc053b63ec5674018fa3a);\n",
       "            \n",
       "        \n",
       "\n",
       "        circle_marker_20093bad88e7122a4dcfcf169657162f.bindPopup(popup_915cae359c31acea1f846bffef0d5b39)\n",
       "        ;\n",
       "\n",
       "        \n",
       "    \n",
       "    \n",
       "            var circle_marker_0f8418a44cb3d3a6d00f7c2abc738f48 = L.circleMarker(\n",
       "                [10.7466905, -61.0840075],\n",
       "                {&quot;bubblingMouseEvents&quot;: true, &quot;color&quot;: &quot;#1B3770&quot;, &quot;dashArray&quot;: null, &quot;dashOffset&quot;: null, &quot;fill&quot;: true, &quot;fillColor&quot;: &quot;#1B3770&quot;, &quot;fillOpacity&quot;: 0.6, &quot;fillRule&quot;: &quot;evenodd&quot;, &quot;lineCap&quot;: &quot;round&quot;, &quot;lineJoin&quot;: &quot;round&quot;, &quot;opacity&quot;: 1.0, &quot;radius&quot;: 5, &quot;stroke&quot;: true, &quot;weight&quot;: 3}\n",
       "            ).addTo(map_d6acd74d4c0fadd3bec37e035c2b04cd);\n",
       "        \n",
       "    \n",
       "        var popup_13367f7de48acbbca4c9be36a5156513 = L.popup({&quot;maxWidth&quot;: 300, &quot;minWidth&quot;: 200});\n",
       "\n",
       "        \n",
       "            \n",
       "                var html_5926ce64af11fbc377ab04bb53826530 = $(`&lt;div id=&quot;html_5926ce64af11fbc377ab04bb53826530&quot; style=&quot;width: 100.0%; height: 100.0%;&quot;&gt;Trinidad and Tobago: 1 players&lt;/div&gt;`)[0];\n",
       "                popup_13367f7de48acbbca4c9be36a5156513.setContent(html_5926ce64af11fbc377ab04bb53826530);\n",
       "            \n",
       "        \n",
       "\n",
       "        circle_marker_0f8418a44cb3d3a6d00f7c2abc738f48.bindPopup(popup_13367f7de48acbbca4c9be36a5156513)\n",
       "        ;\n",
       "\n",
       "        \n",
       "    \n",
       "    \n",
       "            var circle_marker_31e098b8d77839bd4e732fe53e04d14a = L.circleMarker(\n",
       "                [10.9, 6.5],\n",
       "                {&quot;bubblingMouseEvents&quot;: true, &quot;color&quot;: &quot;#1B3770&quot;, &quot;dashArray&quot;: null, &quot;dashOffset&quot;: null, &quot;fill&quot;: true, &quot;fillColor&quot;: &quot;#1B3770&quot;, &quot;fillOpacity&quot;: 0.6, &quot;fillRule&quot;: &quot;evenodd&quot;, &quot;lineCap&quot;: &quot;round&quot;, &quot;lineJoin&quot;: &quot;round&quot;, &quot;opacity&quot;: 1.0, &quot;radius&quot;: 5, &quot;stroke&quot;: true, &quot;weight&quot;: 3}\n",
       "            ).addTo(map_d6acd74d4c0fadd3bec37e035c2b04cd);\n",
       "        \n",
       "    \n",
       "        var popup_507b553b140bdba9d873132ef226cc51 = L.popup({&quot;maxWidth&quot;: 300, &quot;minWidth&quot;: 200});\n",
       "\n",
       "        \n",
       "            \n",
       "                var html_f64ef98141fff1119185ffb6b000f3d9 = $(`&lt;div id=&quot;html_f64ef98141fff1119185ffb6b000f3d9&quot; style=&quot;width: 100.0%; height: 100.0%;&quot;&gt;Sudan: 1 players&lt;/div&gt;`)[0];\n",
       "                popup_507b553b140bdba9d873132ef226cc51.setContent(html_f64ef98141fff1119185ffb6b000f3d9);\n",
       "            \n",
       "        \n",
       "\n",
       "        circle_marker_31e098b8d77839bd4e732fe53e04d14a.bindPopup(popup_507b553b140bdba9d873132ef226cc51)\n",
       "        ;\n",
       "\n",
       "        \n",
       "    \n",
       "    \n",
       "            var circle_marker_1a3c328a2e3e593c871b924c72a7ec2a = L.circleMarker(\n",
       "                [12.90447, -61.2765569],\n",
       "                {&quot;bubblingMouseEvents&quot;: true, &quot;color&quot;: &quot;#1B3770&quot;, &quot;dashArray&quot;: null, &quot;dashOffset&quot;: null, &quot;fill&quot;: true, &quot;fillColor&quot;: &quot;#1B3770&quot;, &quot;fillOpacity&quot;: 0.6, &quot;fillRule&quot;: &quot;evenodd&quot;, &quot;lineCap&quot;: &quot;round&quot;, &quot;lineJoin&quot;: &quot;round&quot;, &quot;opacity&quot;: 1.0, &quot;radius&quot;: 5, &quot;stroke&quot;: true, &quot;weight&quot;: 3}\n",
       "            ).addTo(map_d6acd74d4c0fadd3bec37e035c2b04cd);\n",
       "        \n",
       "    \n",
       "        var popup_34dadd829ed2f3030542adca7f131720 = L.popup({&quot;maxWidth&quot;: 300, &quot;minWidth&quot;: 200});\n",
       "\n",
       "        \n",
       "            \n",
       "                var html_3e77df792fb0b7fe42c00b211c3e131a = $(`&lt;div id=&quot;html_3e77df792fb0b7fe42c00b211c3e131a&quot; style=&quot;width: 100.0%; height: 100.0%;&quot;&gt;St. Vincent &amp; Grenadines: 1 players&lt;/div&gt;`)[0];\n",
       "                popup_34dadd829ed2f3030542adca7f131720.setContent(html_3e77df792fb0b7fe42c00b211c3e131a);\n",
       "            \n",
       "        \n",
       "\n",
       "        circle_marker_1a3c328a2e3e593c871b924c72a7ec2a.bindPopup(popup_34dadd829ed2f3030542adca7f131720)\n",
       "        ;\n",
       "\n",
       "        \n",
       "    \n",
       "    \n",
       "            var circle_marker_b72c2dd7be5d48eef9da2f5dd9362594 = L.circleMarker(\n",
       "                [13.8250489, -60.975036],\n",
       "                {&quot;bubblingMouseEvents&quot;: true, &quot;color&quot;: &quot;#1B3770&quot;, &quot;dashArray&quot;: null, &quot;dashOffset&quot;: null, &quot;fill&quot;: true, &quot;fillColor&quot;: &quot;#1B3770&quot;, &quot;fillOpacity&quot;: 0.6, &quot;fillRule&quot;: &quot;evenodd&quot;, &quot;lineCap&quot;: &quot;round&quot;, &quot;lineJoin&quot;: &quot;round&quot;, &quot;opacity&quot;: 1.0, &quot;radius&quot;: 5, &quot;stroke&quot;: true, &quot;weight&quot;: 3}\n",
       "            ).addTo(map_d6acd74d4c0fadd3bec37e035c2b04cd);\n",
       "        \n",
       "    \n",
       "        var popup_a67f8cdec3506ae46fddd07df7b02d82 = L.popup({&quot;maxWidth&quot;: 300, &quot;minWidth&quot;: 200});\n",
       "\n",
       "        \n",
       "            \n",
       "                var html_42036c1f4ad55be860759c798789931a = $(`&lt;div id=&quot;html_42036c1f4ad55be860759c798789931a&quot; style=&quot;width: 100.0%; height: 100.0%;&quot;&gt;Saint Lucia: 1 players&lt;/div&gt;`)[0];\n",
       "                popup_a67f8cdec3506ae46fddd07df7b02d82.setContent(html_42036c1f4ad55be860759c798789931a);\n",
       "            \n",
       "        \n",
       "\n",
       "        circle_marker_b72c2dd7be5d48eef9da2f5dd9362594.bindPopup(popup_a67f8cdec3506ae46fddd07df7b02d82)\n",
       "        ;\n",
       "\n",
       "        \n",
       "    \n",
       "    \n",
       "            var circle_marker_31054bdf2c7227b298b5adbc5dcfb6cb = L.circleMarker(\n",
       "                [14.4750607, -14.4529612],\n",
       "                {&quot;bubblingMouseEvents&quot;: true, &quot;color&quot;: &quot;#1B3770&quot;, &quot;dashArray&quot;: null, &quot;dashOffset&quot;: null, &quot;fill&quot;: true, &quot;fillColor&quot;: &quot;#1B3770&quot;, &quot;fillOpacity&quot;: 0.6, &quot;fillRule&quot;: &quot;evenodd&quot;, &quot;lineCap&quot;: &quot;round&quot;, &quot;lineJoin&quot;: &quot;round&quot;, &quot;opacity&quot;: 1.0, &quot;radius&quot;: 5, &quot;stroke&quot;: true, &quot;weight&quot;: 3}\n",
       "            ).addTo(map_d6acd74d4c0fadd3bec37e035c2b04cd);\n",
       "        \n",
       "    \n",
       "        var popup_8f3504c4b31cb6ac2997d31fe61845a6 = L.popup({&quot;maxWidth&quot;: 300, &quot;minWidth&quot;: 200});\n",
       "\n",
       "        \n",
       "            \n",
       "                var html_62d9bde6dd97d882e8e94d4280695808 = $(`&lt;div id=&quot;html_62d9bde6dd97d882e8e94d4280695808&quot; style=&quot;width: 100.0%; height: 100.0%;&quot;&gt;Senegal: 9 players&lt;/div&gt;`)[0];\n",
       "                popup_8f3504c4b31cb6ac2997d31fe61845a6.setContent(html_62d9bde6dd97d882e8e94d4280695808);\n",
       "            \n",
       "        \n",
       "\n",
       "        circle_marker_31054bdf2c7227b298b5adbc5dcfb6cb.bindPopup(popup_8f3504c4b31cb6ac2997d31fe61845a6)\n",
       "        ;\n",
       "\n",
       "        \n",
       "    \n",
       "    \n",
       "            var circle_marker_24a32f186e2637033330f5c0cf388913 = L.circleMarker(\n",
       "                [16.0000552, -24.0083947],\n",
       "                {&quot;bubblingMouseEvents&quot;: true, &quot;color&quot;: &quot;#1B3770&quot;, &quot;dashArray&quot;: null, &quot;dashOffset&quot;: null, &quot;fill&quot;: true, &quot;fillColor&quot;: &quot;#1B3770&quot;, &quot;fillOpacity&quot;: 0.6, &quot;fillRule&quot;: &quot;evenodd&quot;, &quot;lineCap&quot;: &quot;round&quot;, &quot;lineJoin&quot;: &quot;round&quot;, &quot;opacity&quot;: 1.0, &quot;radius&quot;: 5, &quot;stroke&quot;: true, &quot;weight&quot;: 3}\n",
       "            ).addTo(map_d6acd74d4c0fadd3bec37e035c2b04cd);\n",
       "        \n",
       "    \n",
       "        var popup_1d21263dc6331272bb627457d90c86b3 = L.popup({&quot;maxWidth&quot;: 300, &quot;minWidth&quot;: 200});\n",
       "\n",
       "        \n",
       "            \n",
       "                var html_26a3bd54e66b35fa4bdf6021793ab0ce = $(`&lt;div id=&quot;html_26a3bd54e66b35fa4bdf6021793ab0ce&quot; style=&quot;width: 100.0%; height: 100.0%;&quot;&gt;Cabo Verde: 1 players&lt;/div&gt;`)[0];\n",
       "                popup_1d21263dc6331272bb627457d90c86b3.setContent(html_26a3bd54e66b35fa4bdf6021793ab0ce);\n",
       "            \n",
       "        \n",
       "\n",
       "        circle_marker_24a32f186e2637033330f5c0cf388913.bindPopup(popup_1d21263dc6331272bb627457d90c86b3)\n",
       "        ;\n",
       "\n",
       "        \n",
       "    \n",
       "    \n",
       "            var circle_marker_8dd7b563e9aa68973e7577679d1d765d = L.circleMarker(\n",
       "                [16.3700359, -2.2900239],\n",
       "                {&quot;bubblingMouseEvents&quot;: true, &quot;color&quot;: &quot;#1B3770&quot;, &quot;dashArray&quot;: null, &quot;dashOffset&quot;: null, &quot;fill&quot;: true, &quot;fillColor&quot;: &quot;#1B3770&quot;, &quot;fillOpacity&quot;: 0.6, &quot;fillRule&quot;: &quot;evenodd&quot;, &quot;lineCap&quot;: &quot;round&quot;, &quot;lineJoin&quot;: &quot;round&quot;, &quot;opacity&quot;: 1.0, &quot;radius&quot;: 5, &quot;stroke&quot;: true, &quot;weight&quot;: 3}\n",
       "            ).addTo(map_d6acd74d4c0fadd3bec37e035c2b04cd);\n",
       "        \n",
       "    \n",
       "        var popup_ddae5d71c8bb52b3c18f27f9764f5688 = L.popup({&quot;maxWidth&quot;: 300, &quot;minWidth&quot;: 200});\n",
       "\n",
       "        \n",
       "            \n",
       "                var html_f89562951c6b4f0d865f54a18a87b7a7 = $(`&lt;div id=&quot;html_f89562951c6b4f0d865f54a18a87b7a7&quot; style=&quot;width: 100.0%; height: 100.0%;&quot;&gt;Mali: 1 players&lt;/div&gt;`)[0];\n",
       "                popup_ddae5d71c8bb52b3c18f27f9764f5688.setContent(html_f89562951c6b4f0d865f54a18a87b7a7);\n",
       "            \n",
       "        \n",
       "\n",
       "        circle_marker_8dd7b563e9aa68973e7577679d1d765d.bindPopup(popup_ddae5d71c8bb52b3c18f27f9764f5688)\n",
       "        ;\n",
       "\n",
       "        \n",
       "    \n",
       "    \n",
       "            var circle_marker_b8618d421a4de862fcdedd197265a693 = L.circleMarker(\n",
       "                [17.1204943, -88.6859028],\n",
       "                {&quot;bubblingMouseEvents&quot;: true, &quot;color&quot;: &quot;#1B3770&quot;, &quot;dashArray&quot;: null, &quot;dashOffset&quot;: null, &quot;fill&quot;: true, &quot;fillColor&quot;: &quot;#1B3770&quot;, &quot;fillOpacity&quot;: 0.6, &quot;fillRule&quot;: &quot;evenodd&quot;, &quot;lineCap&quot;: &quot;round&quot;, &quot;lineJoin&quot;: &quot;round&quot;, &quot;opacity&quot;: 1.0, &quot;radius&quot;: 5, &quot;stroke&quot;: true, &quot;weight&quot;: 3}\n",
       "            ).addTo(map_d6acd74d4c0fadd3bec37e035c2b04cd);\n",
       "        \n",
       "    \n",
       "        var popup_b27bf6bd4ed523d67268391dfbd41bd2 = L.popup({&quot;maxWidth&quot;: 300, &quot;minWidth&quot;: 200});\n",
       "\n",
       "        \n",
       "            \n",
       "                var html_8b6c6a6df6a08a905a6a31907448e6ba = $(`&lt;div id=&quot;html_8b6c6a6df6a08a905a6a31907448e6ba&quot; style=&quot;width: 100.0%; height: 100.0%;&quot;&gt;Belize: 1 players&lt;/div&gt;`)[0];\n",
       "                popup_b27bf6bd4ed523d67268391dfbd41bd2.setContent(html_8b6c6a6df6a08a905a6a31907448e6ba);\n",
       "            \n",
       "        \n",
       "\n",
       "        circle_marker_b8618d421a4de862fcdedd197265a693.bindPopup(popup_b27bf6bd4ed523d67268391dfbd41bd2)\n",
       "        ;\n",
       "\n",
       "        \n",
       "    \n",
       "    \n",
       "            var circle_marker_fb3e6cb20358591201655e0065876323 = L.circleMarker(\n",
       "                [17.2234721, -61.9554608],\n",
       "                {&quot;bubblingMouseEvents&quot;: true, &quot;color&quot;: &quot;#1B3770&quot;, &quot;dashArray&quot;: null, &quot;dashOffset&quot;: null, &quot;fill&quot;: true, &quot;fillColor&quot;: &quot;#1B3770&quot;, &quot;fillOpacity&quot;: 0.6, &quot;fillRule&quot;: &quot;evenodd&quot;, &quot;lineCap&quot;: &quot;round&quot;, &quot;lineJoin&quot;: &quot;round&quot;, &quot;opacity&quot;: 1.0, &quot;radius&quot;: 5, &quot;stroke&quot;: true, &quot;weight&quot;: 3}\n",
       "            ).addTo(map_d6acd74d4c0fadd3bec37e035c2b04cd);\n",
       "        \n",
       "    \n",
       "        var popup_e6f8d917e5629aba1b0154244bd1c29c = L.popup({&quot;maxWidth&quot;: 300, &quot;minWidth&quot;: 200});\n",
       "\n",
       "        \n",
       "            \n",
       "                var html_514103d1f823eb5f530f9e2ac11f83fb = $(`&lt;div id=&quot;html_514103d1f823eb5f530f9e2ac11f83fb&quot; style=&quot;width: 100.0%; height: 100.0%;&quot;&gt;Antigua and Barbuda: 1 players&lt;/div&gt;`)[0];\n",
       "                popup_e6f8d917e5629aba1b0154244bd1c29c.setContent(html_514103d1f823eb5f530f9e2ac11f83fb);\n",
       "            \n",
       "        \n",
       "\n",
       "        circle_marker_fb3e6cb20358591201655e0065876323.bindPopup(popup_e6f8d917e5629aba1b0154244bd1c29c)\n",
       "        ;\n",
       "\n",
       "        \n",
       "    \n",
       "    \n",
       "            var circle_marker_a83129ddc5c0c06acd676ad387fc7abe = L.circleMarker(\n",
       "                [17.789187, -64.7080574],\n",
       "                {&quot;bubblingMouseEvents&quot;: true, &quot;color&quot;: &quot;#1B3770&quot;, &quot;dashArray&quot;: null, &quot;dashOffset&quot;: null, &quot;fill&quot;: true, &quot;fillColor&quot;: &quot;#1B3770&quot;, &quot;fillOpacity&quot;: 0.6, &quot;fillRule&quot;: &quot;evenodd&quot;, &quot;lineCap&quot;: &quot;round&quot;, &quot;lineJoin&quot;: &quot;round&quot;, &quot;opacity&quot;: 1.0, &quot;radius&quot;: 5, &quot;stroke&quot;: true, &quot;weight&quot;: 3}\n",
       "            ).addTo(map_d6acd74d4c0fadd3bec37e035c2b04cd);\n",
       "        \n",
       "    \n",
       "        var popup_88c6d299f9c5f444a62dedb3fd6afc02 = L.popup({&quot;maxWidth&quot;: 300, &quot;minWidth&quot;: 200});\n",
       "\n",
       "        \n",
       "            \n",
       "                var html_14de32a0e09d5bf540bacb6f7eab8e35 = $(`&lt;div id=&quot;html_14de32a0e09d5bf540bacb6f7eab8e35&quot; style=&quot;width: 100.0%; height: 100.0%;&quot;&gt;US Virgin Islands: 2 players&lt;/div&gt;`)[0];\n",
       "                popup_88c6d299f9c5f444a62dedb3fd6afc02.setContent(html_14de32a0e09d5bf540bacb6f7eab8e35);\n",
       "            \n",
       "        \n",
       "\n",
       "        circle_marker_a83129ddc5c0c06acd676ad387fc7abe.bindPopup(popup_88c6d299f9c5f444a62dedb3fd6afc02)\n",
       "        ;\n",
       "\n",
       "        \n",
       "    \n",
       "    \n",
       "            var circle_marker_d90835c35c6290f81443f6a03491909a = L.circleMarker(\n",
       "                [18.1850507, -77.3947693],\n",
       "                {&quot;bubblingMouseEvents&quot;: true, &quot;color&quot;: &quot;#1B3770&quot;, &quot;dashArray&quot;: null, &quot;dashOffset&quot;: null, &quot;fill&quot;: true, &quot;fillColor&quot;: &quot;#1B3770&quot;, &quot;fillOpacity&quot;: 0.6, &quot;fillRule&quot;: &quot;evenodd&quot;, &quot;lineCap&quot;: &quot;round&quot;, &quot;lineJoin&quot;: &quot;round&quot;, &quot;opacity&quot;: 1.0, &quot;radius&quot;: 5, &quot;stroke&quot;: true, &quot;weight&quot;: 3}\n",
       "            ).addTo(map_d6acd74d4c0fadd3bec37e035c2b04cd);\n",
       "        \n",
       "    \n",
       "        var popup_a444b3c8e05cad0d6b23c85c541d98e7 = L.popup({&quot;maxWidth&quot;: 300, &quot;minWidth&quot;: 200});\n",
       "\n",
       "        \n",
       "            \n",
       "                var html_4962d70b48a0161b7c0bdc9b1a86ba25 = $(`&lt;div id=&quot;html_4962d70b48a0161b7c0bdc9b1a86ba25&quot; style=&quot;width: 100.0%; height: 100.0%;&quot;&gt;Jamaica: 4 players&lt;/div&gt;`)[0];\n",
       "                popup_a444b3c8e05cad0d6b23c85c541d98e7.setContent(html_4962d70b48a0161b7c0bdc9b1a86ba25);\n",
       "            \n",
       "        \n",
       "\n",
       "        circle_marker_d90835c35c6290f81443f6a03491909a.bindPopup(popup_a444b3c8e05cad0d6b23c85c541d98e7)\n",
       "        ;\n",
       "\n",
       "        \n",
       "    \n",
       "    \n",
       "            var circle_marker_cc594fabe5f5127db4f601588f4151dc = L.circleMarker(\n",
       "                [18.2247706, -66.4858295],\n",
       "                {&quot;bubblingMouseEvents&quot;: true, &quot;color&quot;: &quot;#1B3770&quot;, &quot;dashArray&quot;: null, &quot;dashOffset&quot;: null, &quot;fill&quot;: true, &quot;fillColor&quot;: &quot;#1B3770&quot;, &quot;fillOpacity&quot;: 0.6, &quot;fillRule&quot;: &quot;evenodd&quot;, &quot;lineCap&quot;: &quot;round&quot;, &quot;lineJoin&quot;: &quot;round&quot;, &quot;opacity&quot;: 1.0, &quot;radius&quot;: 5, &quot;stroke&quot;: true, &quot;weight&quot;: 3}\n",
       "            ).addTo(map_d6acd74d4c0fadd3bec37e035c2b04cd);\n",
       "        \n",
       "    \n",
       "        var popup_233a14131d0065a21d8f9355e1c70ef0 = L.popup({&quot;maxWidth&quot;: 300, &quot;minWidth&quot;: 200});\n",
       "\n",
       "        \n",
       "            \n",
       "                var html_56d2c3de907c7da92be54c476ef4cdc3 = $(`&lt;div id=&quot;html_56d2c3de907c7da92be54c476ef4cdc3&quot; style=&quot;width: 100.0%; height: 100.0%;&quot;&gt;Puerto Rico: 7 players&lt;/div&gt;`)[0];\n",
       "                popup_233a14131d0065a21d8f9355e1c70ef0.setContent(html_56d2c3de907c7da92be54c476ef4cdc3);\n",
       "            \n",
       "        \n",
       "\n",
       "        circle_marker_cc594fabe5f5127db4f601588f4151dc.bindPopup(popup_233a14131d0065a21d8f9355e1c70ef0)\n",
       "        ;\n",
       "\n",
       "        \n",
       "    \n",
       "    \n",
       "            var circle_marker_20f315be543dd4c9baca4658ef51dd01 = L.circleMarker(\n",
       "                [19.0974031, -70.3028026],\n",
       "                {&quot;bubblingMouseEvents&quot;: true, &quot;color&quot;: &quot;#1B3770&quot;, &quot;dashArray&quot;: null, &quot;dashOffset&quot;: null, &quot;fill&quot;: true, &quot;fillColor&quot;: &quot;#1B3770&quot;, &quot;fillOpacity&quot;: 0.6, &quot;fillRule&quot;: &quot;evenodd&quot;, &quot;lineCap&quot;: &quot;round&quot;, &quot;lineJoin&quot;: &quot;round&quot;, &quot;opacity&quot;: 1.0, &quot;radius&quot;: 5, &quot;stroke&quot;: true, &quot;weight&quot;: 3}\n",
       "            ).addTo(map_d6acd74d4c0fadd3bec37e035c2b04cd);\n",
       "        \n",
       "    \n",
       "        var popup_dc5b20f538caea2be1fc17ab617a7d6b = L.popup({&quot;maxWidth&quot;: 300, &quot;minWidth&quot;: 200});\n",
       "\n",
       "        \n",
       "            \n",
       "                var html_4e1daf035784f182887838e249e2e8a0 = $(`&lt;div id=&quot;html_4e1daf035784f182887838e249e2e8a0&quot; style=&quot;width: 100.0%; height: 100.0%;&quot;&gt;Dominican Republic: 5 players&lt;/div&gt;`)[0];\n",
       "                popup_dc5b20f538caea2be1fc17ab617a7d6b.setContent(html_4e1daf035784f182887838e249e2e8a0);\n",
       "            \n",
       "        \n",
       "\n",
       "        circle_marker_20f315be543dd4c9baca4658ef51dd01.bindPopup(popup_dc5b20f538caea2be1fc17ab617a7d6b)\n",
       "        ;\n",
       "\n",
       "        \n",
       "    \n",
       "    \n",
       "            var circle_marker_85f16b555b598a1856443145b49216a4 = L.circleMarker(\n",
       "                [19.1399952, -72.3570972],\n",
       "                {&quot;bubblingMouseEvents&quot;: true, &quot;color&quot;: &quot;#1B3770&quot;, &quot;dashArray&quot;: null, &quot;dashOffset&quot;: null, &quot;fill&quot;: true, &quot;fillColor&quot;: &quot;#1B3770&quot;, &quot;fillOpacity&quot;: 0.6, &quot;fillRule&quot;: &quot;evenodd&quot;, &quot;lineCap&quot;: &quot;round&quot;, &quot;lineJoin&quot;: &quot;round&quot;, &quot;opacity&quot;: 1.0, &quot;radius&quot;: 5, &quot;stroke&quot;: true, &quot;weight&quot;: 3}\n",
       "            ).addTo(map_d6acd74d4c0fadd3bec37e035c2b04cd);\n",
       "        \n",
       "    \n",
       "        var popup_43299c51bfb6cae3e1fcbcf776c55344 = L.popup({&quot;maxWidth&quot;: 300, &quot;minWidth&quot;: 200});\n",
       "\n",
       "        \n",
       "            \n",
       "                var html_fc7a7b09a7e0e6811e616f237bd7ce55 = $(`&lt;div id=&quot;html_fc7a7b09a7e0e6811e616f237bd7ce55&quot; style=&quot;width: 100.0%; height: 100.0%;&quot;&gt;Haiti: 2 players&lt;/div&gt;`)[0];\n",
       "                popup_43299c51bfb6cae3e1fcbcf776c55344.setContent(html_fc7a7b09a7e0e6811e616f237bd7ce55);\n",
       "            \n",
       "        \n",
       "\n",
       "        circle_marker_85f16b555b598a1856443145b49216a4.bindPopup(popup_43299c51bfb6cae3e1fcbcf776c55344)\n",
       "        ;\n",
       "\n",
       "        \n",
       "    \n",
       "    \n",
       "            var circle_marker_c82938f6db0a56469d79282f9b97a0ec = L.circleMarker(\n",
       "                [19.4326296, -99.1331785],\n",
       "                {&quot;bubblingMouseEvents&quot;: true, &quot;color&quot;: &quot;#1B3770&quot;, &quot;dashArray&quot;: null, &quot;dashOffset&quot;: null, &quot;fill&quot;: true, &quot;fillColor&quot;: &quot;#1B3770&quot;, &quot;fillOpacity&quot;: 0.6, &quot;fillRule&quot;: &quot;evenodd&quot;, &quot;lineCap&quot;: &quot;round&quot;, &quot;lineJoin&quot;: &quot;round&quot;, &quot;opacity&quot;: 1.0, &quot;radius&quot;: 5, &quot;stroke&quot;: true, &quot;weight&quot;: 3}\n",
       "            ).addTo(map_d6acd74d4c0fadd3bec37e035c2b04cd);\n",
       "        \n",
       "    \n",
       "        var popup_daead1d8e789c5f56d2a1b59e39d8127 = L.popup({&quot;maxWidth&quot;: 300, &quot;minWidth&quot;: 200});\n",
       "\n",
       "        \n",
       "            \n",
       "                var html_518310201cf3986287c476eaefff21ee = $(`&lt;div id=&quot;html_518310201cf3986287c476eaefff21ee&quot; style=&quot;width: 100.0%; height: 100.0%;&quot;&gt;Mexico: 3 players&lt;/div&gt;`)[0];\n",
       "                popup_daead1d8e789c5f56d2a1b59e39d8127.setContent(html_518310201cf3986287c476eaefff21ee);\n",
       "            \n",
       "        \n",
       "\n",
       "        circle_marker_c82938f6db0a56469d79282f9b97a0ec.bindPopup(popup_daead1d8e789c5f56d2a1b59e39d8127)\n",
       "        ;\n",
       "\n",
       "        \n",
       "    \n",
       "    \n",
       "            var circle_marker_cae4d5dae68ba5c9b5ce4afa9ec09320 = L.circleMarker(\n",
       "                [23.0131338, -80.8328748],\n",
       "                {&quot;bubblingMouseEvents&quot;: true, &quot;color&quot;: &quot;#1B3770&quot;, &quot;dashArray&quot;: null, &quot;dashOffset&quot;: null, &quot;fill&quot;: true, &quot;fillColor&quot;: &quot;#1B3770&quot;, &quot;fillOpacity&quot;: 0.6, &quot;fillRule&quot;: &quot;evenodd&quot;, &quot;lineCap&quot;: &quot;round&quot;, &quot;lineJoin&quot;: &quot;round&quot;, &quot;opacity&quot;: 1.0, &quot;radius&quot;: 5, &quot;stroke&quot;: true, &quot;weight&quot;: 3}\n",
       "            ).addTo(map_d6acd74d4c0fadd3bec37e035c2b04cd);\n",
       "        \n",
       "    \n",
       "        var popup_f078a9cf5ac2108eac5b109b40d65dab = L.popup({&quot;maxWidth&quot;: 300, &quot;minWidth&quot;: 200});\n",
       "\n",
       "        \n",
       "            \n",
       "                var html_79a219ca74807d1f7265c0003910fd48 = $(`&lt;div id=&quot;html_79a219ca74807d1f7265c0003910fd48&quot; style=&quot;width: 100.0%; height: 100.0%;&quot;&gt;Cuba: 2 players&lt;/div&gt;`)[0];\n",
       "                popup_f078a9cf5ac2108eac5b109b40d65dab.setContent(html_79a219ca74807d1f7265c0003910fd48);\n",
       "            \n",
       "        \n",
       "\n",
       "        circle_marker_cae4d5dae68ba5c9b5ce4afa9ec09320.bindPopup(popup_f078a9cf5ac2108eac5b109b40d65dab)\n",
       "        ;\n",
       "\n",
       "        \n",
       "    \n",
       "    \n",
       "            var circle_marker_f0cd0c80d0995c6d7274f980f4be421a = L.circleMarker(\n",
       "                [24.7736546, -78.0000547],\n",
       "                {&quot;bubblingMouseEvents&quot;: true, &quot;color&quot;: &quot;#1B3770&quot;, &quot;dashArray&quot;: null, &quot;dashOffset&quot;: null, &quot;fill&quot;: true, &quot;fillColor&quot;: &quot;#1B3770&quot;, &quot;fillOpacity&quot;: 0.6, &quot;fillRule&quot;: &quot;evenodd&quot;, &quot;lineCap&quot;: &quot;round&quot;, &quot;lineJoin&quot;: &quot;round&quot;, &quot;opacity&quot;: 1.0, &quot;radius&quot;: 5, &quot;stroke&quot;: true, &quot;weight&quot;: 3}\n",
       "            ).addTo(map_d6acd74d4c0fadd3bec37e035c2b04cd);\n",
       "        \n",
       "    \n",
       "        var popup_f5df1fd4d3b1a979dbe3517c197bfebb = L.popup({&quot;maxWidth&quot;: 300, &quot;minWidth&quot;: 200});\n",
       "\n",
       "        \n",
       "            \n",
       "                var html_cadf490e2e6bf4e3ed7c384f25b7778f = $(`&lt;div id=&quot;html_cadf490e2e6bf4e3ed7c384f25b7778f&quot; style=&quot;width: 100.0%; height: 100.0%;&quot;&gt;Bahamas: 4 players&lt;/div&gt;`)[0];\n",
       "                popup_f5df1fd4d3b1a979dbe3517c197bfebb.setContent(html_cadf490e2e6bf4e3ed7c384f25b7778f);\n",
       "            \n",
       "        \n",
       "\n",
       "        circle_marker_f0cd0c80d0995c6d7274f980f4be421a.bindPopup(popup_f5df1fd4d3b1a979dbe3517c197bfebb)\n",
       "        ;\n",
       "\n",
       "        \n",
       "    \n",
       "    \n",
       "            var circle_marker_04b15263bdfb11ba4398c9c606dd5c1a = L.circleMarker(\n",
       "                [26.2540493, 29.2675469],\n",
       "                {&quot;bubblingMouseEvents&quot;: true, &quot;color&quot;: &quot;#1B3770&quot;, &quot;dashArray&quot;: null, &quot;dashOffset&quot;: null, &quot;fill&quot;: true, &quot;fillColor&quot;: &quot;#1B3770&quot;, &quot;fillOpacity&quot;: 0.6, &quot;fillRule&quot;: &quot;evenodd&quot;, &quot;lineCap&quot;: &quot;round&quot;, &quot;lineJoin&quot;: &quot;round&quot;, &quot;opacity&quot;: 1.0, &quot;radius&quot;: 5, &quot;stroke&quot;: true, &quot;weight&quot;: 3}\n",
       "            ).addTo(map_d6acd74d4c0fadd3bec37e035c2b04cd);\n",
       "        \n",
       "    \n",
       "        var popup_70520d31713744c417b5cfaa58f575f8 = L.popup({&quot;maxWidth&quot;: 300, &quot;minWidth&quot;: 200});\n",
       "\n",
       "        \n",
       "            \n",
       "                var html_45f08e9dce8d2b429d60d47d19c87a38 = $(`&lt;div id=&quot;html_45f08e9dce8d2b429d60d47d19c87a38&quot; style=&quot;width: 100.0%; height: 100.0%;&quot;&gt;Egypt: 1 players&lt;/div&gt;`)[0];\n",
       "                popup_70520d31713744c417b5cfaa58f575f8.setContent(html_45f08e9dce8d2b429d60d47d19c87a38);\n",
       "            \n",
       "        \n",
       "\n",
       "        circle_marker_04b15263bdfb11ba4398c9c606dd5c1a.bindPopup(popup_70520d31713744c417b5cfaa58f575f8)\n",
       "        ;\n",
       "\n",
       "        \n",
       "    \n",
       "    \n",
       "            var circle_marker_3bec131ad7a7168178ab3502e5254b3a = L.circleMarker(\n",
       "                [30.8124247, 34.8594762],\n",
       "                {&quot;bubblingMouseEvents&quot;: true, &quot;color&quot;: &quot;#1B3770&quot;, &quot;dashArray&quot;: null, &quot;dashOffset&quot;: null, &quot;fill&quot;: true, &quot;fillColor&quot;: &quot;#1B3770&quot;, &quot;fillOpacity&quot;: 0.6, &quot;fillRule&quot;: &quot;evenodd&quot;, &quot;lineCap&quot;: &quot;round&quot;, &quot;lineJoin&quot;: &quot;round&quot;, &quot;opacity&quot;: 1.0, &quot;radius&quot;: 5, &quot;stroke&quot;: true, &quot;weight&quot;: 3}\n",
       "            ).addTo(map_d6acd74d4c0fadd3bec37e035c2b04cd);\n",
       "        \n",
       "    \n",
       "        var popup_845fe3ebb27a1364cbaa06aff32286be = L.popup({&quot;maxWidth&quot;: 300, &quot;minWidth&quot;: 200});\n",
       "\n",
       "        \n",
       "            \n",
       "                var html_4a3cdf32e7ecfcde01e20cf473dd1ac9 = $(`&lt;div id=&quot;html_4a3cdf32e7ecfcde01e20cf473dd1ac9&quot; style=&quot;width: 100.0%; height: 100.0%;&quot;&gt;Israel: 2 players&lt;/div&gt;`)[0];\n",
       "                popup_845fe3ebb27a1364cbaa06aff32286be.setContent(html_4a3cdf32e7ecfcde01e20cf473dd1ac9);\n",
       "            \n",
       "        \n",
       "\n",
       "        circle_marker_3bec131ad7a7168178ab3502e5254b3a.bindPopup(popup_845fe3ebb27a1364cbaa06aff32286be)\n",
       "        ;\n",
       "\n",
       "        \n",
       "    \n",
       "    \n",
       "            var circle_marker_0a531f8639f899bea12b537e4dcbd2de = L.circleMarker(\n",
       "                [32.3293809, -83.1137366],\n",
       "                {&quot;bubblingMouseEvents&quot;: true, &quot;color&quot;: &quot;#1B3770&quot;, &quot;dashArray&quot;: null, &quot;dashOffset&quot;: null, &quot;fill&quot;: true, &quot;fillColor&quot;: &quot;#1B3770&quot;, &quot;fillOpacity&quot;: 0.6, &quot;fillRule&quot;: &quot;evenodd&quot;, &quot;lineCap&quot;: &quot;round&quot;, &quot;lineJoin&quot;: &quot;round&quot;, &quot;opacity&quot;: 1.0, &quot;radius&quot;: 5, &quot;stroke&quot;: true, &quot;weight&quot;: 3}\n",
       "            ).addTo(map_d6acd74d4c0fadd3bec37e035c2b04cd);\n",
       "        \n",
       "    \n",
       "        var popup_88db2566259f7f9edbd7fb9f740a4902 = L.popup({&quot;maxWidth&quot;: 300, &quot;minWidth&quot;: 200});\n",
       "\n",
       "        \n",
       "            \n",
       "                var html_69fa238e850193c4e2560dcdf1e6144e = $(`&lt;div id=&quot;html_69fa238e850193c4e2560dcdf1e6144e&quot; style=&quot;width: 100.0%; height: 100.0%;&quot;&gt;Georgia: 5 players&lt;/div&gt;`)[0];\n",
       "                popup_88db2566259f7f9edbd7fb9f740a4902.setContent(html_69fa238e850193c4e2560dcdf1e6144e);\n",
       "            \n",
       "        \n",
       "\n",
       "        circle_marker_0a531f8639f899bea12b537e4dcbd2de.bindPopup(popup_88db2566259f7f9edbd7fb9f740a4902)\n",
       "        ;\n",
       "\n",
       "        \n",
       "    \n",
       "    \n",
       "            var circle_marker_41b9000737fe16015f1d300308035533 = L.circleMarker(\n",
       "                [32.6475314, 54.5643516],\n",
       "                {&quot;bubblingMouseEvents&quot;: true, &quot;color&quot;: &quot;#1B3770&quot;, &quot;dashArray&quot;: null, &quot;dashOffset&quot;: null, &quot;fill&quot;: true, &quot;fillColor&quot;: &quot;#1B3770&quot;, &quot;fillOpacity&quot;: 0.6, &quot;fillRule&quot;: &quot;evenodd&quot;, &quot;lineCap&quot;: &quot;round&quot;, &quot;lineJoin&quot;: &quot;round&quot;, &quot;opacity&quot;: 1.0, &quot;radius&quot;: 5, &quot;stroke&quot;: true, &quot;weight&quot;: 3}\n",
       "            ).addTo(map_d6acd74d4c0fadd3bec37e035c2b04cd);\n",
       "        \n",
       "    \n",
       "        var popup_5cce7bf102a10278128d3118737ec2fb = L.popup({&quot;maxWidth&quot;: 300, &quot;minWidth&quot;: 200});\n",
       "\n",
       "        \n",
       "            \n",
       "                var html_51d85618d872678d7a4bcd51f1525825 = $(`&lt;div id=&quot;html_51d85618d872678d7a4bcd51f1525825&quot; style=&quot;width: 100.0%; height: 100.0%;&quot;&gt;Iran: 1 players&lt;/div&gt;`)[0];\n",
       "                popup_5cce7bf102a10278128d3118737ec2fb.setContent(html_51d85618d872678d7a4bcd51f1525825);\n",
       "            \n",
       "        \n",
       "\n",
       "        circle_marker_41b9000737fe16015f1d300308035533.bindPopup(popup_5cce7bf102a10278128d3118737ec2fb)\n",
       "        ;\n",
       "\n",
       "        \n",
       "    \n",
       "    \n",
       "            var circle_marker_7979384a58a2fb77c9379f93f0a7f2e0 = L.circleMarker(\n",
       "                [35.000074, 104.999927],\n",
       "                {&quot;bubblingMouseEvents&quot;: true, &quot;color&quot;: &quot;#1B3770&quot;, &quot;dashArray&quot;: null, &quot;dashOffset&quot;: null, &quot;fill&quot;: true, &quot;fillColor&quot;: &quot;#1B3770&quot;, &quot;fillOpacity&quot;: 0.6, &quot;fillRule&quot;: &quot;evenodd&quot;, &quot;lineCap&quot;: &quot;round&quot;, &quot;lineJoin&quot;: &quot;round&quot;, &quot;opacity&quot;: 1.0, &quot;radius&quot;: 5, &quot;stroke&quot;: true, &quot;weight&quot;: 3}\n",
       "            ).addTo(map_d6acd74d4c0fadd3bec37e035c2b04cd);\n",
       "        \n",
       "    \n",
       "        var popup_357c14d33dcf116514fe229145106f10 = L.popup({&quot;maxWidth&quot;: 300, &quot;minWidth&quot;: 200});\n",
       "\n",
       "        \n",
       "            \n",
       "                var html_00ba39ab010d46207cd50a7156ad0680 = $(`&lt;div id=&quot;html_00ba39ab010d46207cd50a7156ad0680&quot; style=&quot;width: 100.0%; height: 100.0%;&quot;&gt;China: 4 players&lt;/div&gt;`)[0];\n",
       "                popup_357c14d33dcf116514fe229145106f10.setContent(html_00ba39ab010d46207cd50a7156ad0680);\n",
       "            \n",
       "        \n",
       "\n",
       "        circle_marker_7979384a58a2fb77c9379f93f0a7f2e0.bindPopup(popup_357c14d33dcf116514fe229145106f10)\n",
       "        ;\n",
       "\n",
       "        \n",
       "    \n",
       "    \n",
       "            var circle_marker_db935375855e1636a54b3f61f510ff51 = L.circleMarker(\n",
       "                [36.5748441, 139.2394179],\n",
       "                {&quot;bubblingMouseEvents&quot;: true, &quot;color&quot;: &quot;#1B3770&quot;, &quot;dashArray&quot;: null, &quot;dashOffset&quot;: null, &quot;fill&quot;: true, &quot;fillColor&quot;: &quot;#1B3770&quot;, &quot;fillOpacity&quot;: 0.6, &quot;fillRule&quot;: &quot;evenodd&quot;, &quot;lineCap&quot;: &quot;round&quot;, &quot;lineJoin&quot;: &quot;round&quot;, &quot;opacity&quot;: 1.0, &quot;radius&quot;: 5, &quot;stroke&quot;: true, &quot;weight&quot;: 3}\n",
       "            ).addTo(map_d6acd74d4c0fadd3bec37e035c2b04cd);\n",
       "        \n",
       "    \n",
       "        var popup_bd04e5aaf958566dfab03fe398b501eb = L.popup({&quot;maxWidth&quot;: 300, &quot;minWidth&quot;: 200});\n",
       "\n",
       "        \n",
       "            \n",
       "                var html_02c6aa36a89dd72a8ea5026cfcdbfe24 = $(`&lt;div id=&quot;html_02c6aa36a89dd72a8ea5026cfcdbfe24&quot; style=&quot;width: 100.0%; height: 100.0%;&quot;&gt;Japan: 2 players&lt;/div&gt;`)[0];\n",
       "                popup_bd04e5aaf958566dfab03fe398b501eb.setContent(html_02c6aa36a89dd72a8ea5026cfcdbfe24);\n",
       "            \n",
       "        \n",
       "\n",
       "        circle_marker_db935375855e1636a54b3f61f510ff51.bindPopup(popup_bd04e5aaf958566dfab03fe398b501eb)\n",
       "        ;\n",
       "\n",
       "        \n",
       "    \n",
       "    \n",
       "            var circle_marker_514e9cccb503200b1e37d9d4291f216c = L.circleMarker(\n",
       "                [38.9597594, 34.9249653],\n",
       "                {&quot;bubblingMouseEvents&quot;: true, &quot;color&quot;: &quot;#C8102E&quot;, &quot;dashArray&quot;: null, &quot;dashOffset&quot;: null, &quot;fill&quot;: true, &quot;fillColor&quot;: &quot;#C8102E&quot;, &quot;fillOpacity&quot;: 0.6, &quot;fillRule&quot;: &quot;evenodd&quot;, &quot;lineCap&quot;: &quot;round&quot;, &quot;lineJoin&quot;: &quot;round&quot;, &quot;opacity&quot;: 1.0, &quot;radius&quot;: 5, &quot;stroke&quot;: true, &quot;weight&quot;: 3}\n",
       "            ).addTo(map_d6acd74d4c0fadd3bec37e035c2b04cd);\n",
       "        \n",
       "    \n",
       "        var popup_b3fa607c15032770f4c839f38a1a54ae = L.popup({&quot;maxWidth&quot;: 300, &quot;minWidth&quot;: 200});\n",
       "\n",
       "        \n",
       "            \n",
       "                var html_7ef7a7d642637f22a8035022054bc76f = $(`&lt;div id=&quot;html_7ef7a7d642637f22a8035022054bc76f&quot; style=&quot;width: 100.0%; height: 100.0%;&quot;&gt;Turkey: 12 players&lt;/div&gt;`)[0];\n",
       "                popup_b3fa607c15032770f4c839f38a1a54ae.setContent(html_7ef7a7d642637f22a8035022054bc76f);\n",
       "            \n",
       "        \n",
       "\n",
       "        circle_marker_514e9cccb503200b1e37d9d4291f216c.bindPopup(popup_b3fa607c15032770f4c839f38a1a54ae)\n",
       "        ;\n",
       "\n",
       "        \n",
       "    \n",
       "    \n",
       "            var circle_marker_2c02e60d099fae03477bb56dc3523078 = L.circleMarker(\n",
       "                [39.3260685, -4.8379791],\n",
       "                {&quot;bubblingMouseEvents&quot;: true, &quot;color&quot;: &quot;#C8102E&quot;, &quot;dashArray&quot;: null, &quot;dashOffset&quot;: null, &quot;fill&quot;: true, &quot;fillColor&quot;: &quot;#C8102E&quot;, &quot;fillOpacity&quot;: 0.6, &quot;fillRule&quot;: &quot;evenodd&quot;, &quot;lineCap&quot;: &quot;round&quot;, &quot;lineJoin&quot;: &quot;round&quot;, &quot;opacity&quot;: 1.0, &quot;radius&quot;: 5, &quot;stroke&quot;: true, &quot;weight&quot;: 3}\n",
       "            ).addTo(map_d6acd74d4c0fadd3bec37e035c2b04cd);\n",
       "        \n",
       "    \n",
       "        var popup_82ab80d9adcf260541f0745ea4acde3e = L.popup({&quot;maxWidth&quot;: 300, &quot;minWidth&quot;: 200});\n",
       "\n",
       "        \n",
       "            \n",
       "                var html_4cf5b7a7eda2cdbf6352414231832b7d = $(`&lt;div id=&quot;html_4cf5b7a7eda2cdbf6352414231832b7d&quot; style=&quot;width: 100.0%; height: 100.0%;&quot;&gt;Spain: 11 players&lt;/div&gt;`)[0];\n",
       "                popup_82ab80d9adcf260541f0745ea4acde3e.setContent(html_4cf5b7a7eda2cdbf6352414231832b7d);\n",
       "            \n",
       "        \n",
       "\n",
       "        circle_marker_2c02e60d099fae03477bb56dc3523078.bindPopup(popup_82ab80d9adcf260541f0745ea4acde3e)\n",
       "        ;\n",
       "\n",
       "        \n",
       "    \n",
       "    \n",
       "            var circle_marker_a695352a1e0812f76fdc2128b8ad81f7 = L.circleMarker(\n",
       "                [39.6621648, -8.1353519],\n",
       "                {&quot;bubblingMouseEvents&quot;: true, &quot;color&quot;: &quot;#1B3770&quot;, &quot;dashArray&quot;: null, &quot;dashOffset&quot;: null, &quot;fill&quot;: true, &quot;fillColor&quot;: &quot;#1B3770&quot;, &quot;fillOpacity&quot;: 0.6, &quot;fillRule&quot;: &quot;evenodd&quot;, &quot;lineCap&quot;: &quot;round&quot;, &quot;lineJoin&quot;: &quot;round&quot;, &quot;opacity&quot;: 1.0, &quot;radius&quot;: 5, &quot;stroke&quot;: true, &quot;weight&quot;: 3}\n",
       "            ).addTo(map_d6acd74d4c0fadd3bec37e035c2b04cd);\n",
       "        \n",
       "    \n",
       "        var popup_2b11c2facab485b9d69bf521934584d0 = L.popup({&quot;maxWidth&quot;: 300, &quot;minWidth&quot;: 200});\n",
       "\n",
       "        \n",
       "            \n",
       "                var html_cc7b33a9ea83d676420e5d1f1877c006 = $(`&lt;div id=&quot;html_cc7b33a9ea83d676420e5d1f1877c006&quot; style=&quot;width: 100.0%; height: 100.0%;&quot;&gt;Portugal: 1 players&lt;/div&gt;`)[0];\n",
       "                popup_2b11c2facab485b9d69bf521934584d0.setContent(html_cc7b33a9ea83d676420e5d1f1877c006);\n",
       "            \n",
       "        \n",
       "\n",
       "        circle_marker_a695352a1e0812f76fdc2128b8ad81f7.bindPopup(popup_2b11c2facab485b9d69bf521934584d0)\n",
       "        ;\n",
       "\n",
       "        \n",
       "    \n",
       "    \n",
       "            var circle_marker_93ae1a11fd94429088bdba4712e55017 = L.circleMarker(\n",
       "                [39.7837304, -100.445882],\n",
       "                {&quot;bubblingMouseEvents&quot;: true, &quot;color&quot;: &quot;black&quot;, &quot;dashArray&quot;: null, &quot;dashOffset&quot;: null, &quot;fill&quot;: true, &quot;fillColor&quot;: &quot;black&quot;, &quot;fillOpacity&quot;: 0.6, &quot;fillRule&quot;: &quot;evenodd&quot;, &quot;lineCap&quot;: &quot;round&quot;, &quot;lineJoin&quot;: &quot;round&quot;, &quot;opacity&quot;: 1.0, &quot;radius&quot;: 5, &quot;stroke&quot;: true, &quot;weight&quot;: 3}\n",
       "            ).addTo(map_d6acd74d4c0fadd3bec37e035c2b04cd);\n",
       "        \n",
       "    \n",
       "        var popup_ecb6a0df02891b31b51b9b865deb7ac8 = L.popup({&quot;maxWidth&quot;: 300, &quot;minWidth&quot;: 200});\n",
       "\n",
       "        \n",
       "            \n",
       "                var html_7651dc35a33a4d2c48528ace5c5b678a = $(`&lt;div id=&quot;html_7651dc35a33a4d2c48528ace5c5b678a&quot; style=&quot;width: 100.0%; height: 100.0%;&quot;&gt;United States of America: 3770 players&lt;/div&gt;`)[0];\n",
       "                popup_ecb6a0df02891b31b51b9b865deb7ac8.setContent(html_7651dc35a33a4d2c48528ace5c5b678a);\n",
       "            \n",
       "        \n",
       "\n",
       "        circle_marker_93ae1a11fd94429088bdba4712e55017.bindPopup(popup_ecb6a0df02891b31b51b9b865deb7ac8)\n",
       "        ;\n",
       "\n",
       "        \n",
       "    \n",
       "    \n",
       "            var circle_marker_f291af9af8b5cf04ab799aa50b608a16 = L.circleMarker(\n",
       "                [41.1927739, -95.4256198],\n",
       "                {&quot;bubblingMouseEvents&quot;: true, &quot;color&quot;: &quot;#1B3770&quot;, &quot;dashArray&quot;: null, &quot;dashOffset&quot;: null, &quot;fill&quot;: true, &quot;fillColor&quot;: &quot;#1B3770&quot;, &quot;fillOpacity&quot;: 0.6, &quot;fillRule&quot;: &quot;evenodd&quot;, &quot;lineCap&quot;: &quot;round&quot;, &quot;lineJoin&quot;: &quot;round&quot;, &quot;opacity&quot;: 1.0, &quot;radius&quot;: 5, &quot;stroke&quot;: true, &quot;weight&quot;: 3}\n",
       "            ).addTo(map_d6acd74d4c0fadd3bec37e035c2b04cd);\n",
       "        \n",
       "    \n",
       "        var popup_c8617cd26eb4b19e7290612e4279a696 = L.popup({&quot;maxWidth&quot;: 300, &quot;minWidth&quot;: 200});\n",
       "\n",
       "        \n",
       "            \n",
       "                var html_c4959bc1ae20a20728749712e17b4c5c = $(`&lt;div id=&quot;html_c4959bc1ae20a20728749712e17b4c5c&quot; style=&quot;width: 100.0%; height: 100.0%;&quot;&gt;Macedonia: 1 players&lt;/div&gt;`)[0];\n",
       "                popup_c8617cd26eb4b19e7290612e4279a696.setContent(html_c4959bc1ae20a20728749712e17b4c5c);\n",
       "            \n",
       "        \n",
       "\n",
       "        circle_marker_f291af9af8b5cf04ab799aa50b608a16.bindPopup(popup_c8617cd26eb4b19e7290612e4279a696)\n",
       "        ;\n",
       "\n",
       "        \n",
       "    \n",
       "    \n",
       "            var circle_marker_4204230a829d21baca2f32ae2b84cd86 = L.circleMarker(\n",
       "                [42.6073975, 25.4856617],\n",
       "                {&quot;bubblingMouseEvents&quot;: true, &quot;color&quot;: &quot;#1B3770&quot;, &quot;dashArray&quot;: null, &quot;dashOffset&quot;: null, &quot;fill&quot;: true, &quot;fillColor&quot;: &quot;#1B3770&quot;, &quot;fillOpacity&quot;: 0.6, &quot;fillRule&quot;: &quot;evenodd&quot;, &quot;lineCap&quot;: &quot;round&quot;, &quot;lineJoin&quot;: &quot;round&quot;, &quot;opacity&quot;: 1.0, &quot;radius&quot;: 5, &quot;stroke&quot;: true, &quot;weight&quot;: 3}\n",
       "            ).addTo(map_d6acd74d4c0fadd3bec37e035c2b04cd);\n",
       "        \n",
       "    \n",
       "        var popup_62d8bf873d9c98ce0d34142c07e31518 = L.popup({&quot;maxWidth&quot;: 300, &quot;minWidth&quot;: 200});\n",
       "\n",
       "        \n",
       "            \n",
       "                var html_9d61eb43fc943ff1a56f562f6a1f2028 = $(`&lt;div id=&quot;html_9d61eb43fc943ff1a56f562f6a1f2028&quot; style=&quot;width: 100.0%; height: 100.0%;&quot;&gt;Bulgaria: 1 players&lt;/div&gt;`)[0];\n",
       "                popup_62d8bf873d9c98ce0d34142c07e31518.setContent(html_9d61eb43fc943ff1a56f562f6a1f2028);\n",
       "            \n",
       "        \n",
       "\n",
       "        circle_marker_4204230a829d21baca2f32ae2b84cd86.bindPopup(popup_62d8bf873d9c98ce0d34142c07e31518)\n",
       "        ;\n",
       "\n",
       "        \n",
       "    \n",
       "    \n",
       "            var circle_marker_01ac0c2ef27933b1b4e9943c53d344e6 = L.circleMarker(\n",
       "                [42.6384261, 12.674297],\n",
       "                {&quot;bubblingMouseEvents&quot;: true, &quot;color&quot;: &quot;#1B3770&quot;, &quot;dashArray&quot;: null, &quot;dashOffset&quot;: null, &quot;fill&quot;: true, &quot;fillColor&quot;: &quot;#1B3770&quot;, &quot;fillOpacity&quot;: 0.6, &quot;fillRule&quot;: &quot;evenodd&quot;, &quot;lineCap&quot;: &quot;round&quot;, &quot;lineJoin&quot;: &quot;round&quot;, &quot;opacity&quot;: 1.0, &quot;radius&quot;: 5, &quot;stroke&quot;: true, &quot;weight&quot;: 3}\n",
       "            ).addTo(map_d6acd74d4c0fadd3bec37e035c2b04cd);\n",
       "        \n",
       "    \n",
       "        var popup_95e5db75f14af76d18577184d7a35fd4 = L.popup({&quot;maxWidth&quot;: 300, &quot;minWidth&quot;: 200});\n",
       "\n",
       "        \n",
       "            \n",
       "                var html_e077a9997f76514df0b0c8373a858452 = $(`&lt;div id=&quot;html_e077a9997f76514df0b0c8373a858452&quot; style=&quot;width: 100.0%; height: 100.0%;&quot;&gt;Italy: 7 players&lt;/div&gt;`)[0];\n",
       "                popup_95e5db75f14af76d18577184d7a35fd4.setContent(html_e077a9997f76514df0b0c8373a858452);\n",
       "            \n",
       "        \n",
       "\n",
       "        circle_marker_01ac0c2ef27933b1b4e9943c53d344e6.bindPopup(popup_95e5db75f14af76d18577184d7a35fd4)\n",
       "        ;\n",
       "\n",
       "        \n",
       "    \n",
       "    \n",
       "            var circle_marker_fa4d86d1a0021a3515beda5fbe77e596 = L.circleMarker(\n",
       "                [43.2097838, -77.6930602],\n",
       "                {&quot;bubblingMouseEvents&quot;: true, &quot;color&quot;: &quot;#1B3770&quot;, &quot;dashArray&quot;: null, &quot;dashOffset&quot;: null, &quot;fill&quot;: true, &quot;fillColor&quot;: &quot;#1B3770&quot;, &quot;fillOpacity&quot;: 0.6, &quot;fillRule&quot;: &quot;evenodd&quot;, &quot;lineCap&quot;: &quot;round&quot;, &quot;lineJoin&quot;: &quot;round&quot;, &quot;opacity&quot;: 1.0, &quot;radius&quot;: 5, &quot;stroke&quot;: true, &quot;weight&quot;: 3}\n",
       "            ).addTo(map_d6acd74d4c0fadd3bec37e035c2b04cd);\n",
       "        \n",
       "    \n",
       "        var popup_d403d43bd1b0239d50ca5f10124fd099 = L.popup({&quot;maxWidth&quot;: 300, &quot;minWidth&quot;: 200});\n",
       "\n",
       "        \n",
       "            \n",
       "                var html_0068eb44cec5c4349252f11583263a35 = $(`&lt;div id=&quot;html_0068eb44cec5c4349252f11583263a35&quot; style=&quot;width: 100.0%; height: 100.0%;&quot;&gt;Greece: 10 players&lt;/div&gt;`)[0];\n",
       "                popup_d403d43bd1b0239d50ca5f10124fd099.setContent(html_0068eb44cec5c4349252f11583263a35);\n",
       "            \n",
       "        \n",
       "\n",
       "        circle_marker_fa4d86d1a0021a3515beda5fbe77e596.bindPopup(popup_d403d43bd1b0239d50ca5f10124fd099)\n",
       "        ;\n",
       "\n",
       "        \n",
       "    \n",
       "    \n",
       "            var circle_marker_e6db88fbccf617acdafa690d29d578be = L.circleMarker(\n",
       "                [44.024322850000004, 21.07657433209902],\n",
       "                {&quot;bubblingMouseEvents&quot;: true, &quot;color&quot;: &quot;#C8102E&quot;, &quot;dashArray&quot;: null, &quot;dashOffset&quot;: null, &quot;fill&quot;: true, &quot;fillColor&quot;: &quot;#C8102E&quot;, &quot;fillOpacity&quot;: 0.6, &quot;fillRule&quot;: &quot;evenodd&quot;, &quot;lineCap&quot;: &quot;round&quot;, &quot;lineJoin&quot;: &quot;round&quot;, &quot;opacity&quot;: 1.0, &quot;radius&quot;: 5, &quot;stroke&quot;: true, &quot;weight&quot;: 3}\n",
       "            ).addTo(map_d6acd74d4c0fadd3bec37e035c2b04cd);\n",
       "        \n",
       "    \n",
       "        var popup_3c4ab3606c6b66a7671d05c3273370e1 = L.popup({&quot;maxWidth&quot;: 300, &quot;minWidth&quot;: 200});\n",
       "\n",
       "        \n",
       "            \n",
       "                var html_614dc82e558cfa9fb7da752437ffe5fd = $(`&lt;div id=&quot;html_614dc82e558cfa9fb7da752437ffe5fd&quot; style=&quot;width: 100.0%; height: 100.0%;&quot;&gt;Serbia: 27 players&lt;/div&gt;`)[0];\n",
       "                popup_3c4ab3606c6b66a7671d05c3273370e1.setContent(html_614dc82e558cfa9fb7da752437ffe5fd);\n",
       "            \n",
       "        \n",
       "\n",
       "        circle_marker_e6db88fbccf617acdafa690d29d578be.bindPopup(popup_3c4ab3606c6b66a7671d05c3273370e1)\n",
       "        ;\n",
       "\n",
       "        \n",
       "    \n",
       "    \n",
       "            var circle_marker_3c9dee625fe3799b467a9c0491890d6b = L.circleMarker(\n",
       "                [44.3053476, 17.5961467],\n",
       "                {&quot;bubblingMouseEvents&quot;: true, &quot;color&quot;: &quot;#1B3770&quot;, &quot;dashArray&quot;: null, &quot;dashOffset&quot;: null, &quot;fill&quot;: true, &quot;fillColor&quot;: &quot;#1B3770&quot;, &quot;fillOpacity&quot;: 0.6, &quot;fillRule&quot;: &quot;evenodd&quot;, &quot;lineCap&quot;: &quot;round&quot;, &quot;lineJoin&quot;: &quot;round&quot;, &quot;opacity&quot;: 1.0, &quot;radius&quot;: 5, &quot;stroke&quot;: true, &quot;weight&quot;: 3}\n",
       "            ).addTo(map_d6acd74d4c0fadd3bec37e035c2b04cd);\n",
       "        \n",
       "    \n",
       "        var popup_3ec57946ec92f883801d098a0ad9cede = L.popup({&quot;maxWidth&quot;: 300, &quot;minWidth&quot;: 200});\n",
       "\n",
       "        \n",
       "            \n",
       "                var html_534586d0b60565a5377ced35d2ce5a5c = $(`&lt;div id=&quot;html_534586d0b60565a5377ced35d2ce5a5c&quot; style=&quot;width: 100.0%; height: 100.0%;&quot;&gt;Bosnia and Herzegovina: 5 players&lt;/div&gt;`)[0];\n",
       "                popup_3ec57946ec92f883801d098a0ad9cede.setContent(html_534586d0b60565a5377ced35d2ce5a5c);\n",
       "            \n",
       "        \n",
       "\n",
       "        circle_marker_3c9dee625fe3799b467a9c0491890d6b.bindPopup(popup_3ec57946ec92f883801d098a0ad9cede)\n",
       "        ;\n",
       "\n",
       "        \n",
       "    \n",
       "    \n",
       "            var circle_marker_2f73af78d12269b012e7d542e6d6535b = L.circleMarker(\n",
       "                [45.3658443, 15.6575209],\n",
       "                {&quot;bubblingMouseEvents&quot;: true, &quot;color&quot;: &quot;#C8102E&quot;, &quot;dashArray&quot;: null, &quot;dashOffset&quot;: null, &quot;fill&quot;: true, &quot;fillColor&quot;: &quot;#C8102E&quot;, &quot;fillOpacity&quot;: 0.6, &quot;fillRule&quot;: &quot;evenodd&quot;, &quot;lineCap&quot;: &quot;round&quot;, &quot;lineJoin&quot;: &quot;round&quot;, &quot;opacity&quot;: 1.0, &quot;radius&quot;: 5, &quot;stroke&quot;: true, &quot;weight&quot;: 3}\n",
       "            ).addTo(map_d6acd74d4c0fadd3bec37e035c2b04cd);\n",
       "        \n",
       "    \n",
       "        var popup_650916e47f394e65eee919704adff822 = L.popup({&quot;maxWidth&quot;: 300, &quot;minWidth&quot;: 200});\n",
       "\n",
       "        \n",
       "            \n",
       "                var html_506362ecd686125d2b0a244850568b2a = $(`&lt;div id=&quot;html_506362ecd686125d2b0a244850568b2a&quot; style=&quot;width: 100.0%; height: 100.0%;&quot;&gt;Croatia: 20 players&lt;/div&gt;`)[0];\n",
       "                popup_650916e47f394e65eee919704adff822.setContent(html_506362ecd686125d2b0a244850568b2a);\n",
       "            \n",
       "        \n",
       "\n",
       "        circle_marker_2f73af78d12269b012e7d542e6d6535b.bindPopup(popup_650916e47f394e65eee919704adff822)\n",
       "        ;\n",
       "\n",
       "        \n",
       "    \n",
       "    \n",
       "            var circle_marker_fbd80daf31b1272ef0e812aff7546193 = L.circleMarker(\n",
       "                [45.9852129, 24.6859225],\n",
       "                {&quot;bubblingMouseEvents&quot;: true, &quot;color&quot;: &quot;#1B3770&quot;, &quot;dashArray&quot;: null, &quot;dashOffset&quot;: null, &quot;fill&quot;: true, &quot;fillColor&quot;: &quot;#1B3770&quot;, &quot;fillOpacity&quot;: 0.6, &quot;fillRule&quot;: &quot;evenodd&quot;, &quot;lineCap&quot;: &quot;round&quot;, &quot;lineJoin&quot;: &quot;round&quot;, &quot;opacity&quot;: 1.0, &quot;radius&quot;: 5, &quot;stroke&quot;: true, &quot;weight&quot;: 3}\n",
       "            ).addTo(map_d6acd74d4c0fadd3bec37e035c2b04cd);\n",
       "        \n",
       "    \n",
       "        var popup_d3c8ffa0421381631fba88d6790bb2be = L.popup({&quot;maxWidth&quot;: 300, &quot;minWidth&quot;: 200});\n",
       "\n",
       "        \n",
       "            \n",
       "                var html_2808348fd2f29ffb2af114e903922e64 = $(`&lt;div id=&quot;html_2808348fd2f29ffb2af114e903922e64&quot; style=&quot;width: 100.0%; height: 100.0%;&quot;&gt;Romania: 1 players&lt;/div&gt;`)[0];\n",
       "                popup_d3c8ffa0421381631fba88d6790bb2be.setContent(html_2808348fd2f29ffb2af114e903922e64);\n",
       "            \n",
       "        \n",
       "\n",
       "        circle_marker_fbd80daf31b1272ef0e812aff7546193.bindPopup(popup_d3c8ffa0421381631fba88d6790bb2be)\n",
       "        ;\n",
       "\n",
       "        \n",
       "    \n",
       "    \n",
       "            var circle_marker_f848764f88248c9111a4a4452bb22828 = L.circleMarker(\n",
       "                [46.1199444, 14.8153333],\n",
       "                {&quot;bubblingMouseEvents&quot;: true, &quot;color&quot;: &quot;#1B3770&quot;, &quot;dashArray&quot;: null, &quot;dashOffset&quot;: null, &quot;fill&quot;: true, &quot;fillColor&quot;: &quot;#1B3770&quot;, &quot;fillOpacity&quot;: 0.6, &quot;fillRule&quot;: &quot;evenodd&quot;, &quot;lineCap&quot;: &quot;round&quot;, &quot;lineJoin&quot;: &quot;round&quot;, &quot;opacity&quot;: 1.0, &quot;radius&quot;: 5, &quot;stroke&quot;: true, &quot;weight&quot;: 3}\n",
       "            ).addTo(map_d6acd74d4c0fadd3bec37e035c2b04cd);\n",
       "        \n",
       "    \n",
       "        var popup_30bf6f834fc6758e62e6ccb859d982b4 = L.popup({&quot;maxWidth&quot;: 300, &quot;minWidth&quot;: 200});\n",
       "\n",
       "        \n",
       "            \n",
       "                var html_fe894b3a829b48844e2d0e8036a653be = $(`&lt;div id=&quot;html_fe894b3a829b48844e2d0e8036a653be&quot; style=&quot;width: 100.0%; height: 100.0%;&quot;&gt;Slovenia: 9 players&lt;/div&gt;`)[0];\n",
       "                popup_30bf6f834fc6758e62e6ccb859d982b4.setContent(html_fe894b3a829b48844e2d0e8036a653be);\n",
       "            \n",
       "        \n",
       "\n",
       "        circle_marker_f848764f88248c9111a4a4452bb22828.bindPopup(popup_30bf6f834fc6758e62e6ccb859d982b4)\n",
       "        ;\n",
       "\n",
       "        \n",
       "    \n",
       "    \n",
       "            var circle_marker_871e44a12006fe77ed15646258183c18 = L.circleMarker(\n",
       "                [46.3144754, 11.0480288],\n",
       "                {&quot;bubblingMouseEvents&quot;: true, &quot;color&quot;: &quot;#1B3770&quot;, &quot;dashArray&quot;: null, &quot;dashOffset&quot;: null, &quot;fill&quot;: true, &quot;fillColor&quot;: &quot;#1B3770&quot;, &quot;fillOpacity&quot;: 0.6, &quot;fillRule&quot;: &quot;evenodd&quot;, &quot;lineCap&quot;: &quot;round&quot;, &quot;lineJoin&quot;: &quot;round&quot;, &quot;opacity&quot;: 1.0, &quot;radius&quot;: 5, &quot;stroke&quot;: true, &quot;weight&quot;: 3}\n",
       "            ).addTo(map_d6acd74d4c0fadd3bec37e035c2b04cd);\n",
       "        \n",
       "    \n",
       "        var popup_7e3ba73e3f3d55426ba18162498bf35a = L.popup({&quot;maxWidth&quot;: 300, &quot;minWidth&quot;: 200});\n",
       "\n",
       "        \n",
       "            \n",
       "                var html_639a58d036609be46362e0d3e510d4d4 = $(`&lt;div id=&quot;html_639a58d036609be46362e0d3e510d4d4&quot; style=&quot;width: 100.0%; height: 100.0%;&quot;&gt;None: 1 players&lt;/div&gt;`)[0];\n",
       "                popup_7e3ba73e3f3d55426ba18162498bf35a.setContent(html_639a58d036609be46362e0d3e510d4d4);\n",
       "            \n",
       "        \n",
       "\n",
       "        circle_marker_871e44a12006fe77ed15646258183c18.bindPopup(popup_7e3ba73e3f3d55426ba18162498bf35a)\n",
       "        ;\n",
       "\n",
       "        \n",
       "    \n",
       "    \n",
       "            var circle_marker_abb74fe75d81a1a331fd379619841068 = L.circleMarker(\n",
       "                [46.603354, 1.8883335],\n",
       "                {&quot;bubblingMouseEvents&quot;: true, &quot;color&quot;: &quot;#C8102E&quot;, &quot;dashArray&quot;: null, &quot;dashOffset&quot;: null, &quot;fill&quot;: true, &quot;fillColor&quot;: &quot;#C8102E&quot;, &quot;fillOpacity&quot;: 0.6, &quot;fillRule&quot;: &quot;evenodd&quot;, &quot;lineCap&quot;: &quot;round&quot;, &quot;lineJoin&quot;: &quot;round&quot;, &quot;opacity&quot;: 1.0, &quot;radius&quot;: 5, &quot;stroke&quot;: true, &quot;weight&quot;: 3}\n",
       "            ).addTo(map_d6acd74d4c0fadd3bec37e035c2b04cd);\n",
       "        \n",
       "    \n",
       "        var popup_3b0fc1cb6d1bfce1c172943196f916cd = L.popup({&quot;maxWidth&quot;: 300, &quot;minWidth&quot;: 200});\n",
       "\n",
       "        \n",
       "            \n",
       "                var html_b2fec11991de37f133f9ff6a86fd02a0 = $(`&lt;div id=&quot;html_b2fec11991de37f133f9ff6a86fd02a0&quot; style=&quot;width: 100.0%; height: 100.0%;&quot;&gt;France: 33 players&lt;/div&gt;`)[0];\n",
       "                popup_3b0fc1cb6d1bfce1c172943196f916cd.setContent(html_b2fec11991de37f133f9ff6a86fd02a0);\n",
       "            \n",
       "        \n",
       "\n",
       "        circle_marker_abb74fe75d81a1a331fd379619841068.bindPopup(popup_3b0fc1cb6d1bfce1c172943196f916cd)\n",
       "        ;\n",
       "\n",
       "        \n",
       "    \n",
       "    \n",
       "            var circle_marker_b58d718e574876b236687efa1b13d400 = L.circleMarker(\n",
       "                [46.7985624, 8.2319736],\n",
       "                {&quot;bubblingMouseEvents&quot;: true, &quot;color&quot;: &quot;#1B3770&quot;, &quot;dashArray&quot;: null, &quot;dashOffset&quot;: null, &quot;fill&quot;: true, &quot;fillColor&quot;: &quot;#1B3770&quot;, &quot;fillOpacity&quot;: 0.6, &quot;fillRule&quot;: &quot;evenodd&quot;, &quot;lineCap&quot;: &quot;round&quot;, &quot;lineJoin&quot;: &quot;round&quot;, &quot;opacity&quot;: 1.0, &quot;radius&quot;: 5, &quot;stroke&quot;: true, &quot;weight&quot;: 3}\n",
       "            ).addTo(map_d6acd74d4c0fadd3bec37e035c2b04cd);\n",
       "        \n",
       "    \n",
       "        var popup_77115c04be53c2e9d874d80689cff12d = L.popup({&quot;maxWidth&quot;: 300, &quot;minWidth&quot;: 200});\n",
       "\n",
       "        \n",
       "            \n",
       "                var html_99a2c98191670d08622e63b28eac9a3a = $(`&lt;div id=&quot;html_99a2c98191670d08622e63b28eac9a3a&quot; style=&quot;width: 100.0%; height: 100.0%;&quot;&gt;Switzerland: 1 players&lt;/div&gt;`)[0];\n",
       "                popup_77115c04be53c2e9d874d80689cff12d.setContent(html_99a2c98191670d08622e63b28eac9a3a);\n",
       "            \n",
       "        \n",
       "\n",
       "        circle_marker_b58d718e574876b236687efa1b13d400.bindPopup(popup_77115c04be53c2e9d874d80689cff12d)\n",
       "        ;\n",
       "\n",
       "        \n",
       "    \n",
       "    \n",
       "            var circle_marker_10c95331f16b8a32dc1c849f8fc7e969 = L.circleMarker(\n",
       "                [47.59397, 14.12456],\n",
       "                {&quot;bubblingMouseEvents&quot;: true, &quot;color&quot;: &quot;#1B3770&quot;, &quot;dashArray&quot;: null, &quot;dashOffset&quot;: null, &quot;fill&quot;: true, &quot;fillColor&quot;: &quot;#1B3770&quot;, &quot;fillOpacity&quot;: 0.6, &quot;fillRule&quot;: &quot;evenodd&quot;, &quot;lineCap&quot;: &quot;round&quot;, &quot;lineJoin&quot;: &quot;round&quot;, &quot;opacity&quot;: 1.0, &quot;radius&quot;: 5, &quot;stroke&quot;: true, &quot;weight&quot;: 3}\n",
       "            ).addTo(map_d6acd74d4c0fadd3bec37e035c2b04cd);\n",
       "        \n",
       "    \n",
       "        var popup_be4b871acf88494e9669b10ae7658155 = L.popup({&quot;maxWidth&quot;: 300, &quot;minWidth&quot;: 200});\n",
       "\n",
       "        \n",
       "            \n",
       "                var html_b619492ddfc3394bcd0ad6b5ef0687eb = $(`&lt;div id=&quot;html_b619492ddfc3394bcd0ad6b5ef0687eb&quot; style=&quot;width: 100.0%; height: 100.0%;&quot;&gt;Austria: 1 players&lt;/div&gt;`)[0];\n",
       "                popup_be4b871acf88494e9669b10ae7658155.setContent(html_b619492ddfc3394bcd0ad6b5ef0687eb);\n",
       "            \n",
       "        \n",
       "\n",
       "        circle_marker_10c95331f16b8a32dc1c849f8fc7e969.bindPopup(popup_be4b871acf88494e9669b10ae7658155)\n",
       "        ;\n",
       "\n",
       "        \n",
       "    \n",
       "    \n",
       "            var circle_marker_46cab7f0fe6163ad6169804328643a9c = L.circleMarker(\n",
       "                [49.4871968, 31.2718321],\n",
       "                {&quot;bubblingMouseEvents&quot;: true, &quot;color&quot;: &quot;#1B3770&quot;, &quot;dashArray&quot;: null, &quot;dashOffset&quot;: null, &quot;fill&quot;: true, &quot;fillColor&quot;: &quot;#1B3770&quot;, &quot;fillOpacity&quot;: 0.6, &quot;fillRule&quot;: &quot;evenodd&quot;, &quot;lineCap&quot;: &quot;round&quot;, &quot;lineJoin&quot;: &quot;round&quot;, &quot;opacity&quot;: 1.0, &quot;radius&quot;: 5, &quot;stroke&quot;: true, &quot;weight&quot;: 3}\n",
       "            ).addTo(map_d6acd74d4c0fadd3bec37e035c2b04cd);\n",
       "        \n",
       "    \n",
       "        var popup_b7bbc0bf292d6ab7715ea7b8270933de = L.popup({&quot;maxWidth&quot;: 300, &quot;minWidth&quot;: 200});\n",
       "\n",
       "        \n",
       "            \n",
       "                var html_ff6332f501a930a46b9755887c9002d8 = $(`&lt;div id=&quot;html_ff6332f501a930a46b9755887c9002d8&quot; style=&quot;width: 100.0%; height: 100.0%;&quot;&gt;Ukraine: 7 players&lt;/div&gt;`)[0];\n",
       "                popup_b7bbc0bf292d6ab7715ea7b8270933de.setContent(html_ff6332f501a930a46b9755887c9002d8);\n",
       "            \n",
       "        \n",
       "\n",
       "        circle_marker_46cab7f0fe6163ad6169804328643a9c.bindPopup(popup_b7bbc0bf292d6ab7715ea7b8270933de)\n",
       "        ;\n",
       "\n",
       "        \n",
       "    \n",
       "    \n",
       "            var circle_marker_89120c8926db0a3498e7e9ae163f7366 = L.circleMarker(\n",
       "                [49.7439047, 15.3381061],\n",
       "                {&quot;bubblingMouseEvents&quot;: true, &quot;color&quot;: &quot;#1B3770&quot;, &quot;dashArray&quot;: null, &quot;dashOffset&quot;: null, &quot;fill&quot;: true, &quot;fillColor&quot;: &quot;#1B3770&quot;, &quot;fillOpacity&quot;: 0.6, &quot;fillRule&quot;: &quot;evenodd&quot;, &quot;lineCap&quot;: &quot;round&quot;, &quot;lineJoin&quot;: &quot;round&quot;, &quot;opacity&quot;: 1.0, &quot;radius&quot;: 5, &quot;stroke&quot;: true, &quot;weight&quot;: 3}\n",
       "            ).addTo(map_d6acd74d4c0fadd3bec37e035c2b04cd);\n",
       "        \n",
       "    \n",
       "        var popup_0afc0e044e75a2798d3f03b108fd4352 = L.popup({&quot;maxWidth&quot;: 300, &quot;minWidth&quot;: 200});\n",
       "\n",
       "        \n",
       "            \n",
       "                var html_966798fe70ff0b961351758e49d852a9 = $(`&lt;div id=&quot;html_966798fe70ff0b961351758e49d852a9&quot; style=&quot;width: 100.0%; height: 100.0%;&quot;&gt;Czech Republic: 4 players&lt;/div&gt;`)[0];\n",
       "                popup_0afc0e044e75a2798d3f03b108fd4352.setContent(html_966798fe70ff0b961351758e49d852a9);\n",
       "            \n",
       "        \n",
       "\n",
       "        circle_marker_89120c8926db0a3498e7e9ae163f7366.bindPopup(popup_0afc0e044e75a2798d3f03b108fd4352)\n",
       "        ;\n",
       "\n",
       "        \n",
       "    \n",
       "    \n",
       "            var circle_marker_d9b20d108ddae363200848db58e9470f = L.circleMarker(\n",
       "                [50.6402809, 4.6667145],\n",
       "                {&quot;bubblingMouseEvents&quot;: true, &quot;color&quot;: &quot;#1B3770&quot;, &quot;dashArray&quot;: null, &quot;dashOffset&quot;: null, &quot;fill&quot;: true, &quot;fillColor&quot;: &quot;#1B3770&quot;, &quot;fillOpacity&quot;: 0.6, &quot;fillRule&quot;: &quot;evenodd&quot;, &quot;lineCap&quot;: &quot;round&quot;, &quot;lineJoin&quot;: &quot;round&quot;, &quot;opacity&quot;: 1.0, &quot;radius&quot;: 5, &quot;stroke&quot;: true, &quot;weight&quot;: 3}\n",
       "            ).addTo(map_d6acd74d4c0fadd3bec37e035c2b04cd);\n",
       "        \n",
       "    \n",
       "        var popup_58d1ac1ff6fd0659ed212addd70cdfad = L.popup({&quot;maxWidth&quot;: 300, &quot;minWidth&quot;: 200});\n",
       "\n",
       "        \n",
       "            \n",
       "                var html_5b53d1916dfdda5e0327fa755549713f = $(`&lt;div id=&quot;html_5b53d1916dfdda5e0327fa755549713f&quot; style=&quot;width: 100.0%; height: 100.0%;&quot;&gt;Belgium: 1 players&lt;/div&gt;`)[0];\n",
       "                popup_58d1ac1ff6fd0659ed212addd70cdfad.setContent(html_5b53d1916dfdda5e0327fa755549713f);\n",
       "            \n",
       "        \n",
       "\n",
       "        circle_marker_d9b20d108ddae363200848db58e9470f.bindPopup(popup_58d1ac1ff6fd0659ed212addd70cdfad)\n",
       "        ;\n",
       "\n",
       "        \n",
       "    \n",
       "    \n",
       "            var circle_marker_5f6b374832a82ed55551217dc9fffc8e = L.circleMarker(\n",
       "                [51.1638175, 10.4478313],\n",
       "                {&quot;bubblingMouseEvents&quot;: true, &quot;color&quot;: &quot;#1B3770&quot;, &quot;dashArray&quot;: null, &quot;dashOffset&quot;: null, &quot;fill&quot;: true, &quot;fillColor&quot;: &quot;#1B3770&quot;, &quot;fillOpacity&quot;: 0.6, &quot;fillRule&quot;: &quot;evenodd&quot;, &quot;lineCap&quot;: &quot;round&quot;, &quot;lineJoin&quot;: &quot;round&quot;, &quot;opacity&quot;: 1.0, &quot;radius&quot;: 5, &quot;stroke&quot;: true, &quot;weight&quot;: 3}\n",
       "            ).addTo(map_d6acd74d4c0fadd3bec37e035c2b04cd);\n",
       "        \n",
       "    \n",
       "        var popup_3463ef92f8049580e2548e3d4d25dca4 = L.popup({&quot;maxWidth&quot;: 300, &quot;minWidth&quot;: 200});\n",
       "\n",
       "        \n",
       "            \n",
       "                var html_5af74c22493f43032b2025cdd5f2b3d9 = $(`&lt;div id=&quot;html_5af74c22493f43032b2025cdd5f2b3d9&quot; style=&quot;width: 100.0%; height: 100.0%;&quot;&gt;Germany: 10 players&lt;/div&gt;`)[0];\n",
       "                popup_3463ef92f8049580e2548e3d4d25dca4.setContent(html_5af74c22493f43032b2025cdd5f2b3d9);\n",
       "            \n",
       "        \n",
       "\n",
       "        circle_marker_5f6b374832a82ed55551217dc9fffc8e.bindPopup(popup_3463ef92f8049580e2548e3d4d25dca4)\n",
       "        ;\n",
       "\n",
       "        \n",
       "    \n",
       "    \n",
       "            var circle_marker_cf0254eb0db8865ff0606f8c34a0ee7f = L.circleMarker(\n",
       "                [52.215933, 19.134422],\n",
       "                {&quot;bubblingMouseEvents&quot;: true, &quot;color&quot;: &quot;#1B3770&quot;, &quot;dashArray&quot;: null, &quot;dashOffset&quot;: null, &quot;fill&quot;: true, &quot;fillColor&quot;: &quot;#1B3770&quot;, &quot;fillOpacity&quot;: 0.6, &quot;fillRule&quot;: &quot;evenodd&quot;, &quot;lineCap&quot;: &quot;round&quot;, &quot;lineJoin&quot;: &quot;round&quot;, &quot;opacity&quot;: 1.0, &quot;radius&quot;: 5, &quot;stroke&quot;: true, &quot;weight&quot;: 3}\n",
       "            ).addTo(map_d6acd74d4c0fadd3bec37e035c2b04cd);\n",
       "        \n",
       "    \n",
       "        var popup_f262eb68b55202ecc4ebbef4e0ad705e = L.popup({&quot;maxWidth&quot;: 300, &quot;minWidth&quot;: 200});\n",
       "\n",
       "        \n",
       "            \n",
       "                var html_556678ebb1f81ca4ce1d007e72aa135e = $(`&lt;div id=&quot;html_556678ebb1f81ca4ce1d007e72aa135e&quot; style=&quot;width: 100.0%; height: 100.0%;&quot;&gt;Poland: 4 players&lt;/div&gt;`)[0];\n",
       "                popup_f262eb68b55202ecc4ebbef4e0ad705e.setContent(html_556678ebb1f81ca4ce1d007e72aa135e);\n",
       "            \n",
       "        \n",
       "\n",
       "        circle_marker_cf0254eb0db8865ff0606f8c34a0ee7f.bindPopup(popup_f262eb68b55202ecc4ebbef4e0ad705e)\n",
       "        ;\n",
       "\n",
       "        \n",
       "    \n",
       "    \n",
       "            var circle_marker_56360b1c49f2f5a974faf989b0bfc781 = L.circleMarker(\n",
       "                [52.2434979, 5.6343227],\n",
       "                {&quot;bubblingMouseEvents&quot;: true, &quot;color&quot;: &quot;#1B3770&quot;, &quot;dashArray&quot;: null, &quot;dashOffset&quot;: null, &quot;fill&quot;: true, &quot;fillColor&quot;: &quot;#1B3770&quot;, &quot;fillOpacity&quot;: 0.6, &quot;fillRule&quot;: &quot;evenodd&quot;, &quot;lineCap&quot;: &quot;round&quot;, &quot;lineJoin&quot;: &quot;round&quot;, &quot;opacity&quot;: 1.0, &quot;radius&quot;: 5, &quot;stroke&quot;: true, &quot;weight&quot;: 3}\n",
       "            ).addTo(map_d6acd74d4c0fadd3bec37e035c2b04cd);\n",
       "        \n",
       "    \n",
       "        var popup_7c5f4b6c5f7bef78166b16bbed65a105 = L.popup({&quot;maxWidth&quot;: 300, &quot;minWidth&quot;: 200});\n",
       "\n",
       "        \n",
       "            \n",
       "                var html_d93f01dde057019d5684c882e2c084e1 = $(`&lt;div id=&quot;html_d93f01dde057019d5684c882e2c084e1&quot; style=&quot;width: 100.0%; height: 100.0%;&quot;&gt;Netherlands: 2 players&lt;/div&gt;`)[0];\n",
       "                popup_7c5f4b6c5f7bef78166b16bbed65a105.setContent(html_d93f01dde057019d5684c882e2c084e1);\n",
       "            \n",
       "        \n",
       "\n",
       "        circle_marker_56360b1c49f2f5a974faf989b0bfc781.bindPopup(popup_7c5f4b6c5f7bef78166b16bbed65a105)\n",
       "        ;\n",
       "\n",
       "        \n",
       "    \n",
       "    \n",
       "            var circle_marker_e6fed7a17adbd09039e0b4f3d179e158 = L.circleMarker(\n",
       "                [52.865196, -7.9794599],\n",
       "                {&quot;bubblingMouseEvents&quot;: true, &quot;color&quot;: &quot;#1B3770&quot;, &quot;dashArray&quot;: null, &quot;dashOffset&quot;: null, &quot;fill&quot;: true, &quot;fillColor&quot;: &quot;#1B3770&quot;, &quot;fillOpacity&quot;: 0.6, &quot;fillRule&quot;: &quot;evenodd&quot;, &quot;lineCap&quot;: &quot;round&quot;, &quot;lineJoin&quot;: &quot;round&quot;, &quot;opacity&quot;: 1.0, &quot;radius&quot;: 5, &quot;stroke&quot;: true, &quot;weight&quot;: 3}\n",
       "            ).addTo(map_d6acd74d4c0fadd3bec37e035c2b04cd);\n",
       "        \n",
       "    \n",
       "        var popup_e93edd0ca6a17521850f37d42f581670 = L.popup({&quot;maxWidth&quot;: 300, &quot;minWidth&quot;: 200});\n",
       "\n",
       "        \n",
       "            \n",
       "                var html_f734424646953b8f628cae98c852ee3c = $(`&lt;div id=&quot;html_f734424646953b8f628cae98c852ee3c&quot; style=&quot;width: 100.0%; height: 100.0%;&quot;&gt;Ireland: 1 players&lt;/div&gt;`)[0];\n",
       "                popup_e93edd0ca6a17521850f37d42f581670.setContent(html_f734424646953b8f628cae98c852ee3c);\n",
       "            \n",
       "        \n",
       "\n",
       "        circle_marker_e6fed7a17adbd09039e0b4f3d179e158.bindPopup(popup_e93edd0ca6a17521850f37d42f581670)\n",
       "        ;\n",
       "\n",
       "        \n",
       "    \n",
       "    \n",
       "            var circle_marker_d03d608bc9ec65a4cd427e87d6ee2d5f = L.circleMarker(\n",
       "                [54.7023545, -3.2765753],\n",
       "                {&quot;bubblingMouseEvents&quot;: true, &quot;color&quot;: &quot;#1B3770&quot;, &quot;dashArray&quot;: null, &quot;dashOffset&quot;: null, &quot;fill&quot;: true, &quot;fillColor&quot;: &quot;#1B3770&quot;, &quot;fillOpacity&quot;: 0.6, &quot;fillRule&quot;: &quot;evenodd&quot;, &quot;lineCap&quot;: &quot;round&quot;, &quot;lineJoin&quot;: &quot;round&quot;, &quot;opacity&quot;: 1.0, &quot;radius&quot;: 5, &quot;stroke&quot;: true, &quot;weight&quot;: 3}\n",
       "            ).addTo(map_d6acd74d4c0fadd3bec37e035c2b04cd);\n",
       "        \n",
       "    \n",
       "        var popup_c175095259dedf1c2165bdb1f22a38df = L.popup({&quot;maxWidth&quot;: 300, &quot;minWidth&quot;: 200});\n",
       "\n",
       "        \n",
       "            \n",
       "                var html_2affe64798d6bdf036016fde300013c6 = $(`&lt;div id=&quot;html_2affe64798d6bdf036016fde300013c6&quot; style=&quot;width: 100.0%; height: 100.0%;&quot;&gt;United Kingdom: 6 players&lt;/div&gt;`)[0];\n",
       "                popup_c175095259dedf1c2165bdb1f22a38df.setContent(html_2affe64798d6bdf036016fde300013c6);\n",
       "            \n",
       "        \n",
       "\n",
       "        circle_marker_d03d608bc9ec65a4cd427e87d6ee2d5f.bindPopup(popup_c175095259dedf1c2165bdb1f22a38df)\n",
       "        ;\n",
       "\n",
       "        \n",
       "    \n",
       "    \n",
       "            var circle_marker_8b5177406d51753509ff2ad544dd7dd6 = L.circleMarker(\n",
       "                [55.3500003, 23.7499997],\n",
       "                {&quot;bubblingMouseEvents&quot;: true, &quot;color&quot;: &quot;#C8102E&quot;, &quot;dashArray&quot;: null, &quot;dashOffset&quot;: null, &quot;fill&quot;: true, &quot;fillColor&quot;: &quot;#C8102E&quot;, &quot;fillOpacity&quot;: 0.6, &quot;fillRule&quot;: &quot;evenodd&quot;, &quot;lineCap&quot;: &quot;round&quot;, &quot;lineJoin&quot;: &quot;round&quot;, &quot;opacity&quot;: 1.0, &quot;radius&quot;: 5, &quot;stroke&quot;: true, &quot;weight&quot;: 3}\n",
       "            ).addTo(map_d6acd74d4c0fadd3bec37e035c2b04cd);\n",
       "        \n",
       "    \n",
       "        var popup_fbd62bafffeea4abefe9c4a4ce04df66 = L.popup({&quot;maxWidth&quot;: 300, &quot;minWidth&quot;: 200});\n",
       "\n",
       "        \n",
       "            \n",
       "                var html_93f1f8273c197e67916bb05815334332 = $(`&lt;div id=&quot;html_93f1f8273c197e67916bb05815334332&quot; style=&quot;width: 100.0%; height: 100.0%;&quot;&gt;Lithuania: 14 players&lt;/div&gt;`)[0];\n",
       "                popup_fbd62bafffeea4abefe9c4a4ce04df66.setContent(html_93f1f8273c197e67916bb05815334332);\n",
       "            \n",
       "        \n",
       "\n",
       "        circle_marker_8b5177406d51753509ff2ad544dd7dd6.bindPopup(popup_fbd62bafffeea4abefe9c4a4ce04df66)\n",
       "        ;\n",
       "\n",
       "        \n",
       "    \n",
       "    \n",
       "            var circle_marker_6a06fff90d784509df539d0c18f47949 = L.circleMarker(\n",
       "                [56.7861112, -4.1140518],\n",
       "                {&quot;bubblingMouseEvents&quot;: true, &quot;color&quot;: &quot;#1B3770&quot;, &quot;dashArray&quot;: null, &quot;dashOffset&quot;: null, &quot;fill&quot;: true, &quot;fillColor&quot;: &quot;#1B3770&quot;, &quot;fillOpacity&quot;: 0.6, &quot;fillRule&quot;: &quot;evenodd&quot;, &quot;lineCap&quot;: &quot;round&quot;, &quot;lineJoin&quot;: &quot;round&quot;, &quot;opacity&quot;: 1.0, &quot;radius&quot;: 5, &quot;stroke&quot;: true, &quot;weight&quot;: 3}\n",
       "            ).addTo(map_d6acd74d4c0fadd3bec37e035c2b04cd);\n",
       "        \n",
       "    \n",
       "        var popup_39c6c21af1f63396838e76a52f43516e = L.popup({&quot;maxWidth&quot;: 300, &quot;minWidth&quot;: 200});\n",
       "\n",
       "        \n",
       "            \n",
       "                var html_dcb0e5201214578b5cdfbc8ae831a6a8 = $(`&lt;div id=&quot;html_dcb0e5201214578b5cdfbc8ae831a6a8&quot; style=&quot;width: 100.0%; height: 100.0%;&quot;&gt;Scotland: 1 players&lt;/div&gt;`)[0];\n",
       "                popup_39c6c21af1f63396838e76a52f43516e.setContent(html_dcb0e5201214578b5cdfbc8ae831a6a8);\n",
       "            \n",
       "        \n",
       "\n",
       "        circle_marker_6a06fff90d784509df539d0c18f47949.bindPopup(popup_39c6c21af1f63396838e76a52f43516e)\n",
       "        ;\n",
       "\n",
       "        \n",
       "    \n",
       "    \n",
       "            var circle_marker_6366b401d4298e03f51090d3b1e72d54 = L.circleMarker(\n",
       "                [56.8406494, 24.7537645],\n",
       "                {&quot;bubblingMouseEvents&quot;: true, &quot;color&quot;: &quot;#1B3770&quot;, &quot;dashArray&quot;: null, &quot;dashOffset&quot;: null, &quot;fill&quot;: true, &quot;fillColor&quot;: &quot;#1B3770&quot;, &quot;fillOpacity&quot;: 0.6, &quot;fillRule&quot;: &quot;evenodd&quot;, &quot;lineCap&quot;: &quot;round&quot;, &quot;lineJoin&quot;: &quot;round&quot;, &quot;opacity&quot;: 1.0, &quot;radius&quot;: 5, &quot;stroke&quot;: true, &quot;weight&quot;: 3}\n",
       "            ).addTo(map_d6acd74d4c0fadd3bec37e035c2b04cd);\n",
       "        \n",
       "    \n",
       "        var popup_53244a7f1a504810b4b7e2edb01719f9 = L.popup({&quot;maxWidth&quot;: 300, &quot;minWidth&quot;: 200});\n",
       "\n",
       "        \n",
       "            \n",
       "                var html_6393591cc4cc87e151b0e58f149b3f28 = $(`&lt;div id=&quot;html_6393591cc4cc87e151b0e58f149b3f28&quot; style=&quot;width: 100.0%; height: 100.0%;&quot;&gt;Latvia: 7 players&lt;/div&gt;`)[0];\n",
       "                popup_53244a7f1a504810b4b7e2edb01719f9.setContent(html_6393591cc4cc87e151b0e58f149b3f28);\n",
       "            \n",
       "        \n",
       "\n",
       "        circle_marker_6366b401d4298e03f51090d3b1e72d54.bindPopup(popup_53244a7f1a504810b4b7e2edb01719f9)\n",
       "        ;\n",
       "\n",
       "        \n",
       "    \n",
       "    \n",
       "            var circle_marker_f0b8982ca1a1ba80c62d74aa4b4cfd27 = L.circleMarker(\n",
       "                [58.7523778, 25.3319078],\n",
       "                {&quot;bubblingMouseEvents&quot;: true, &quot;color&quot;: &quot;#1B3770&quot;, &quot;dashArray&quot;: null, &quot;dashOffset&quot;: null, &quot;fill&quot;: true, &quot;fillColor&quot;: &quot;#1B3770&quot;, &quot;fillOpacity&quot;: 0.6, &quot;fillRule&quot;: &quot;evenodd&quot;, &quot;lineCap&quot;: &quot;round&quot;, &quot;lineJoin&quot;: &quot;round&quot;, &quot;opacity&quot;: 1.0, &quot;radius&quot;: 5, &quot;stroke&quot;: true, &quot;weight&quot;: 3}\n",
       "            ).addTo(map_d6acd74d4c0fadd3bec37e035c2b04cd);\n",
       "        \n",
       "    \n",
       "        var popup_bd0fcffbf8a48e1a0ba3a18400517791 = L.popup({&quot;maxWidth&quot;: 300, &quot;minWidth&quot;: 200});\n",
       "\n",
       "        \n",
       "            \n",
       "                var html_19223ffe92e32e08d0359e23564f39a1 = $(`&lt;div id=&quot;html_19223ffe92e32e08d0359e23564f39a1&quot; style=&quot;width: 100.0%; height: 100.0%;&quot;&gt;Estonia: 1 players&lt;/div&gt;`)[0];\n",
       "                popup_bd0fcffbf8a48e1a0ba3a18400517791.setContent(html_19223ffe92e32e08d0359e23564f39a1);\n",
       "            \n",
       "        \n",
       "\n",
       "        circle_marker_f0b8982ca1a1ba80c62d74aa4b4cfd27.bindPopup(popup_bd0fcffbf8a48e1a0ba3a18400517791)\n",
       "        ;\n",
       "\n",
       "        \n",
       "    \n",
       "    \n",
       "            var circle_marker_5019563b3c8eeb640f3ab3cfa1268b5b = L.circleMarker(\n",
       "                [61.0666922, -107.991707],\n",
       "                {&quot;bubblingMouseEvents&quot;: true, &quot;color&quot;: &quot;#C8102E&quot;, &quot;dashArray&quot;: null, &quot;dashOffset&quot;: null, &quot;fill&quot;: true, &quot;fillColor&quot;: &quot;#C8102E&quot;, &quot;fillOpacity&quot;: 0.6, &quot;fillRule&quot;: &quot;evenodd&quot;, &quot;lineCap&quot;: &quot;round&quot;, &quot;lineJoin&quot;: &quot;round&quot;, &quot;opacity&quot;: 1.0, &quot;radius&quot;: 5, &quot;stroke&quot;: true, &quot;weight&quot;: 3}\n",
       "            ).addTo(map_d6acd74d4c0fadd3bec37e035c2b04cd);\n",
       "        \n",
       "    \n",
       "        var popup_d65c7056b628e4e5d91c26d05defc5c2 = L.popup({&quot;maxWidth&quot;: 300, &quot;minWidth&quot;: 200});\n",
       "\n",
       "        \n",
       "            \n",
       "                var html_72a8099dc1355ae48bbab06b8c98cae2 = $(`&lt;div id=&quot;html_72a8099dc1355ae48bbab06b8c98cae2&quot; style=&quot;width: 100.0%; height: 100.0%;&quot;&gt;Canada: 38 players&lt;/div&gt;`)[0];\n",
       "                popup_d65c7056b628e4e5d91c26d05defc5c2.setContent(html_72a8099dc1355ae48bbab06b8c98cae2);\n",
       "            \n",
       "        \n",
       "\n",
       "        circle_marker_5019563b3c8eeb640f3ab3cfa1268b5b.bindPopup(popup_d65c7056b628e4e5d91c26d05defc5c2)\n",
       "        ;\n",
       "\n",
       "        \n",
       "    \n",
       "    \n",
       "            var circle_marker_e4b980e7e943a8429a8656eaee5bf155 = L.circleMarker(\n",
       "                [63.2467777, 25.9209164],\n",
       "                {&quot;bubblingMouseEvents&quot;: true, &quot;color&quot;: &quot;#1B3770&quot;, &quot;dashArray&quot;: null, &quot;dashOffset&quot;: null, &quot;fill&quot;: true, &quot;fillColor&quot;: &quot;#1B3770&quot;, &quot;fillOpacity&quot;: 0.6, &quot;fillRule&quot;: &quot;evenodd&quot;, &quot;lineCap&quot;: &quot;round&quot;, &quot;lineJoin&quot;: &quot;round&quot;, &quot;opacity&quot;: 1.0, &quot;radius&quot;: 5, &quot;stroke&quot;: true, &quot;weight&quot;: 3}\n",
       "            ).addTo(map_d6acd74d4c0fadd3bec37e035c2b04cd);\n",
       "        \n",
       "    \n",
       "        var popup_0bb6496ecbac812f957301ee5637c90a = L.popup({&quot;maxWidth&quot;: 300, &quot;minWidth&quot;: 200});\n",
       "\n",
       "        \n",
       "            \n",
       "                var html_dbafa4ff3b2060a2e5b3c953f8f013f6 = $(`&lt;div id=&quot;html_dbafa4ff3b2060a2e5b3c953f8f013f6&quot; style=&quot;width: 100.0%; height: 100.0%;&quot;&gt;Finland: 3 players&lt;/div&gt;`)[0];\n",
       "                popup_0bb6496ecbac812f957301ee5637c90a.setContent(html_dbafa4ff3b2060a2e5b3c953f8f013f6);\n",
       "            \n",
       "        \n",
       "\n",
       "        circle_marker_e4b980e7e943a8429a8656eaee5bf155.bindPopup(popup_0bb6496ecbac812f957301ee5637c90a)\n",
       "        ;\n",
       "\n",
       "        \n",
       "    \n",
       "    \n",
       "            var circle_marker_204d882b58084f6f4537cf2b6e26c26f = L.circleMarker(\n",
       "                [64.5731537, 11.52803643954819],\n",
       "                {&quot;bubblingMouseEvents&quot;: true, &quot;color&quot;: &quot;#1B3770&quot;, &quot;dashArray&quot;: null, &quot;dashOffset&quot;: null, &quot;fill&quot;: true, &quot;fillColor&quot;: &quot;#1B3770&quot;, &quot;fillOpacity&quot;: 0.6, &quot;fillRule&quot;: &quot;evenodd&quot;, &quot;lineCap&quot;: &quot;round&quot;, &quot;lineJoin&quot;: &quot;round&quot;, &quot;opacity&quot;: 1.0, &quot;radius&quot;: 5, &quot;stroke&quot;: true, &quot;weight&quot;: 3}\n",
       "            ).addTo(map_d6acd74d4c0fadd3bec37e035c2b04cd);\n",
       "        \n",
       "    \n",
       "        var popup_e0301ada9119cce20fee765a5ff4a36e = L.popup({&quot;maxWidth&quot;: 300, &quot;minWidth&quot;: 200});\n",
       "\n",
       "        \n",
       "            \n",
       "                var html_37a4a9eb4dc78e2e2853f833b471dd2e = $(`&lt;div id=&quot;html_37a4a9eb4dc78e2e2853f833b471dd2e&quot; style=&quot;width: 100.0%; height: 100.0%;&quot;&gt;Norway: 1 players&lt;/div&gt;`)[0];\n",
       "                popup_e0301ada9119cce20fee765a5ff4a36e.setContent(html_37a4a9eb4dc78e2e2853f833b471dd2e);\n",
       "            \n",
       "        \n",
       "\n",
       "        circle_marker_204d882b58084f6f4537cf2b6e26c26f.bindPopup(popup_e0301ada9119cce20fee765a5ff4a36e)\n",
       "        ;\n",
       "\n",
       "        \n",
       "    \n",
       "    \n",
       "            var circle_marker_98de4ba917f5a9ede16435e7d15af7dd = L.circleMarker(\n",
       "                [64.6863136, 97.7453061],\n",
       "                {&quot;bubblingMouseEvents&quot;: true, &quot;color&quot;: &quot;#1B3770&quot;, &quot;dashArray&quot;: null, &quot;dashOffset&quot;: null, &quot;fill&quot;: true, &quot;fillColor&quot;: &quot;#1B3770&quot;, &quot;fillOpacity&quot;: 0.6, &quot;fillRule&quot;: &quot;evenodd&quot;, &quot;lineCap&quot;: &quot;round&quot;, &quot;lineJoin&quot;: &quot;round&quot;, &quot;opacity&quot;: 1.0, &quot;radius&quot;: 5, &quot;stroke&quot;: true, &quot;weight&quot;: 3}\n",
       "            ).addTo(map_d6acd74d4c0fadd3bec37e035c2b04cd);\n",
       "        \n",
       "    \n",
       "        var popup_3278ee408e05f31e5c4d6a5fdc0a653c = L.popup({&quot;maxWidth&quot;: 300, &quot;minWidth&quot;: 200});\n",
       "\n",
       "        \n",
       "            \n",
       "                var html_0996f568d0bfbb0f6f2950ee983814aa = $(`&lt;div id=&quot;html_0996f568d0bfbb0f6f2950ee983814aa&quot; style=&quot;width: 100.0%; height: 100.0%;&quot;&gt;Russia: 9 players&lt;/div&gt;`)[0];\n",
       "                popup_3278ee408e05f31e5c4d6a5fdc0a653c.setContent(html_0996f568d0bfbb0f6f2950ee983814aa);\n",
       "            \n",
       "        \n",
       "\n",
       "        circle_marker_98de4ba917f5a9ede16435e7d15af7dd.bindPopup(popup_3278ee408e05f31e5c4d6a5fdc0a653c)\n",
       "        ;\n",
       "\n",
       "        \n",
       "    \n",
       "&lt;/script&gt;\n",
       "&lt;/html&gt;\" style=\"position:absolute;width:100%;height:100%;left:0;top:0;border:none !important;\" allowfullscreen webkitallowfullscreen mozallowfullscreen></iframe></div></div>"
      ],
      "text/plain": [
       "<folium.folium.Map at 0x24c0651df90>"
      ]
     },
     "execution_count": 22,
     "metadata": {},
     "output_type": "execute_result"
    }
   ],
   "source": [
    "import pandas as pd\n",
    "from geopy.geocoders import Nominatim\n",
    "import folium\n",
    "from collections import Counter\n",
    "\n",
    "\n",
    "data = pd.read_csv('common_player_info.csv')\n",
    "\n",
    "\n",
    "if 'country' not in data.columns:\n",
    "    raise ValueError(\"CSV file must contain 'country' column.\")\n",
    "\n",
    "\n",
    "unique_countries = data['country'].unique()\n",
    "\n",
    "\n",
    "geolocator = Nominatim(user_agent=\"geoapiExercises\")\n",
    "\n",
    "\n",
    "country_coords = {}\n",
    "\n",
    "def get_lat_lon(country):\n",
    "    try:\n",
    "        location = geolocator.geocode(country)\n",
    "        if location:\n",
    "            return (location.latitude, location.longitude)\n",
    "        else:\n",
    "            return (None, None)\n",
    "    except:\n",
    "        return (None, None)\n",
    "\n",
    "\n",
    "for country in unique_countries:\n",
    "    country_coords[country] = get_lat_lon(country)\n",
    "\n",
    "\n",
    "data['Coordinates'] = data['country'].apply(lambda x: country_coords[x])\n",
    "\n",
    "\n",
    "data['Latitude'] = data['Coordinates'].apply(lambda coord: coord[0])\n",
    "data['Longitude'] = data['Coordinates'].apply(lambda coord: coord[1])\n",
    "\n",
    "data = data.dropna(subset=['Latitude', 'Longitude'])\n",
    "\n",
    "\n",
    "location_counts = data['Coordinates'].value_counts().to_dict()\n",
    "data['Count'] = data['Coordinates'].apply(lambda coord: location_counts[coord])\n",
    "\n",
    "\n",
    "aggregated_data = data.groupby('Coordinates').agg({\n",
    "    'country': 'first',\n",
    "    'Count': 'first'\n",
    "}).reset_index()\n",
    "\n",
    "\n",
    "def get_color(density):\n",
    "    if density > 100:\n",
    "        return 'black'\n",
    "    elif density > 50:\n",
    "        return 'orange'\n",
    "    elif density > 10:\n",
    "        return '#C8102E'\n",
    "    else:\n",
    "        return '#1B3770'\n",
    "\n",
    "aggregated_data['Color'] = aggregated_data['Count'].apply(get_color)\n",
    "\n",
    "\n",
    "m = folium.Map(location=[0, 0], zoom_start=2) \n",
    "\n",
    "for _, row in aggregated_data.iterrows():\n",
    "    if row['Coordinates'][0] is not None and row['Coordinates'][1] is not None:\n",
    "        popup_text = f\"{row['country']}: {row['Count']} players\"\n",
    "        popup = folium.Popup(popup_text, max_width=300, min_width=200) \n",
    "        folium.CircleMarker(\n",
    "            location=[row['Coordinates'][0], row['Coordinates'][1]],\n",
    "            radius=5,\n",
    "            color=row['Color'],\n",
    "            fill=True,\n",
    "            fill_color=row['Color'],\n",
    "            fill_opacity=0.6,\n",
    "            popup=popup\n",
    "        ).add_to(m)\n",
    "\n",
    "\n",
    "#m.save('world_players_map_colored.html')\n",
    "\n",
    "m\n"
   ]
  },
  {
   "cell_type": "markdown",
   "metadata": {},
   "source": [
    "# NBA player Natioanlaity through the years\n",
    "without the USA"
   ]
  },
  {
   "cell_type": "code",
   "execution_count": 8,
   "metadata": {},
   "outputs": [
    {
     "data": {
      "application/vnd.plotly.v1+json": {
       "config": {
        "plotlyServerURL": "https://plot.ly"
       },
       "data": [
        {
         "alignmentgroup": "True",
         "hovertemplate": "country=%{x}<br>count=%{y}<extra></extra>",
         "legendgroup": "",
         "marker": {
          "color": "#636efa",
          "pattern": {
           "shape": ""
          }
         },
         "name": "",
         "offsetgroup": "",
         "orientation": "v",
         "showlegend": false,
         "textposition": "auto",
         "type": "bar",
         "x": [
          "Canada"
         ],
         "xaxis": "x",
         "y": [
          1
         ],
         "yaxis": "y"
        }
       ],
       "layout": {
        "barmode": "relative",
        "legend": {
         "tracegroupgap": 0
        },
        "template": {
         "data": {
          "bar": [
           {
            "error_x": {
             "color": "#2a3f5f"
            },
            "error_y": {
             "color": "#2a3f5f"
            },
            "marker": {
             "line": {
              "color": "#E5ECF6",
              "width": 0.5
             },
             "pattern": {
              "fillmode": "overlay",
              "size": 10,
              "solidity": 0.2
             }
            },
            "type": "bar"
           }
          ],
          "barpolar": [
           {
            "marker": {
             "line": {
              "color": "#E5ECF6",
              "width": 0.5
             },
             "pattern": {
              "fillmode": "overlay",
              "size": 10,
              "solidity": 0.2
             }
            },
            "type": "barpolar"
           }
          ],
          "carpet": [
           {
            "aaxis": {
             "endlinecolor": "#2a3f5f",
             "gridcolor": "white",
             "linecolor": "white",
             "minorgridcolor": "white",
             "startlinecolor": "#2a3f5f"
            },
            "baxis": {
             "endlinecolor": "#2a3f5f",
             "gridcolor": "white",
             "linecolor": "white",
             "minorgridcolor": "white",
             "startlinecolor": "#2a3f5f"
            },
            "type": "carpet"
           }
          ],
          "choropleth": [
           {
            "colorbar": {
             "outlinewidth": 0,
             "ticks": ""
            },
            "type": "choropleth"
           }
          ],
          "contour": [
           {
            "colorbar": {
             "outlinewidth": 0,
             "ticks": ""
            },
            "colorscale": [
             [
              0,
              "#0d0887"
             ],
             [
              0.1111111111111111,
              "#46039f"
             ],
             [
              0.2222222222222222,
              "#7201a8"
             ],
             [
              0.3333333333333333,
              "#9c179e"
             ],
             [
              0.4444444444444444,
              "#bd3786"
             ],
             [
              0.5555555555555556,
              "#d8576b"
             ],
             [
              0.6666666666666666,
              "#ed7953"
             ],
             [
              0.7777777777777778,
              "#fb9f3a"
             ],
             [
              0.8888888888888888,
              "#fdca26"
             ],
             [
              1,
              "#f0f921"
             ]
            ],
            "type": "contour"
           }
          ],
          "contourcarpet": [
           {
            "colorbar": {
             "outlinewidth": 0,
             "ticks": ""
            },
            "type": "contourcarpet"
           }
          ],
          "heatmap": [
           {
            "colorbar": {
             "outlinewidth": 0,
             "ticks": ""
            },
            "colorscale": [
             [
              0,
              "#0d0887"
             ],
             [
              0.1111111111111111,
              "#46039f"
             ],
             [
              0.2222222222222222,
              "#7201a8"
             ],
             [
              0.3333333333333333,
              "#9c179e"
             ],
             [
              0.4444444444444444,
              "#bd3786"
             ],
             [
              0.5555555555555556,
              "#d8576b"
             ],
             [
              0.6666666666666666,
              "#ed7953"
             ],
             [
              0.7777777777777778,
              "#fb9f3a"
             ],
             [
              0.8888888888888888,
              "#fdca26"
             ],
             [
              1,
              "#f0f921"
             ]
            ],
            "type": "heatmap"
           }
          ],
          "heatmapgl": [
           {
            "colorbar": {
             "outlinewidth": 0,
             "ticks": ""
            },
            "colorscale": [
             [
              0,
              "#0d0887"
             ],
             [
              0.1111111111111111,
              "#46039f"
             ],
             [
              0.2222222222222222,
              "#7201a8"
             ],
             [
              0.3333333333333333,
              "#9c179e"
             ],
             [
              0.4444444444444444,
              "#bd3786"
             ],
             [
              0.5555555555555556,
              "#d8576b"
             ],
             [
              0.6666666666666666,
              "#ed7953"
             ],
             [
              0.7777777777777778,
              "#fb9f3a"
             ],
             [
              0.8888888888888888,
              "#fdca26"
             ],
             [
              1,
              "#f0f921"
             ]
            ],
            "type": "heatmapgl"
           }
          ],
          "histogram": [
           {
            "marker": {
             "pattern": {
              "fillmode": "overlay",
              "size": 10,
              "solidity": 0.2
             }
            },
            "type": "histogram"
           }
          ],
          "histogram2d": [
           {
            "colorbar": {
             "outlinewidth": 0,
             "ticks": ""
            },
            "colorscale": [
             [
              0,
              "#0d0887"
             ],
             [
              0.1111111111111111,
              "#46039f"
             ],
             [
              0.2222222222222222,
              "#7201a8"
             ],
             [
              0.3333333333333333,
              "#9c179e"
             ],
             [
              0.4444444444444444,
              "#bd3786"
             ],
             [
              0.5555555555555556,
              "#d8576b"
             ],
             [
              0.6666666666666666,
              "#ed7953"
             ],
             [
              0.7777777777777778,
              "#fb9f3a"
             ],
             [
              0.8888888888888888,
              "#fdca26"
             ],
             [
              1,
              "#f0f921"
             ]
            ],
            "type": "histogram2d"
           }
          ],
          "histogram2dcontour": [
           {
            "colorbar": {
             "outlinewidth": 0,
             "ticks": ""
            },
            "colorscale": [
             [
              0,
              "#0d0887"
             ],
             [
              0.1111111111111111,
              "#46039f"
             ],
             [
              0.2222222222222222,
              "#7201a8"
             ],
             [
              0.3333333333333333,
              "#9c179e"
             ],
             [
              0.4444444444444444,
              "#bd3786"
             ],
             [
              0.5555555555555556,
              "#d8576b"
             ],
             [
              0.6666666666666666,
              "#ed7953"
             ],
             [
              0.7777777777777778,
              "#fb9f3a"
             ],
             [
              0.8888888888888888,
              "#fdca26"
             ],
             [
              1,
              "#f0f921"
             ]
            ],
            "type": "histogram2dcontour"
           }
          ],
          "mesh3d": [
           {
            "colorbar": {
             "outlinewidth": 0,
             "ticks": ""
            },
            "type": "mesh3d"
           }
          ],
          "parcoords": [
           {
            "line": {
             "colorbar": {
              "outlinewidth": 0,
              "ticks": ""
             }
            },
            "type": "parcoords"
           }
          ],
          "pie": [
           {
            "automargin": true,
            "type": "pie"
           }
          ],
          "scatter": [
           {
            "fillpattern": {
             "fillmode": "overlay",
             "size": 10,
             "solidity": 0.2
            },
            "type": "scatter"
           }
          ],
          "scatter3d": [
           {
            "line": {
             "colorbar": {
              "outlinewidth": 0,
              "ticks": ""
             }
            },
            "marker": {
             "colorbar": {
              "outlinewidth": 0,
              "ticks": ""
             }
            },
            "type": "scatter3d"
           }
          ],
          "scattercarpet": [
           {
            "marker": {
             "colorbar": {
              "outlinewidth": 0,
              "ticks": ""
             }
            },
            "type": "scattercarpet"
           }
          ],
          "scattergeo": [
           {
            "marker": {
             "colorbar": {
              "outlinewidth": 0,
              "ticks": ""
             }
            },
            "type": "scattergeo"
           }
          ],
          "scattergl": [
           {
            "marker": {
             "colorbar": {
              "outlinewidth": 0,
              "ticks": ""
             }
            },
            "type": "scattergl"
           }
          ],
          "scattermapbox": [
           {
            "marker": {
             "colorbar": {
              "outlinewidth": 0,
              "ticks": ""
             }
            },
            "type": "scattermapbox"
           }
          ],
          "scatterpolar": [
           {
            "marker": {
             "colorbar": {
              "outlinewidth": 0,
              "ticks": ""
             }
            },
            "type": "scatterpolar"
           }
          ],
          "scatterpolargl": [
           {
            "marker": {
             "colorbar": {
              "outlinewidth": 0,
              "ticks": ""
             }
            },
            "type": "scatterpolargl"
           }
          ],
          "scatterternary": [
           {
            "marker": {
             "colorbar": {
              "outlinewidth": 0,
              "ticks": ""
             }
            },
            "type": "scatterternary"
           }
          ],
          "surface": [
           {
            "colorbar": {
             "outlinewidth": 0,
             "ticks": ""
            },
            "colorscale": [
             [
              0,
              "#0d0887"
             ],
             [
              0.1111111111111111,
              "#46039f"
             ],
             [
              0.2222222222222222,
              "#7201a8"
             ],
             [
              0.3333333333333333,
              "#9c179e"
             ],
             [
              0.4444444444444444,
              "#bd3786"
             ],
             [
              0.5555555555555556,
              "#d8576b"
             ],
             [
              0.6666666666666666,
              "#ed7953"
             ],
             [
              0.7777777777777778,
              "#fb9f3a"
             ],
             [
              0.8888888888888888,
              "#fdca26"
             ],
             [
              1,
              "#f0f921"
             ]
            ],
            "type": "surface"
           }
          ],
          "table": [
           {
            "cells": {
             "fill": {
              "color": "#EBF0F8"
             },
             "line": {
              "color": "white"
             }
            },
            "header": {
             "fill": {
              "color": "#C8D4E3"
             },
             "line": {
              "color": "white"
             }
            },
            "type": "table"
           }
          ]
         },
         "layout": {
          "annotationdefaults": {
           "arrowcolor": "#2a3f5f",
           "arrowhead": 0,
           "arrowwidth": 1
          },
          "autotypenumbers": "strict",
          "coloraxis": {
           "colorbar": {
            "outlinewidth": 0,
            "ticks": ""
           }
          },
          "colorscale": {
           "diverging": [
            [
             0,
             "#8e0152"
            ],
            [
             0.1,
             "#c51b7d"
            ],
            [
             0.2,
             "#de77ae"
            ],
            [
             0.3,
             "#f1b6da"
            ],
            [
             0.4,
             "#fde0ef"
            ],
            [
             0.5,
             "#f7f7f7"
            ],
            [
             0.6,
             "#e6f5d0"
            ],
            [
             0.7,
             "#b8e186"
            ],
            [
             0.8,
             "#7fbc41"
            ],
            [
             0.9,
             "#4d9221"
            ],
            [
             1,
             "#276419"
            ]
           ],
           "sequential": [
            [
             0,
             "#0d0887"
            ],
            [
             0.1111111111111111,
             "#46039f"
            ],
            [
             0.2222222222222222,
             "#7201a8"
            ],
            [
             0.3333333333333333,
             "#9c179e"
            ],
            [
             0.4444444444444444,
             "#bd3786"
            ],
            [
             0.5555555555555556,
             "#d8576b"
            ],
            [
             0.6666666666666666,
             "#ed7953"
            ],
            [
             0.7777777777777778,
             "#fb9f3a"
            ],
            [
             0.8888888888888888,
             "#fdca26"
            ],
            [
             1,
             "#f0f921"
            ]
           ],
           "sequentialminus": [
            [
             0,
             "#0d0887"
            ],
            [
             0.1111111111111111,
             "#46039f"
            ],
            [
             0.2222222222222222,
             "#7201a8"
            ],
            [
             0.3333333333333333,
             "#9c179e"
            ],
            [
             0.4444444444444444,
             "#bd3786"
            ],
            [
             0.5555555555555556,
             "#d8576b"
            ],
            [
             0.6666666666666666,
             "#ed7953"
            ],
            [
             0.7777777777777778,
             "#fb9f3a"
            ],
            [
             0.8888888888888888,
             "#fdca26"
            ],
            [
             1,
             "#f0f921"
            ]
           ]
          },
          "colorway": [
           "#636efa",
           "#EF553B",
           "#00cc96",
           "#ab63fa",
           "#FFA15A",
           "#19d3f3",
           "#FF6692",
           "#B6E880",
           "#FF97FF",
           "#FECB52"
          ],
          "font": {
           "color": "#2a3f5f"
          },
          "geo": {
           "bgcolor": "white",
           "lakecolor": "white",
           "landcolor": "#E5ECF6",
           "showlakes": true,
           "showland": true,
           "subunitcolor": "white"
          },
          "hoverlabel": {
           "align": "left"
          },
          "hovermode": "closest",
          "mapbox": {
           "style": "light"
          },
          "paper_bgcolor": "white",
          "plot_bgcolor": "#E5ECF6",
          "polar": {
           "angularaxis": {
            "gridcolor": "white",
            "linecolor": "white",
            "ticks": ""
           },
           "bgcolor": "#E5ECF6",
           "radialaxis": {
            "gridcolor": "white",
            "linecolor": "white",
            "ticks": ""
           }
          },
          "scene": {
           "xaxis": {
            "backgroundcolor": "#E5ECF6",
            "gridcolor": "white",
            "gridwidth": 2,
            "linecolor": "white",
            "showbackground": true,
            "ticks": "",
            "zerolinecolor": "white"
           },
           "yaxis": {
            "backgroundcolor": "#E5ECF6",
            "gridcolor": "white",
            "gridwidth": 2,
            "linecolor": "white",
            "showbackground": true,
            "ticks": "",
            "zerolinecolor": "white"
           },
           "zaxis": {
            "backgroundcolor": "#E5ECF6",
            "gridcolor": "white",
            "gridwidth": 2,
            "linecolor": "white",
            "showbackground": true,
            "ticks": "",
            "zerolinecolor": "white"
           }
          },
          "shapedefaults": {
           "line": {
            "color": "#2a3f5f"
           }
          },
          "ternary": {
           "aaxis": {
            "gridcolor": "white",
            "linecolor": "white",
            "ticks": ""
           },
           "baxis": {
            "gridcolor": "white",
            "linecolor": "white",
            "ticks": ""
           },
           "bgcolor": "#E5ECF6",
           "caxis": {
            "gridcolor": "white",
            "linecolor": "white",
            "ticks": ""
           }
          },
          "title": {
           "x": 0.05
          },
          "xaxis": {
           "automargin": true,
           "gridcolor": "white",
           "linecolor": "white",
           "ticks": "",
           "title": {
            "standoff": 15
           },
           "zerolinecolor": "white",
           "zerolinewidth": 2
          },
          "yaxis": {
           "automargin": true,
           "gridcolor": "white",
           "linecolor": "white",
           "ticks": "",
           "title": {
            "standoff": 15
           },
           "zerolinecolor": "white",
           "zerolinewidth": 2
          }
         }
        },
        "title": {
         "text": "NBA Players by Nationality in 1946 (Excluding USA)"
        },
        "xaxis": {
         "anchor": "y",
         "domain": [
          0,
          1
         ],
         "title": {
          "text": "country"
         }
        },
        "yaxis": {
         "anchor": "x",
         "domain": [
          0,
          1
         ],
         "title": {
          "text": "count"
         }
        }
       }
      }
     },
     "metadata": {},
     "output_type": "display_data"
    },
    {
     "data": {
      "application/vnd.jupyter.widget-view+json": {
       "model_id": "e36515ae47174c4d96b903ab4d3373cc",
       "version_major": 2,
       "version_minor": 0
      },
      "text/plain": [
       "interactive(children=(IntSlider(value=1946, description='Year', max=2023, min=1946), Output()), _dom_classes=(…"
      ]
     },
     "metadata": {},
     "output_type": "display_data"
    },
    {
     "data": {
      "application/vnd.plotly.v1+json": {
       "config": {
        "plotlyServerURL": "https://plot.ly"
       },
       "data": [
        {
         "alignmentgroup": "True",
         "hovertemplate": "country=%{x}<br>count=%{y}<extra></extra>",
         "legendgroup": "",
         "marker": {
          "color": "#636efa",
          "pattern": {
           "shape": ""
          }
         },
         "name": "",
         "offsetgroup": "",
         "orientation": "v",
         "showlegend": false,
         "textposition": "auto",
         "type": "bar",
         "x": [
          "Canada",
          "Australia",
          "France",
          "Germany",
          "Croatia",
          "Serbia",
          "Turkey",
          "Nigeria",
          "Cameroon",
          "Bahamas",
          "Spain",
          "Slovenia",
          "Lithuania",
          "Montenegro",
          "Japan",
          "Italy",
          "Ukraine",
          "Dominican Republic",
          "Latvia",
          "Greece",
          "United Kingdom",
          "Georgia",
          "Senegal",
          "Jamaica",
          "Portugal",
          "Austria",
          "Bosnia and Herzegovina",
          "Brazil",
          "Finland",
          "Czech Republic",
          "New Zealand",
          "DRC",
          "Sudan",
          "Saint Lucia",
          "South Sudan",
          "Switzerland",
          "Angola",
          "Guinea",
          "Poland"
         ],
         "xaxis": "x",
         "y": [
          19,
          9,
          8,
          5,
          4,
          4,
          4,
          4,
          3,
          3,
          3,
          3,
          2,
          2,
          2,
          2,
          2,
          2,
          2,
          2,
          2,
          2,
          1,
          1,
          1,
          1,
          1,
          1,
          1,
          1,
          1,
          1,
          1,
          1,
          1,
          1,
          1,
          1,
          1
         ],
         "yaxis": "y"
        }
       ],
       "layout": {
        "barmode": "relative",
        "legend": {
         "tracegroupgap": 0
        },
        "template": {
         "data": {
          "bar": [
           {
            "error_x": {
             "color": "#2a3f5f"
            },
            "error_y": {
             "color": "#2a3f5f"
            },
            "marker": {
             "line": {
              "color": "#E5ECF6",
              "width": 0.5
             },
             "pattern": {
              "fillmode": "overlay",
              "size": 10,
              "solidity": 0.2
             }
            },
            "type": "bar"
           }
          ],
          "barpolar": [
           {
            "marker": {
             "line": {
              "color": "#E5ECF6",
              "width": 0.5
             },
             "pattern": {
              "fillmode": "overlay",
              "size": 10,
              "solidity": 0.2
             }
            },
            "type": "barpolar"
           }
          ],
          "carpet": [
           {
            "aaxis": {
             "endlinecolor": "#2a3f5f",
             "gridcolor": "white",
             "linecolor": "white",
             "minorgridcolor": "white",
             "startlinecolor": "#2a3f5f"
            },
            "baxis": {
             "endlinecolor": "#2a3f5f",
             "gridcolor": "white",
             "linecolor": "white",
             "minorgridcolor": "white",
             "startlinecolor": "#2a3f5f"
            },
            "type": "carpet"
           }
          ],
          "choropleth": [
           {
            "colorbar": {
             "outlinewidth": 0,
             "ticks": ""
            },
            "type": "choropleth"
           }
          ],
          "contour": [
           {
            "colorbar": {
             "outlinewidth": 0,
             "ticks": ""
            },
            "colorscale": [
             [
              0,
              "#0d0887"
             ],
             [
              0.1111111111111111,
              "#46039f"
             ],
             [
              0.2222222222222222,
              "#7201a8"
             ],
             [
              0.3333333333333333,
              "#9c179e"
             ],
             [
              0.4444444444444444,
              "#bd3786"
             ],
             [
              0.5555555555555556,
              "#d8576b"
             ],
             [
              0.6666666666666666,
              "#ed7953"
             ],
             [
              0.7777777777777778,
              "#fb9f3a"
             ],
             [
              0.8888888888888888,
              "#fdca26"
             ],
             [
              1,
              "#f0f921"
             ]
            ],
            "type": "contour"
           }
          ],
          "contourcarpet": [
           {
            "colorbar": {
             "outlinewidth": 0,
             "ticks": ""
            },
            "type": "contourcarpet"
           }
          ],
          "heatmap": [
           {
            "colorbar": {
             "outlinewidth": 0,
             "ticks": ""
            },
            "colorscale": [
             [
              0,
              "#0d0887"
             ],
             [
              0.1111111111111111,
              "#46039f"
             ],
             [
              0.2222222222222222,
              "#7201a8"
             ],
             [
              0.3333333333333333,
              "#9c179e"
             ],
             [
              0.4444444444444444,
              "#bd3786"
             ],
             [
              0.5555555555555556,
              "#d8576b"
             ],
             [
              0.6666666666666666,
              "#ed7953"
             ],
             [
              0.7777777777777778,
              "#fb9f3a"
             ],
             [
              0.8888888888888888,
              "#fdca26"
             ],
             [
              1,
              "#f0f921"
             ]
            ],
            "type": "heatmap"
           }
          ],
          "heatmapgl": [
           {
            "colorbar": {
             "outlinewidth": 0,
             "ticks": ""
            },
            "colorscale": [
             [
              0,
              "#0d0887"
             ],
             [
              0.1111111111111111,
              "#46039f"
             ],
             [
              0.2222222222222222,
              "#7201a8"
             ],
             [
              0.3333333333333333,
              "#9c179e"
             ],
             [
              0.4444444444444444,
              "#bd3786"
             ],
             [
              0.5555555555555556,
              "#d8576b"
             ],
             [
              0.6666666666666666,
              "#ed7953"
             ],
             [
              0.7777777777777778,
              "#fb9f3a"
             ],
             [
              0.8888888888888888,
              "#fdca26"
             ],
             [
              1,
              "#f0f921"
             ]
            ],
            "type": "heatmapgl"
           }
          ],
          "histogram": [
           {
            "marker": {
             "pattern": {
              "fillmode": "overlay",
              "size": 10,
              "solidity": 0.2
             }
            },
            "type": "histogram"
           }
          ],
          "histogram2d": [
           {
            "colorbar": {
             "outlinewidth": 0,
             "ticks": ""
            },
            "colorscale": [
             [
              0,
              "#0d0887"
             ],
             [
              0.1111111111111111,
              "#46039f"
             ],
             [
              0.2222222222222222,
              "#7201a8"
             ],
             [
              0.3333333333333333,
              "#9c179e"
             ],
             [
              0.4444444444444444,
              "#bd3786"
             ],
             [
              0.5555555555555556,
              "#d8576b"
             ],
             [
              0.6666666666666666,
              "#ed7953"
             ],
             [
              0.7777777777777778,
              "#fb9f3a"
             ],
             [
              0.8888888888888888,
              "#fdca26"
             ],
             [
              1,
              "#f0f921"
             ]
            ],
            "type": "histogram2d"
           }
          ],
          "histogram2dcontour": [
           {
            "colorbar": {
             "outlinewidth": 0,
             "ticks": ""
            },
            "colorscale": [
             [
              0,
              "#0d0887"
             ],
             [
              0.1111111111111111,
              "#46039f"
             ],
             [
              0.2222222222222222,
              "#7201a8"
             ],
             [
              0.3333333333333333,
              "#9c179e"
             ],
             [
              0.4444444444444444,
              "#bd3786"
             ],
             [
              0.5555555555555556,
              "#d8576b"
             ],
             [
              0.6666666666666666,
              "#ed7953"
             ],
             [
              0.7777777777777778,
              "#fb9f3a"
             ],
             [
              0.8888888888888888,
              "#fdca26"
             ],
             [
              1,
              "#f0f921"
             ]
            ],
            "type": "histogram2dcontour"
           }
          ],
          "mesh3d": [
           {
            "colorbar": {
             "outlinewidth": 0,
             "ticks": ""
            },
            "type": "mesh3d"
           }
          ],
          "parcoords": [
           {
            "line": {
             "colorbar": {
              "outlinewidth": 0,
              "ticks": ""
             }
            },
            "type": "parcoords"
           }
          ],
          "pie": [
           {
            "automargin": true,
            "type": "pie"
           }
          ],
          "scatter": [
           {
            "fillpattern": {
             "fillmode": "overlay",
             "size": 10,
             "solidity": 0.2
            },
            "type": "scatter"
           }
          ],
          "scatter3d": [
           {
            "line": {
             "colorbar": {
              "outlinewidth": 0,
              "ticks": ""
             }
            },
            "marker": {
             "colorbar": {
              "outlinewidth": 0,
              "ticks": ""
             }
            },
            "type": "scatter3d"
           }
          ],
          "scattercarpet": [
           {
            "marker": {
             "colorbar": {
              "outlinewidth": 0,
              "ticks": ""
             }
            },
            "type": "scattercarpet"
           }
          ],
          "scattergeo": [
           {
            "marker": {
             "colorbar": {
              "outlinewidth": 0,
              "ticks": ""
             }
            },
            "type": "scattergeo"
           }
          ],
          "scattergl": [
           {
            "marker": {
             "colorbar": {
              "outlinewidth": 0,
              "ticks": ""
             }
            },
            "type": "scattergl"
           }
          ],
          "scattermapbox": [
           {
            "marker": {
             "colorbar": {
              "outlinewidth": 0,
              "ticks": ""
             }
            },
            "type": "scattermapbox"
           }
          ],
          "scatterpolar": [
           {
            "marker": {
             "colorbar": {
              "outlinewidth": 0,
              "ticks": ""
             }
            },
            "type": "scatterpolar"
           }
          ],
          "scatterpolargl": [
           {
            "marker": {
             "colorbar": {
              "outlinewidth": 0,
              "ticks": ""
             }
            },
            "type": "scatterpolargl"
           }
          ],
          "scatterternary": [
           {
            "marker": {
             "colorbar": {
              "outlinewidth": 0,
              "ticks": ""
             }
            },
            "type": "scatterternary"
           }
          ],
          "surface": [
           {
            "colorbar": {
             "outlinewidth": 0,
             "ticks": ""
            },
            "colorscale": [
             [
              0,
              "#0d0887"
             ],
             [
              0.1111111111111111,
              "#46039f"
             ],
             [
              0.2222222222222222,
              "#7201a8"
             ],
             [
              0.3333333333333333,
              "#9c179e"
             ],
             [
              0.4444444444444444,
              "#bd3786"
             ],
             [
              0.5555555555555556,
              "#d8576b"
             ],
             [
              0.6666666666666666,
              "#ed7953"
             ],
             [
              0.7777777777777778,
              "#fb9f3a"
             ],
             [
              0.8888888888888888,
              "#fdca26"
             ],
             [
              1,
              "#f0f921"
             ]
            ],
            "type": "surface"
           }
          ],
          "table": [
           {
            "cells": {
             "fill": {
              "color": "#EBF0F8"
             },
             "line": {
              "color": "white"
             }
            },
            "header": {
             "fill": {
              "color": "#C8D4E3"
             },
             "line": {
              "color": "white"
             }
            },
            "type": "table"
           }
          ]
         },
         "layout": {
          "annotationdefaults": {
           "arrowcolor": "#2a3f5f",
           "arrowhead": 0,
           "arrowwidth": 1
          },
          "autotypenumbers": "strict",
          "coloraxis": {
           "colorbar": {
            "outlinewidth": 0,
            "ticks": ""
           }
          },
          "colorscale": {
           "diverging": [
            [
             0,
             "#8e0152"
            ],
            [
             0.1,
             "#c51b7d"
            ],
            [
             0.2,
             "#de77ae"
            ],
            [
             0.3,
             "#f1b6da"
            ],
            [
             0.4,
             "#fde0ef"
            ],
            [
             0.5,
             "#f7f7f7"
            ],
            [
             0.6,
             "#e6f5d0"
            ],
            [
             0.7,
             "#b8e186"
            ],
            [
             0.8,
             "#7fbc41"
            ],
            [
             0.9,
             "#4d9221"
            ],
            [
             1,
             "#276419"
            ]
           ],
           "sequential": [
            [
             0,
             "#0d0887"
            ],
            [
             0.1111111111111111,
             "#46039f"
            ],
            [
             0.2222222222222222,
             "#7201a8"
            ],
            [
             0.3333333333333333,
             "#9c179e"
            ],
            [
             0.4444444444444444,
             "#bd3786"
            ],
            [
             0.5555555555555556,
             "#d8576b"
            ],
            [
             0.6666666666666666,
             "#ed7953"
            ],
            [
             0.7777777777777778,
             "#fb9f3a"
            ],
            [
             0.8888888888888888,
             "#fdca26"
            ],
            [
             1,
             "#f0f921"
            ]
           ],
           "sequentialminus": [
            [
             0,
             "#0d0887"
            ],
            [
             0.1111111111111111,
             "#46039f"
            ],
            [
             0.2222222222222222,
             "#7201a8"
            ],
            [
             0.3333333333333333,
             "#9c179e"
            ],
            [
             0.4444444444444444,
             "#bd3786"
            ],
            [
             0.5555555555555556,
             "#d8576b"
            ],
            [
             0.6666666666666666,
             "#ed7953"
            ],
            [
             0.7777777777777778,
             "#fb9f3a"
            ],
            [
             0.8888888888888888,
             "#fdca26"
            ],
            [
             1,
             "#f0f921"
            ]
           ]
          },
          "colorway": [
           "#636efa",
           "#EF553B",
           "#00cc96",
           "#ab63fa",
           "#FFA15A",
           "#19d3f3",
           "#FF6692",
           "#B6E880",
           "#FF97FF",
           "#FECB52"
          ],
          "font": {
           "color": "#2a3f5f"
          },
          "geo": {
           "bgcolor": "white",
           "lakecolor": "white",
           "landcolor": "#E5ECF6",
           "showlakes": true,
           "showland": true,
           "subunitcolor": "white"
          },
          "hoverlabel": {
           "align": "left"
          },
          "hovermode": "closest",
          "mapbox": {
           "style": "light"
          },
          "paper_bgcolor": "white",
          "plot_bgcolor": "#E5ECF6",
          "polar": {
           "angularaxis": {
            "gridcolor": "white",
            "linecolor": "white",
            "ticks": ""
           },
           "bgcolor": "#E5ECF6",
           "radialaxis": {
            "gridcolor": "white",
            "linecolor": "white",
            "ticks": ""
           }
          },
          "scene": {
           "xaxis": {
            "backgroundcolor": "#E5ECF6",
            "gridcolor": "white",
            "gridwidth": 2,
            "linecolor": "white",
            "showbackground": true,
            "ticks": "",
            "zerolinecolor": "white"
           },
           "yaxis": {
            "backgroundcolor": "#E5ECF6",
            "gridcolor": "white",
            "gridwidth": 2,
            "linecolor": "white",
            "showbackground": true,
            "ticks": "",
            "zerolinecolor": "white"
           },
           "zaxis": {
            "backgroundcolor": "#E5ECF6",
            "gridcolor": "white",
            "gridwidth": 2,
            "linecolor": "white",
            "showbackground": true,
            "ticks": "",
            "zerolinecolor": "white"
           }
          },
          "shapedefaults": {
           "line": {
            "color": "#2a3f5f"
           }
          },
          "ternary": {
           "aaxis": {
            "gridcolor": "white",
            "linecolor": "white",
            "ticks": ""
           },
           "baxis": {
            "gridcolor": "white",
            "linecolor": "white",
            "ticks": ""
           },
           "bgcolor": "#E5ECF6",
           "caxis": {
            "gridcolor": "white",
            "linecolor": "white",
            "ticks": ""
           }
          },
          "title": {
           "x": 0.05
          },
          "xaxis": {
           "automargin": true,
           "gridcolor": "white",
           "linecolor": "white",
           "ticks": "",
           "title": {
            "standoff": 15
           },
           "zerolinecolor": "white",
           "zerolinewidth": 2
          },
          "yaxis": {
           "automargin": true,
           "gridcolor": "white",
           "linecolor": "white",
           "ticks": "",
           "title": {
            "standoff": 15
           },
           "zerolinecolor": "white",
           "zerolinewidth": 2
          }
         }
        },
        "title": {
         "text": "NBA Players by Nationality in 2023 (Excluding USA)"
        },
        "xaxis": {
         "anchor": "y",
         "domain": [
          0,
          1
         ],
         "title": {
          "text": "country"
         }
        },
        "yaxis": {
         "anchor": "x",
         "domain": [
          0,
          1
         ],
         "title": {
          "text": "count"
         }
        }
       }
      }
     },
     "metadata": {},
     "output_type": "display_data"
    },
    {
     "data": {
      "text/plain": [
       "<function __main__.update_plot(year)>"
      ]
     },
     "execution_count": 8,
     "metadata": {},
     "output_type": "execute_result"
    }
   ],
   "source": [
    "import pandas as pd\n",
    "import plotly.express as px\n",
    "from ipywidgets import interact, IntSlider\n",
    "\n",
    "\n",
    "df = pd.read_csv('common_player_info.csv')\n",
    "\n",
    "def get_players_by_year_exclude_us(df, year):\n",
    "    return df[(df['from_year'] <= year) & (df['to_year'] >= year) & (df['country'] != 'United States of America')]\n",
    "\n",
    "\n",
    "def update_plot(year):\n",
    "    filtered_df = get_players_by_year_exclude_us(df, year)\n",
    "    country_count = filtered_df['country'].value_counts().reset_index()\n",
    "    country_count.columns = ['country', 'count']\n",
    "    \n",
    "    fig = px.bar(country_count, x='country', y='count', title=f'NBA Players by Nationality in {year} (Excluding USA)')\n",
    "    fig.show()\n",
    "\n",
    "\n",
    "year_slider = IntSlider(min=df['from_year'].min(), max=df['to_year'].max(), step=1, description='Year')\n",
    "\n",
    "interact(update_plot, year=year_slider)\n"
   ]
  },
  {
   "cell_type": "markdown",
   "metadata": {},
   "source": [
    "# Avreage Height and Weight"
   ]
  },
  {
   "cell_type": "code",
   "execution_count": 20,
   "metadata": {},
   "outputs": [
    {
     "data": {
      "application/vnd.plotly.v1+json": {
       "config": {
        "plotlyServerURL": "https://plot.ly"
       },
       "data": [
        {
         "hovertemplate": "Year=%{x}<br>Average Height (in centimeters)=%{y}<extra></extra>",
         "legendgroup": "",
         "line": {
          "color": "#636efa",
          "dash": "solid"
         },
         "marker": {
          "symbol": "circle"
         },
         "mode": "lines",
         "name": "",
         "orientation": "v",
         "showlegend": false,
         "type": "scatter",
         "x": [
          1946,
          1947,
          1948,
          1949,
          1950,
          1951,
          1952,
          1953,
          1954,
          1955,
          1956,
          1957,
          1958,
          1959,
          1960,
          1961,
          1962,
          1963,
          1964,
          1965,
          1966,
          1967,
          1968,
          1969,
          1970,
          1971,
          1972,
          1973,
          1974,
          1975,
          1976,
          1977,
          1978,
          1979,
          1980,
          1981,
          1982,
          1983,
          1984,
          1985,
          1986,
          1987,
          1988,
          1989,
          1990,
          1991,
          1992,
          1993,
          1994,
          1995,
          1996,
          1997,
          1998,
          1999,
          2000,
          2001,
          2002,
          2003,
          2004,
          2005,
          2006,
          2007,
          2008,
          2009,
          2010,
          2011,
          2012,
          2013,
          2014,
          2015,
          2016,
          2017,
          2018,
          2019,
          2020,
          2021,
          2022
         ],
         "xaxis": "x",
         "y": [
          188.50290076335878,
          187.59714285714287,
          190.9445,
          190.7930769230769,
          194.21928571428572,
          192.85857142857142,
          191.90137931034485,
          194.19454545454545,
          193.91923076923075,
          195.76814814814813,
          196.35304347826087,
          193.48823529411766,
          196.7895238095238,
          197.44266666666667,
          196.77529411764704,
          194.43290322580646,
          196.96545454545455,
          195.326,
          197.4272727272727,
          195.7136842105263,
          197.3942857142857,
          196.16057142857142,
          197.97058823529412,
          196.51133333333334,
          198.5264,
          198.33166666666668,
          197.1675,
          197.8025,
          197.14723404255318,
          198.96666666666667,
          197.77242105263159,
          196.51306122448977,
          197.95787234042555,
          199.84936170212765,
          198.6923943661972,
          199.95444444444445,
          199.8578947368421,
          200.0693023255814,
          201.35725490196077,
          202.30629629629632,
          200.43719298245614,
          199.93428571428572,
          200.4141935483871,
          198.64294117647057,
          201.61770491803279,
          198.41307692307691,
          199.82961538461538,
          203.03066666666666,
          199.0164705882353,
          200.85538461538462,
          200.61620689655172,
          200.26923076923077,
          200.8414285714286,
          199.58755555555555,
          202.6825925925926,
          202.66526315789474,
          201.02285714285716,
          201.57872340425533,
          200.29714285714286,
          199.25270270270272,
          200.11292307692307,
          201.99927272727274,
          201.16799999999998,
          197.25735849056602,
          201.47796610169493,
          198.4935294117647,
          200.62520547945203,
          199.75285714285715,
          200.2864705882353,
          200.95633333333336,
          200.1921052631579,
          198.74301886792452,
          197.7886956521739,
          198.4972277227723,
          197.44481012658227,
          197.41321739130436,
          199.19757575757578
         ],
         "yaxis": "y"
        }
       ],
       "layout": {
        "legend": {
         "tracegroupgap": 0
        },
        "template": {
         "data": {
          "bar": [
           {
            "error_x": {
             "color": "#2a3f5f"
            },
            "error_y": {
             "color": "#2a3f5f"
            },
            "marker": {
             "line": {
              "color": "#E5ECF6",
              "width": 0.5
             },
             "pattern": {
              "fillmode": "overlay",
              "size": 10,
              "solidity": 0.2
             }
            },
            "type": "bar"
           }
          ],
          "barpolar": [
           {
            "marker": {
             "line": {
              "color": "#E5ECF6",
              "width": 0.5
             },
             "pattern": {
              "fillmode": "overlay",
              "size": 10,
              "solidity": 0.2
             }
            },
            "type": "barpolar"
           }
          ],
          "carpet": [
           {
            "aaxis": {
             "endlinecolor": "#2a3f5f",
             "gridcolor": "white",
             "linecolor": "white",
             "minorgridcolor": "white",
             "startlinecolor": "#2a3f5f"
            },
            "baxis": {
             "endlinecolor": "#2a3f5f",
             "gridcolor": "white",
             "linecolor": "white",
             "minorgridcolor": "white",
             "startlinecolor": "#2a3f5f"
            },
            "type": "carpet"
           }
          ],
          "choropleth": [
           {
            "colorbar": {
             "outlinewidth": 0,
             "ticks": ""
            },
            "type": "choropleth"
           }
          ],
          "contour": [
           {
            "colorbar": {
             "outlinewidth": 0,
             "ticks": ""
            },
            "colorscale": [
             [
              0,
              "#0d0887"
             ],
             [
              0.1111111111111111,
              "#46039f"
             ],
             [
              0.2222222222222222,
              "#7201a8"
             ],
             [
              0.3333333333333333,
              "#9c179e"
             ],
             [
              0.4444444444444444,
              "#bd3786"
             ],
             [
              0.5555555555555556,
              "#d8576b"
             ],
             [
              0.6666666666666666,
              "#ed7953"
             ],
             [
              0.7777777777777778,
              "#fb9f3a"
             ],
             [
              0.8888888888888888,
              "#fdca26"
             ],
             [
              1,
              "#f0f921"
             ]
            ],
            "type": "contour"
           }
          ],
          "contourcarpet": [
           {
            "colorbar": {
             "outlinewidth": 0,
             "ticks": ""
            },
            "type": "contourcarpet"
           }
          ],
          "heatmap": [
           {
            "colorbar": {
             "outlinewidth": 0,
             "ticks": ""
            },
            "colorscale": [
             [
              0,
              "#0d0887"
             ],
             [
              0.1111111111111111,
              "#46039f"
             ],
             [
              0.2222222222222222,
              "#7201a8"
             ],
             [
              0.3333333333333333,
              "#9c179e"
             ],
             [
              0.4444444444444444,
              "#bd3786"
             ],
             [
              0.5555555555555556,
              "#d8576b"
             ],
             [
              0.6666666666666666,
              "#ed7953"
             ],
             [
              0.7777777777777778,
              "#fb9f3a"
             ],
             [
              0.8888888888888888,
              "#fdca26"
             ],
             [
              1,
              "#f0f921"
             ]
            ],
            "type": "heatmap"
           }
          ],
          "heatmapgl": [
           {
            "colorbar": {
             "outlinewidth": 0,
             "ticks": ""
            },
            "colorscale": [
             [
              0,
              "#0d0887"
             ],
             [
              0.1111111111111111,
              "#46039f"
             ],
             [
              0.2222222222222222,
              "#7201a8"
             ],
             [
              0.3333333333333333,
              "#9c179e"
             ],
             [
              0.4444444444444444,
              "#bd3786"
             ],
             [
              0.5555555555555556,
              "#d8576b"
             ],
             [
              0.6666666666666666,
              "#ed7953"
             ],
             [
              0.7777777777777778,
              "#fb9f3a"
             ],
             [
              0.8888888888888888,
              "#fdca26"
             ],
             [
              1,
              "#f0f921"
             ]
            ],
            "type": "heatmapgl"
           }
          ],
          "histogram": [
           {
            "marker": {
             "pattern": {
              "fillmode": "overlay",
              "size": 10,
              "solidity": 0.2
             }
            },
            "type": "histogram"
           }
          ],
          "histogram2d": [
           {
            "colorbar": {
             "outlinewidth": 0,
             "ticks": ""
            },
            "colorscale": [
             [
              0,
              "#0d0887"
             ],
             [
              0.1111111111111111,
              "#46039f"
             ],
             [
              0.2222222222222222,
              "#7201a8"
             ],
             [
              0.3333333333333333,
              "#9c179e"
             ],
             [
              0.4444444444444444,
              "#bd3786"
             ],
             [
              0.5555555555555556,
              "#d8576b"
             ],
             [
              0.6666666666666666,
              "#ed7953"
             ],
             [
              0.7777777777777778,
              "#fb9f3a"
             ],
             [
              0.8888888888888888,
              "#fdca26"
             ],
             [
              1,
              "#f0f921"
             ]
            ],
            "type": "histogram2d"
           }
          ],
          "histogram2dcontour": [
           {
            "colorbar": {
             "outlinewidth": 0,
             "ticks": ""
            },
            "colorscale": [
             [
              0,
              "#0d0887"
             ],
             [
              0.1111111111111111,
              "#46039f"
             ],
             [
              0.2222222222222222,
              "#7201a8"
             ],
             [
              0.3333333333333333,
              "#9c179e"
             ],
             [
              0.4444444444444444,
              "#bd3786"
             ],
             [
              0.5555555555555556,
              "#d8576b"
             ],
             [
              0.6666666666666666,
              "#ed7953"
             ],
             [
              0.7777777777777778,
              "#fb9f3a"
             ],
             [
              0.8888888888888888,
              "#fdca26"
             ],
             [
              1,
              "#f0f921"
             ]
            ],
            "type": "histogram2dcontour"
           }
          ],
          "mesh3d": [
           {
            "colorbar": {
             "outlinewidth": 0,
             "ticks": ""
            },
            "type": "mesh3d"
           }
          ],
          "parcoords": [
           {
            "line": {
             "colorbar": {
              "outlinewidth": 0,
              "ticks": ""
             }
            },
            "type": "parcoords"
           }
          ],
          "pie": [
           {
            "automargin": true,
            "type": "pie"
           }
          ],
          "scatter": [
           {
            "fillpattern": {
             "fillmode": "overlay",
             "size": 10,
             "solidity": 0.2
            },
            "type": "scatter"
           }
          ],
          "scatter3d": [
           {
            "line": {
             "colorbar": {
              "outlinewidth": 0,
              "ticks": ""
             }
            },
            "marker": {
             "colorbar": {
              "outlinewidth": 0,
              "ticks": ""
             }
            },
            "type": "scatter3d"
           }
          ],
          "scattercarpet": [
           {
            "marker": {
             "colorbar": {
              "outlinewidth": 0,
              "ticks": ""
             }
            },
            "type": "scattercarpet"
           }
          ],
          "scattergeo": [
           {
            "marker": {
             "colorbar": {
              "outlinewidth": 0,
              "ticks": ""
             }
            },
            "type": "scattergeo"
           }
          ],
          "scattergl": [
           {
            "marker": {
             "colorbar": {
              "outlinewidth": 0,
              "ticks": ""
             }
            },
            "type": "scattergl"
           }
          ],
          "scattermapbox": [
           {
            "marker": {
             "colorbar": {
              "outlinewidth": 0,
              "ticks": ""
             }
            },
            "type": "scattermapbox"
           }
          ],
          "scatterpolar": [
           {
            "marker": {
             "colorbar": {
              "outlinewidth": 0,
              "ticks": ""
             }
            },
            "type": "scatterpolar"
           }
          ],
          "scatterpolargl": [
           {
            "marker": {
             "colorbar": {
              "outlinewidth": 0,
              "ticks": ""
             }
            },
            "type": "scatterpolargl"
           }
          ],
          "scatterternary": [
           {
            "marker": {
             "colorbar": {
              "outlinewidth": 0,
              "ticks": ""
             }
            },
            "type": "scatterternary"
           }
          ],
          "surface": [
           {
            "colorbar": {
             "outlinewidth": 0,
             "ticks": ""
            },
            "colorscale": [
             [
              0,
              "#0d0887"
             ],
             [
              0.1111111111111111,
              "#46039f"
             ],
             [
              0.2222222222222222,
              "#7201a8"
             ],
             [
              0.3333333333333333,
              "#9c179e"
             ],
             [
              0.4444444444444444,
              "#bd3786"
             ],
             [
              0.5555555555555556,
              "#d8576b"
             ],
             [
              0.6666666666666666,
              "#ed7953"
             ],
             [
              0.7777777777777778,
              "#fb9f3a"
             ],
             [
              0.8888888888888888,
              "#fdca26"
             ],
             [
              1,
              "#f0f921"
             ]
            ],
            "type": "surface"
           }
          ],
          "table": [
           {
            "cells": {
             "fill": {
              "color": "#EBF0F8"
             },
             "line": {
              "color": "white"
             }
            },
            "header": {
             "fill": {
              "color": "#C8D4E3"
             },
             "line": {
              "color": "white"
             }
            },
            "type": "table"
           }
          ]
         },
         "layout": {
          "annotationdefaults": {
           "arrowcolor": "#2a3f5f",
           "arrowhead": 0,
           "arrowwidth": 1
          },
          "autotypenumbers": "strict",
          "coloraxis": {
           "colorbar": {
            "outlinewidth": 0,
            "ticks": ""
           }
          },
          "colorscale": {
           "diverging": [
            [
             0,
             "#8e0152"
            ],
            [
             0.1,
             "#c51b7d"
            ],
            [
             0.2,
             "#de77ae"
            ],
            [
             0.3,
             "#f1b6da"
            ],
            [
             0.4,
             "#fde0ef"
            ],
            [
             0.5,
             "#f7f7f7"
            ],
            [
             0.6,
             "#e6f5d0"
            ],
            [
             0.7,
             "#b8e186"
            ],
            [
             0.8,
             "#7fbc41"
            ],
            [
             0.9,
             "#4d9221"
            ],
            [
             1,
             "#276419"
            ]
           ],
           "sequential": [
            [
             0,
             "#0d0887"
            ],
            [
             0.1111111111111111,
             "#46039f"
            ],
            [
             0.2222222222222222,
             "#7201a8"
            ],
            [
             0.3333333333333333,
             "#9c179e"
            ],
            [
             0.4444444444444444,
             "#bd3786"
            ],
            [
             0.5555555555555556,
             "#d8576b"
            ],
            [
             0.6666666666666666,
             "#ed7953"
            ],
            [
             0.7777777777777778,
             "#fb9f3a"
            ],
            [
             0.8888888888888888,
             "#fdca26"
            ],
            [
             1,
             "#f0f921"
            ]
           ],
           "sequentialminus": [
            [
             0,
             "#0d0887"
            ],
            [
             0.1111111111111111,
             "#46039f"
            ],
            [
             0.2222222222222222,
             "#7201a8"
            ],
            [
             0.3333333333333333,
             "#9c179e"
            ],
            [
             0.4444444444444444,
             "#bd3786"
            ],
            [
             0.5555555555555556,
             "#d8576b"
            ],
            [
             0.6666666666666666,
             "#ed7953"
            ],
            [
             0.7777777777777778,
             "#fb9f3a"
            ],
            [
             0.8888888888888888,
             "#fdca26"
            ],
            [
             1,
             "#f0f921"
            ]
           ]
          },
          "colorway": [
           "#636efa",
           "#EF553B",
           "#00cc96",
           "#ab63fa",
           "#FFA15A",
           "#19d3f3",
           "#FF6692",
           "#B6E880",
           "#FF97FF",
           "#FECB52"
          ],
          "font": {
           "color": "#2a3f5f"
          },
          "geo": {
           "bgcolor": "white",
           "lakecolor": "white",
           "landcolor": "#E5ECF6",
           "showlakes": true,
           "showland": true,
           "subunitcolor": "white"
          },
          "hoverlabel": {
           "align": "left"
          },
          "hovermode": "closest",
          "mapbox": {
           "style": "light"
          },
          "paper_bgcolor": "white",
          "plot_bgcolor": "#E5ECF6",
          "polar": {
           "angularaxis": {
            "gridcolor": "white",
            "linecolor": "white",
            "ticks": ""
           },
           "bgcolor": "#E5ECF6",
           "radialaxis": {
            "gridcolor": "white",
            "linecolor": "white",
            "ticks": ""
           }
          },
          "scene": {
           "xaxis": {
            "backgroundcolor": "#E5ECF6",
            "gridcolor": "white",
            "gridwidth": 2,
            "linecolor": "white",
            "showbackground": true,
            "ticks": "",
            "zerolinecolor": "white"
           },
           "yaxis": {
            "backgroundcolor": "#E5ECF6",
            "gridcolor": "white",
            "gridwidth": 2,
            "linecolor": "white",
            "showbackground": true,
            "ticks": "",
            "zerolinecolor": "white"
           },
           "zaxis": {
            "backgroundcolor": "#E5ECF6",
            "gridcolor": "white",
            "gridwidth": 2,
            "linecolor": "white",
            "showbackground": true,
            "ticks": "",
            "zerolinecolor": "white"
           }
          },
          "shapedefaults": {
           "line": {
            "color": "#2a3f5f"
           }
          },
          "ternary": {
           "aaxis": {
            "gridcolor": "white",
            "linecolor": "white",
            "ticks": ""
           },
           "baxis": {
            "gridcolor": "white",
            "linecolor": "white",
            "ticks": ""
           },
           "bgcolor": "#E5ECF6",
           "caxis": {
            "gridcolor": "white",
            "linecolor": "white",
            "ticks": ""
           }
          },
          "title": {
           "x": 0.05
          },
          "xaxis": {
           "automargin": true,
           "gridcolor": "white",
           "linecolor": "white",
           "ticks": "",
           "title": {
            "standoff": 15
           },
           "zerolinecolor": "white",
           "zerolinewidth": 2
          },
          "yaxis": {
           "automargin": true,
           "gridcolor": "white",
           "linecolor": "white",
           "ticks": "",
           "title": {
            "standoff": 15
           },
           "zerolinecolor": "white",
           "zerolinewidth": 2
          }
         }
        },
        "title": {
         "text": "Average Height of NBA Players Over the Years"
        },
        "xaxis": {
         "anchor": "y",
         "domain": [
          0,
          1
         ],
         "title": {
          "text": "Year"
         }
        },
        "yaxis": {
         "anchor": "x",
         "domain": [
          0,
          1
         ],
         "title": {
          "text": "Average Height (in centimeters)"
         }
        }
       }
      }
     },
     "metadata": {},
     "output_type": "display_data"
    }
   ],
   "source": [
    "import pandas as pd\n",
    "import plotly.express as px\n",
    "\n",
    "\n",
    "df = pd.read_csv('common_player_info.csv')\n",
    "\n",
    "\n",
    "def convert_height(height):\n",
    "    if isinstance(height, str):  \n",
    "        feet, inches = map(int, height.split('-'))\n",
    "        return (feet * 12 + inches)*2.54 \n",
    "    else:\n",
    "        return None  \n",
    "\n",
    "\n",
    "df['height'] = df['height'].apply(convert_height)\n",
    "\n",
    "df = df.dropna(subset=['height'])\n",
    "\n",
    "\n",
    "df_avg = df.groupby('from_year')['height'].mean().reset_index()\n",
    "\n",
    "\n",
    "fig = px.line(df_avg, x='from_year', y='height', labels={'from_year':'Year', 'height':'Average Height (in centimeters)'}, title='Average Height of NBA Players Over the Years')\n",
    "fig.show()"
   ]
  },
  {
   "cell_type": "code",
   "execution_count": 21,
   "metadata": {},
   "outputs": [
    {
     "data": {
      "application/vnd.plotly.v1+json": {
       "config": {
        "plotlyServerURL": "https://plot.ly"
       },
       "data": [
        {
         "hovertemplate": "Year=%{x}<br>weight=%{y}<extra></extra>",
         "legendgroup": "",
         "line": {
          "color": "#636efa",
          "dash": "solid"
         },
         "marker": {
          "symbol": "circle"
         },
         "mode": "lines",
         "name": "",
         "orientation": "v",
         "showlegend": false,
         "type": "scatter",
         "x": [
          1946,
          1947,
          1948,
          1949,
          1950,
          1951,
          1952,
          1953,
          1954,
          1955,
          1956,
          1957,
          1958,
          1959,
          1960,
          1961,
          1962,
          1963,
          1964,
          1965,
          1966,
          1967,
          1968,
          1969,
          1970,
          1971,
          1972,
          1973,
          1974,
          1975,
          1976,
          1977,
          1978,
          1979,
          1980,
          1981,
          1982,
          1983,
          1984,
          1985,
          1986,
          1987,
          1988,
          1989,
          1990,
          1991,
          1992,
          1993,
          1994,
          1995,
          1996,
          1997,
          1998,
          1999,
          2000,
          2001,
          2002,
          2003,
          2004,
          2005,
          2006,
          2007,
          2008,
          2009,
          2010,
          2011,
          2012,
          2013,
          2014,
          2015,
          2016,
          2017,
          2018,
          2019,
          2020,
          2021,
          2022
         ],
         "xaxis": "x",
         "y": [
          85.48464615384616,
          82.58614342857142,
          87.4695473,
          86.15579811764705,
          89.29282514285714,
          88.04544714285714,
          88.66941544827586,
          89.11665325,
          88.43299415384614,
          92.26397274074073,
          91.78335513043477,
          89.5443971764706,
          93.18075657142856,
          94.347136,
          91.43881082352941,
          91.33294400000001,
          91.76303612121211,
          91.1946716,
          94.53269636363638,
          91.72107705263159,
          91.26919028571429,
          91.87181965714285,
          93.3999291764706,
          89.79609626666667,
          93.87540031999998,
          93.33915377777777,
          90.19676919999999,
          90.8431378,
          89.82086689361702,
          93.30891431111112,
          90.78047048421053,
          90.47771853061224,
          92.36870280851063,
          93.74878059574468,
          91.06977408450705,
          93.77594607407407,
          93.8457974736842,
          94.60030362790698,
          97.23767325490196,
          97.59787866666666,
          95.77953178947368,
          96.19853191836735,
          96.980896,
          96.11481070588235,
          100.10998518032787,
          96.841892,
          101.36908907692307,
          103.04854253333333,
          97.62900752941175,
          102.07215667692307,
          101.65153131034484,
          100.48807384615384,
          100.96471928571428,
          100.38494951111112,
          104.06576459259259,
          104.61263915789473,
          101.23741447619048,
          102.77236612765957,
          101.34541257142857,
          99.37342572972973,
          100.86490412307693,
          101.88501032727272,
          102.1489184,
          97.98443033962263,
          103.265216,
          98.6762714117647,
          101.10130728767123,
          97.36028285714285,
          100.92421999999999,
          100.41770893333333,
          98.23250957894737,
          97.02589630188679,
          96.48197660869565,
          97.24832839603961,
          95.67346197468355,
          93.74366142608696,
          97.15115927272727
         ],
         "yaxis": "y"
        }
       ],
       "layout": {
        "legend": {
         "tracegroupgap": 0
        },
        "template": {
         "data": {
          "bar": [
           {
            "error_x": {
             "color": "#2a3f5f"
            },
            "error_y": {
             "color": "#2a3f5f"
            },
            "marker": {
             "line": {
              "color": "#E5ECF6",
              "width": 0.5
             },
             "pattern": {
              "fillmode": "overlay",
              "size": 10,
              "solidity": 0.2
             }
            },
            "type": "bar"
           }
          ],
          "barpolar": [
           {
            "marker": {
             "line": {
              "color": "#E5ECF6",
              "width": 0.5
             },
             "pattern": {
              "fillmode": "overlay",
              "size": 10,
              "solidity": 0.2
             }
            },
            "type": "barpolar"
           }
          ],
          "carpet": [
           {
            "aaxis": {
             "endlinecolor": "#2a3f5f",
             "gridcolor": "white",
             "linecolor": "white",
             "minorgridcolor": "white",
             "startlinecolor": "#2a3f5f"
            },
            "baxis": {
             "endlinecolor": "#2a3f5f",
             "gridcolor": "white",
             "linecolor": "white",
             "minorgridcolor": "white",
             "startlinecolor": "#2a3f5f"
            },
            "type": "carpet"
           }
          ],
          "choropleth": [
           {
            "colorbar": {
             "outlinewidth": 0,
             "ticks": ""
            },
            "type": "choropleth"
           }
          ],
          "contour": [
           {
            "colorbar": {
             "outlinewidth": 0,
             "ticks": ""
            },
            "colorscale": [
             [
              0,
              "#0d0887"
             ],
             [
              0.1111111111111111,
              "#46039f"
             ],
             [
              0.2222222222222222,
              "#7201a8"
             ],
             [
              0.3333333333333333,
              "#9c179e"
             ],
             [
              0.4444444444444444,
              "#bd3786"
             ],
             [
              0.5555555555555556,
              "#d8576b"
             ],
             [
              0.6666666666666666,
              "#ed7953"
             ],
             [
              0.7777777777777778,
              "#fb9f3a"
             ],
             [
              0.8888888888888888,
              "#fdca26"
             ],
             [
              1,
              "#f0f921"
             ]
            ],
            "type": "contour"
           }
          ],
          "contourcarpet": [
           {
            "colorbar": {
             "outlinewidth": 0,
             "ticks": ""
            },
            "type": "contourcarpet"
           }
          ],
          "heatmap": [
           {
            "colorbar": {
             "outlinewidth": 0,
             "ticks": ""
            },
            "colorscale": [
             [
              0,
              "#0d0887"
             ],
             [
              0.1111111111111111,
              "#46039f"
             ],
             [
              0.2222222222222222,
              "#7201a8"
             ],
             [
              0.3333333333333333,
              "#9c179e"
             ],
             [
              0.4444444444444444,
              "#bd3786"
             ],
             [
              0.5555555555555556,
              "#d8576b"
             ],
             [
              0.6666666666666666,
              "#ed7953"
             ],
             [
              0.7777777777777778,
              "#fb9f3a"
             ],
             [
              0.8888888888888888,
              "#fdca26"
             ],
             [
              1,
              "#f0f921"
             ]
            ],
            "type": "heatmap"
           }
          ],
          "heatmapgl": [
           {
            "colorbar": {
             "outlinewidth": 0,
             "ticks": ""
            },
            "colorscale": [
             [
              0,
              "#0d0887"
             ],
             [
              0.1111111111111111,
              "#46039f"
             ],
             [
              0.2222222222222222,
              "#7201a8"
             ],
             [
              0.3333333333333333,
              "#9c179e"
             ],
             [
              0.4444444444444444,
              "#bd3786"
             ],
             [
              0.5555555555555556,
              "#d8576b"
             ],
             [
              0.6666666666666666,
              "#ed7953"
             ],
             [
              0.7777777777777778,
              "#fb9f3a"
             ],
             [
              0.8888888888888888,
              "#fdca26"
             ],
             [
              1,
              "#f0f921"
             ]
            ],
            "type": "heatmapgl"
           }
          ],
          "histogram": [
           {
            "marker": {
             "pattern": {
              "fillmode": "overlay",
              "size": 10,
              "solidity": 0.2
             }
            },
            "type": "histogram"
           }
          ],
          "histogram2d": [
           {
            "colorbar": {
             "outlinewidth": 0,
             "ticks": ""
            },
            "colorscale": [
             [
              0,
              "#0d0887"
             ],
             [
              0.1111111111111111,
              "#46039f"
             ],
             [
              0.2222222222222222,
              "#7201a8"
             ],
             [
              0.3333333333333333,
              "#9c179e"
             ],
             [
              0.4444444444444444,
              "#bd3786"
             ],
             [
              0.5555555555555556,
              "#d8576b"
             ],
             [
              0.6666666666666666,
              "#ed7953"
             ],
             [
              0.7777777777777778,
              "#fb9f3a"
             ],
             [
              0.8888888888888888,
              "#fdca26"
             ],
             [
              1,
              "#f0f921"
             ]
            ],
            "type": "histogram2d"
           }
          ],
          "histogram2dcontour": [
           {
            "colorbar": {
             "outlinewidth": 0,
             "ticks": ""
            },
            "colorscale": [
             [
              0,
              "#0d0887"
             ],
             [
              0.1111111111111111,
              "#46039f"
             ],
             [
              0.2222222222222222,
              "#7201a8"
             ],
             [
              0.3333333333333333,
              "#9c179e"
             ],
             [
              0.4444444444444444,
              "#bd3786"
             ],
             [
              0.5555555555555556,
              "#d8576b"
             ],
             [
              0.6666666666666666,
              "#ed7953"
             ],
             [
              0.7777777777777778,
              "#fb9f3a"
             ],
             [
              0.8888888888888888,
              "#fdca26"
             ],
             [
              1,
              "#f0f921"
             ]
            ],
            "type": "histogram2dcontour"
           }
          ],
          "mesh3d": [
           {
            "colorbar": {
             "outlinewidth": 0,
             "ticks": ""
            },
            "type": "mesh3d"
           }
          ],
          "parcoords": [
           {
            "line": {
             "colorbar": {
              "outlinewidth": 0,
              "ticks": ""
             }
            },
            "type": "parcoords"
           }
          ],
          "pie": [
           {
            "automargin": true,
            "type": "pie"
           }
          ],
          "scatter": [
           {
            "fillpattern": {
             "fillmode": "overlay",
             "size": 10,
             "solidity": 0.2
            },
            "type": "scatter"
           }
          ],
          "scatter3d": [
           {
            "line": {
             "colorbar": {
              "outlinewidth": 0,
              "ticks": ""
             }
            },
            "marker": {
             "colorbar": {
              "outlinewidth": 0,
              "ticks": ""
             }
            },
            "type": "scatter3d"
           }
          ],
          "scattercarpet": [
           {
            "marker": {
             "colorbar": {
              "outlinewidth": 0,
              "ticks": ""
             }
            },
            "type": "scattercarpet"
           }
          ],
          "scattergeo": [
           {
            "marker": {
             "colorbar": {
              "outlinewidth": 0,
              "ticks": ""
             }
            },
            "type": "scattergeo"
           }
          ],
          "scattergl": [
           {
            "marker": {
             "colorbar": {
              "outlinewidth": 0,
              "ticks": ""
             }
            },
            "type": "scattergl"
           }
          ],
          "scattermapbox": [
           {
            "marker": {
             "colorbar": {
              "outlinewidth": 0,
              "ticks": ""
             }
            },
            "type": "scattermapbox"
           }
          ],
          "scatterpolar": [
           {
            "marker": {
             "colorbar": {
              "outlinewidth": 0,
              "ticks": ""
             }
            },
            "type": "scatterpolar"
           }
          ],
          "scatterpolargl": [
           {
            "marker": {
             "colorbar": {
              "outlinewidth": 0,
              "ticks": ""
             }
            },
            "type": "scatterpolargl"
           }
          ],
          "scatterternary": [
           {
            "marker": {
             "colorbar": {
              "outlinewidth": 0,
              "ticks": ""
             }
            },
            "type": "scatterternary"
           }
          ],
          "surface": [
           {
            "colorbar": {
             "outlinewidth": 0,
             "ticks": ""
            },
            "colorscale": [
             [
              0,
              "#0d0887"
             ],
             [
              0.1111111111111111,
              "#46039f"
             ],
             [
              0.2222222222222222,
              "#7201a8"
             ],
             [
              0.3333333333333333,
              "#9c179e"
             ],
             [
              0.4444444444444444,
              "#bd3786"
             ],
             [
              0.5555555555555556,
              "#d8576b"
             ],
             [
              0.6666666666666666,
              "#ed7953"
             ],
             [
              0.7777777777777778,
              "#fb9f3a"
             ],
             [
              0.8888888888888888,
              "#fdca26"
             ],
             [
              1,
              "#f0f921"
             ]
            ],
            "type": "surface"
           }
          ],
          "table": [
           {
            "cells": {
             "fill": {
              "color": "#EBF0F8"
             },
             "line": {
              "color": "white"
             }
            },
            "header": {
             "fill": {
              "color": "#C8D4E3"
             },
             "line": {
              "color": "white"
             }
            },
            "type": "table"
           }
          ]
         },
         "layout": {
          "annotationdefaults": {
           "arrowcolor": "#2a3f5f",
           "arrowhead": 0,
           "arrowwidth": 1
          },
          "autotypenumbers": "strict",
          "coloraxis": {
           "colorbar": {
            "outlinewidth": 0,
            "ticks": ""
           }
          },
          "colorscale": {
           "diverging": [
            [
             0,
             "#8e0152"
            ],
            [
             0.1,
             "#c51b7d"
            ],
            [
             0.2,
             "#de77ae"
            ],
            [
             0.3,
             "#f1b6da"
            ],
            [
             0.4,
             "#fde0ef"
            ],
            [
             0.5,
             "#f7f7f7"
            ],
            [
             0.6,
             "#e6f5d0"
            ],
            [
             0.7,
             "#b8e186"
            ],
            [
             0.8,
             "#7fbc41"
            ],
            [
             0.9,
             "#4d9221"
            ],
            [
             1,
             "#276419"
            ]
           ],
           "sequential": [
            [
             0,
             "#0d0887"
            ],
            [
             0.1111111111111111,
             "#46039f"
            ],
            [
             0.2222222222222222,
             "#7201a8"
            ],
            [
             0.3333333333333333,
             "#9c179e"
            ],
            [
             0.4444444444444444,
             "#bd3786"
            ],
            [
             0.5555555555555556,
             "#d8576b"
            ],
            [
             0.6666666666666666,
             "#ed7953"
            ],
            [
             0.7777777777777778,
             "#fb9f3a"
            ],
            [
             0.8888888888888888,
             "#fdca26"
            ],
            [
             1,
             "#f0f921"
            ]
           ],
           "sequentialminus": [
            [
             0,
             "#0d0887"
            ],
            [
             0.1111111111111111,
             "#46039f"
            ],
            [
             0.2222222222222222,
             "#7201a8"
            ],
            [
             0.3333333333333333,
             "#9c179e"
            ],
            [
             0.4444444444444444,
             "#bd3786"
            ],
            [
             0.5555555555555556,
             "#d8576b"
            ],
            [
             0.6666666666666666,
             "#ed7953"
            ],
            [
             0.7777777777777778,
             "#fb9f3a"
            ],
            [
             0.8888888888888888,
             "#fdca26"
            ],
            [
             1,
             "#f0f921"
            ]
           ]
          },
          "colorway": [
           "#636efa",
           "#EF553B",
           "#00cc96",
           "#ab63fa",
           "#FFA15A",
           "#19d3f3",
           "#FF6692",
           "#B6E880",
           "#FF97FF",
           "#FECB52"
          ],
          "font": {
           "color": "#2a3f5f"
          },
          "geo": {
           "bgcolor": "white",
           "lakecolor": "white",
           "landcolor": "#E5ECF6",
           "showlakes": true,
           "showland": true,
           "subunitcolor": "white"
          },
          "hoverlabel": {
           "align": "left"
          },
          "hovermode": "closest",
          "mapbox": {
           "style": "light"
          },
          "paper_bgcolor": "white",
          "plot_bgcolor": "#E5ECF6",
          "polar": {
           "angularaxis": {
            "gridcolor": "white",
            "linecolor": "white",
            "ticks": ""
           },
           "bgcolor": "#E5ECF6",
           "radialaxis": {
            "gridcolor": "white",
            "linecolor": "white",
            "ticks": ""
           }
          },
          "scene": {
           "xaxis": {
            "backgroundcolor": "#E5ECF6",
            "gridcolor": "white",
            "gridwidth": 2,
            "linecolor": "white",
            "showbackground": true,
            "ticks": "",
            "zerolinecolor": "white"
           },
           "yaxis": {
            "backgroundcolor": "#E5ECF6",
            "gridcolor": "white",
            "gridwidth": 2,
            "linecolor": "white",
            "showbackground": true,
            "ticks": "",
            "zerolinecolor": "white"
           },
           "zaxis": {
            "backgroundcolor": "#E5ECF6",
            "gridcolor": "white",
            "gridwidth": 2,
            "linecolor": "white",
            "showbackground": true,
            "ticks": "",
            "zerolinecolor": "white"
           }
          },
          "shapedefaults": {
           "line": {
            "color": "#2a3f5f"
           }
          },
          "ternary": {
           "aaxis": {
            "gridcolor": "white",
            "linecolor": "white",
            "ticks": ""
           },
           "baxis": {
            "gridcolor": "white",
            "linecolor": "white",
            "ticks": ""
           },
           "bgcolor": "#E5ECF6",
           "caxis": {
            "gridcolor": "white",
            "linecolor": "white",
            "ticks": ""
           }
          },
          "title": {
           "x": 0.05
          },
          "xaxis": {
           "automargin": true,
           "gridcolor": "white",
           "linecolor": "white",
           "ticks": "",
           "title": {
            "standoff": 15
           },
           "zerolinecolor": "white",
           "zerolinewidth": 2
          },
          "yaxis": {
           "automargin": true,
           "gridcolor": "white",
           "linecolor": "white",
           "ticks": "",
           "title": {
            "standoff": 15
           },
           "zerolinecolor": "white",
           "zerolinewidth": 2
          }
         }
        },
        "title": {
         "text": "Average weight of NBA Players Over the Years"
        },
        "xaxis": {
         "anchor": "y",
         "domain": [
          0,
          1
         ],
         "title": {
          "text": "Year"
         }
        },
        "yaxis": {
         "anchor": "x",
         "domain": [
          0,
          1
         ],
         "title": {
          "text": "weight"
         }
        }
       }
      }
     },
     "metadata": {},
     "output_type": "display_data"
    }
   ],
   "source": [
    "df = pd.read_csv('common_player_info.csv')\n",
    "def convert_height(weight):\n",
    "    return weight*0.453592\n",
    "\n",
    "\n",
    "df['weight'] = df['weight'].apply(convert_height)\n",
    "\n",
    "\n",
    "df = df.dropna(subset=['weight'])\n",
    "\n",
    "\n",
    "df_avg = df.groupby('from_year')['weight'].mean().reset_index()\n",
    "\n",
    "\n",
    "fig = px.line(df_avg, x='from_year', y='weight', labels={'from_year':'Year', 'height':'Average weight (in KG)'}, title='Average weight of NBA Players Over the Years')\n",
    "fig.show()"
   ]
  }
 ],
 "metadata": {
  "kernelspec": {
   "display_name": "Python 3",
   "language": "python",
   "name": "python3"
  },
  "language_info": {
   "codemirror_mode": {
    "name": "ipython",
    "version": 3
   },
   "file_extension": ".py",
   "mimetype": "text/x-python",
   "name": "python",
   "nbconvert_exporter": "python",
   "pygments_lexer": "ipython3",
   "version": "3.11.6"
  }
 },
 "nbformat": 4,
 "nbformat_minor": 2
}
